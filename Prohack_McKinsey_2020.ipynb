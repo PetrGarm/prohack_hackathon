{
  "nbformat": 4,
  "nbformat_minor": 0,
  "metadata": {
    "colab": {
      "name": "Prohack-McKinsey-2020.ipynb",
      "provenance": [],
      "collapsed_sections": [],
      "toc_visible": true
    },
    "kernelspec": {
      "name": "python3",
      "display_name": "Python 3"
    }
  },
  "cells": [
    {
      "cell_type": "code",
      "metadata": {
        "id": "LPzprGhf6U0S",
        "colab_type": "code",
        "colab": {}
      },
      "source": [
        "import numpy as np\n",
        "import pandas as pd\n",
        "\n",
        "import matplotlib.pyplot as plt\n",
        "%matplotlib inline \n",
        "\n",
        "\n",
        "from sklearn.impute import KNNImputer\n",
        "from sklearn.preprocessing import OneHotEncoder\n",
        "\n",
        "from sklearn.linear_model import LogisticRegression\n",
        "from sklearn.linear_model import LinearRegression"
      ],
      "execution_count": 0,
      "outputs": []
    },
    {
      "cell_type": "code",
      "metadata": {
        "id": "EyXme6RW6kVp",
        "colab_type": "code",
        "colab": {}
      },
      "source": [
        "train = pd.read_csv(\"train.csv\")\n",
        "test = pd.read_csv(\"test.csv\")\n",
        "sample_submit = pd.read_csv(\"sample_submit.csv\")"
      ],
      "execution_count": 0,
      "outputs": []
    },
    {
      "cell_type": "code",
      "metadata": {
        "id": "ltqNpYp66vDM",
        "colab_type": "code",
        "outputId": "315c8e23-78ee-45c0-ec2e-e9078ce3d2be",
        "colab": {
          "base_uri": "https://localhost:8080/",
          "height": 428
        }
      },
      "source": [
        "train.head()"
      ],
      "execution_count": 5,
      "outputs": [
        {
          "output_type": "execute_result",
          "data": {
            "text/html": [
              "<div>\n",
              "<style scoped>\n",
              "    .dataframe tbody tr th:only-of-type {\n",
              "        vertical-align: middle;\n",
              "    }\n",
              "\n",
              "    .dataframe tbody tr th {\n",
              "        vertical-align: top;\n",
              "    }\n",
              "\n",
              "    .dataframe thead th {\n",
              "        text-align: right;\n",
              "    }\n",
              "</style>\n",
              "<table border=\"1\" class=\"dataframe\">\n",
              "  <thead>\n",
              "    <tr style=\"text-align: right;\">\n",
              "      <th></th>\n",
              "      <th>galactic year</th>\n",
              "      <th>galaxy</th>\n",
              "      <th>existence expectancy index</th>\n",
              "      <th>existence expectancy at birth</th>\n",
              "      <th>Gross income per capita</th>\n",
              "      <th>Income Index</th>\n",
              "      <th>Expected years of education (galactic years)</th>\n",
              "      <th>Mean years of education (galactic years)</th>\n",
              "      <th>Intergalactic Development Index (IDI)</th>\n",
              "      <th>Education Index</th>\n",
              "      <th>Intergalactic Development Index (IDI), Rank</th>\n",
              "      <th>Population using at least basic drinking-water services (%)</th>\n",
              "      <th>Population using at least basic sanitation services (%)</th>\n",
              "      <th>Gross capital formation (% of GGP)</th>\n",
              "      <th>Population, total (millions)</th>\n",
              "      <th>Population, urban (%)</th>\n",
              "      <th>Mortality rate, under-five (per 1,000 live births)</th>\n",
              "      <th>Mortality rate, infant (per 1,000 live births)</th>\n",
              "      <th>Old age dependency ratio (old age (65 and older) per 100 creatures (ages 15-64))</th>\n",
              "      <th>Population, ages 15–64 (millions)</th>\n",
              "      <th>Population, ages 65 and older (millions)</th>\n",
              "      <th>Life expectancy at birth, male (galactic years)</th>\n",
              "      <th>Life expectancy at birth, female (galactic years)</th>\n",
              "      <th>Population, under age 5 (millions)</th>\n",
              "      <th>Young age (0-14) dependency ratio (per 100 creatures ages 15-64)</th>\n",
              "      <th>Adolescent birth rate (births per 1,000 female creatures ages 15-19)</th>\n",
              "      <th>Total unemployment rate (female to male ratio)</th>\n",
              "      <th>Vulnerable employment (% of total employment)</th>\n",
              "      <th>Unemployment, total (% of labour force)</th>\n",
              "      <th>Employment in agriculture (% of total employment)</th>\n",
              "      <th>Labour force participation rate (% ages 15 and older)</th>\n",
              "      <th>Labour force participation rate (% ages 15 and older), female</th>\n",
              "      <th>Employment in services (% of total employment)</th>\n",
              "      <th>Labour force participation rate (% ages 15 and older), male</th>\n",
              "      <th>Employment to population ratio (% ages 15 and older)</th>\n",
              "      <th>Jungle area (% of total land area)</th>\n",
              "      <th>Share of employment in nonagriculture, female (% of total employment in nonagriculture)</th>\n",
              "      <th>Youth unemployment rate (female to male ratio)</th>\n",
              "      <th>Unemployment, youth (% ages 15–24)</th>\n",
              "      <th>Mortality rate, female grown up (per 1,000 people)</th>\n",
              "      <th>Mortality rate, male grown up (per 1,000 people)</th>\n",
              "      <th>Infants lacking immunization, red hot disease (% of one-galactic year-olds)</th>\n",
              "      <th>Infants lacking immunization, Combination Vaccine (% of one-galactic year-olds)</th>\n",
              "      <th>Gross galactic product (GGP) per capita</th>\n",
              "      <th>Gross galactic product (GGP), total</th>\n",
              "      <th>Outer Galaxies direct investment, net inflows (% of GGP)</th>\n",
              "      <th>Exports and imports (% of GGP)</th>\n",
              "      <th>Share of seats in senate (% held by female)</th>\n",
              "      <th>Natural resource depletion</th>\n",
              "      <th>Mean years of education, female (galactic years)</th>\n",
              "      <th>Mean years of education, male (galactic years)</th>\n",
              "      <th>Expected years of education, female (galactic years)</th>\n",
              "      <th>Expected years of education, male (galactic years)</th>\n",
              "      <th>Maternal mortality ratio (deaths per 100,000 live births)</th>\n",
              "      <th>Renewable energy consumption (% of total final energy consumption)</th>\n",
              "      <th>Estimated gross galactic income per capita, male</th>\n",
              "      <th>Estimated gross galactic income per capita, female</th>\n",
              "      <th>Rural population with access to electricity (%)</th>\n",
              "      <th>Domestic credit provided by financial sector (% of GGP)</th>\n",
              "      <th>Population with at least some secondary education, female (% ages 25 and older)</th>\n",
              "      <th>Population with at least some secondary education, male (% ages 25 and older)</th>\n",
              "      <th>Gross fixed capital formation (% of GGP)</th>\n",
              "      <th>Remittances, inflows (% of GGP)</th>\n",
              "      <th>Population with at least some secondary education (% ages 25 and older)</th>\n",
              "      <th>Intergalactic inbound tourists (thousands)</th>\n",
              "      <th>Gross enrolment ratio, primary (% of primary under-age population)</th>\n",
              "      <th>Respiratory disease incidence (per 100,000 people)</th>\n",
              "      <th>Interstellar phone subscriptions (per 100 people)</th>\n",
              "      <th>Interstellar Data Net users, total (% of population)</th>\n",
              "      <th>Current health expenditure (% of GGP)</th>\n",
              "      <th>Intergalactic Development Index (IDI), female</th>\n",
              "      <th>Intergalactic Development Index (IDI), male</th>\n",
              "      <th>Gender Development Index (GDI)</th>\n",
              "      <th>Intergalactic Development Index (IDI), female, Rank</th>\n",
              "      <th>Intergalactic Development Index (IDI), male, Rank</th>\n",
              "      <th>Adjusted net savings</th>\n",
              "      <th>Creature Immunodeficiency Disease prevalence, adult (% ages 15-49), total</th>\n",
              "      <th>Private galaxy capital flows (% of GGP)</th>\n",
              "      <th>Gender Inequality Index (GII)</th>\n",
              "      <th>y</th>\n",
              "    </tr>\n",
              "  </thead>\n",
              "  <tbody>\n",
              "    <tr>\n",
              "      <th>0</th>\n",
              "      <td>990025</td>\n",
              "      <td>Large Magellanic Cloud (LMC)</td>\n",
              "      <td>0.628657</td>\n",
              "      <td>63.125200</td>\n",
              "      <td>27109.234310</td>\n",
              "      <td>0.646039</td>\n",
              "      <td>8.240543</td>\n",
              "      <td>NaN</td>\n",
              "      <td>NaN</td>\n",
              "      <td>NaN</td>\n",
              "      <td>NaN</td>\n",
              "      <td>NaN</td>\n",
              "      <td>NaN</td>\n",
              "      <td>38.305483</td>\n",
              "      <td>681.841086</td>\n",
              "      <td>22.131436</td>\n",
              "      <td>150.259290</td>\n",
              "      <td>129.841789</td>\n",
              "      <td>12.403812</td>\n",
              "      <td>490.446400</td>\n",
              "      <td>60.121580</td>\n",
              "      <td>57.028183</td>\n",
              "      <td>69.825369</td>\n",
              "      <td>46.018230</td>\n",
              "      <td>98.216072</td>\n",
              "      <td>174.617899</td>\n",
              "      <td>NaN</td>\n",
              "      <td>NaN</td>\n",
              "      <td>NaN</td>\n",
              "      <td>NaN</td>\n",
              "      <td>79.614066</td>\n",
              "      <td>73.071600</td>\n",
              "      <td>NaN</td>\n",
              "      <td>85.851544</td>\n",
              "      <td>NaN</td>\n",
              "      <td>73.166354</td>\n",
              "      <td>NaN</td>\n",
              "      <td>NaN</td>\n",
              "      <td>NaN</td>\n",
              "      <td>431.270303</td>\n",
              "      <td>466.089287</td>\n",
              "      <td>16.167871</td>\n",
              "      <td>8.223563</td>\n",
              "      <td>21158.324865</td>\n",
              "      <td>7760.639489</td>\n",
              "      <td>13.617993</td>\n",
              "      <td>94.859306</td>\n",
              "      <td>NaN</td>\n",
              "      <td>8.436392</td>\n",
              "      <td>NaN</td>\n",
              "      <td>NaN</td>\n",
              "      <td>NaN</td>\n",
              "      <td>NaN</td>\n",
              "      <td>1237.228737</td>\n",
              "      <td>118.434634</td>\n",
              "      <td>NaN</td>\n",
              "      <td>NaN</td>\n",
              "      <td>NaN</td>\n",
              "      <td>75.604799</td>\n",
              "      <td>NaN</td>\n",
              "      <td>NaN</td>\n",
              "      <td>42.616284</td>\n",
              "      <td>NaN</td>\n",
              "      <td>NaN</td>\n",
              "      <td>NaN</td>\n",
              "      <td>NaN</td>\n",
              "      <td>NaN</td>\n",
              "      <td>NaN</td>\n",
              "      <td>NaN</td>\n",
              "      <td>NaN</td>\n",
              "      <td>NaN</td>\n",
              "      <td>NaN</td>\n",
              "      <td>NaN</td>\n",
              "      <td>NaN</td>\n",
              "      <td>NaN</td>\n",
              "      <td>NaN</td>\n",
              "      <td>NaN</td>\n",
              "      <td>NaN</td>\n",
              "      <td>NaN</td>\n",
              "      <td>0.052590</td>\n",
              "    </tr>\n",
              "    <tr>\n",
              "      <th>1</th>\n",
              "      <td>990025</td>\n",
              "      <td>Camelopardalis B</td>\n",
              "      <td>0.818082</td>\n",
              "      <td>81.004994</td>\n",
              "      <td>30166.793958</td>\n",
              "      <td>0.852246</td>\n",
              "      <td>10.671823</td>\n",
              "      <td>4.742470</td>\n",
              "      <td>0.833624</td>\n",
              "      <td>0.467873</td>\n",
              "      <td>152.522198</td>\n",
              "      <td>NaN</td>\n",
              "      <td>NaN</td>\n",
              "      <td>36.255559</td>\n",
              "      <td>423.973089</td>\n",
              "      <td>89.294181</td>\n",
              "      <td>117.069332</td>\n",
              "      <td>61.822590</td>\n",
              "      <td>13.054898</td>\n",
              "      <td>560.547706</td>\n",
              "      <td>58.573002</td>\n",
              "      <td>69.873905</td>\n",
              "      <td>76.752305</td>\n",
              "      <td>40.167960</td>\n",
              "      <td>88.322574</td>\n",
              "      <td>109.892385</td>\n",
              "      <td>NaN</td>\n",
              "      <td>NaN</td>\n",
              "      <td>NaN</td>\n",
              "      <td>NaN</td>\n",
              "      <td>63.813720</td>\n",
              "      <td>45.482071</td>\n",
              "      <td>NaN</td>\n",
              "      <td>93.526359</td>\n",
              "      <td>NaN</td>\n",
              "      <td>35.590371</td>\n",
              "      <td>NaN</td>\n",
              "      <td>NaN</td>\n",
              "      <td>NaN</td>\n",
              "      <td>221.411013</td>\n",
              "      <td>376.475151</td>\n",
              "      <td>36.639519</td>\n",
              "      <td>21.007339</td>\n",
              "      <td>24984.044391</td>\n",
              "      <td>6969.137436</td>\n",
              "      <td>19.484830</td>\n",
              "      <td>77.935108</td>\n",
              "      <td>NaN</td>\n",
              "      <td>12.549351</td>\n",
              "      <td>7.096070</td>\n",
              "      <td>8.098794</td>\n",
              "      <td>11.797213</td>\n",
              "      <td>13.477707</td>\n",
              "      <td>544.458925</td>\n",
              "      <td>53.753525</td>\n",
              "      <td>NaN</td>\n",
              "      <td>NaN</td>\n",
              "      <td>NaN</td>\n",
              "      <td>57.214150</td>\n",
              "      <td>57.314932</td>\n",
              "      <td>56.187355</td>\n",
              "      <td>29.908422</td>\n",
              "      <td>6.225946</td>\n",
              "      <td>44.780023</td>\n",
              "      <td>NaN</td>\n",
              "      <td>120.886080</td>\n",
              "      <td>NaN</td>\n",
              "      <td>NaN</td>\n",
              "      <td>NaN</td>\n",
              "      <td>NaN</td>\n",
              "      <td>NaN</td>\n",
              "      <td>NaN</td>\n",
              "      <td>NaN</td>\n",
              "      <td>NaN</td>\n",
              "      <td>NaN</td>\n",
              "      <td>19.177926</td>\n",
              "      <td>NaN</td>\n",
              "      <td>22.785018</td>\n",
              "      <td>NaN</td>\n",
              "      <td>0.059868</td>\n",
              "    </tr>\n",
              "    <tr>\n",
              "      <th>2</th>\n",
              "      <td>990025</td>\n",
              "      <td>Virgo I</td>\n",
              "      <td>0.659443</td>\n",
              "      <td>59.570534</td>\n",
              "      <td>8441.707353</td>\n",
              "      <td>0.499762</td>\n",
              "      <td>8.840316</td>\n",
              "      <td>5.583973</td>\n",
              "      <td>0.469110</td>\n",
              "      <td>0.363837</td>\n",
              "      <td>209.813266</td>\n",
              "      <td>NaN</td>\n",
              "      <td>NaN</td>\n",
              "      <td>18.093991</td>\n",
              "      <td>285.572207</td>\n",
              "      <td>57.491083</td>\n",
              "      <td>226.523760</td>\n",
              "      <td>134.558437</td>\n",
              "      <td>15.963001</td>\n",
              "      <td>555.012461</td>\n",
              "      <td>43.078497</td>\n",
              "      <td>59.462626</td>\n",
              "      <td>59.152506</td>\n",
              "      <td>91.093668</td>\n",
              "      <td>114.163995</td>\n",
              "      <td>230.573666</td>\n",
              "      <td>NaN</td>\n",
              "      <td>NaN</td>\n",
              "      <td>NaN</td>\n",
              "      <td>NaN</td>\n",
              "      <td>80.874149</td>\n",
              "      <td>75.217727</td>\n",
              "      <td>NaN</td>\n",
              "      <td>95.041272</td>\n",
              "      <td>NaN</td>\n",
              "      <td>48.892555</td>\n",
              "      <td>NaN</td>\n",
              "      <td>NaN</td>\n",
              "      <td>NaN</td>\n",
              "      <td>513.730396</td>\n",
              "      <td>581.063598</td>\n",
              "      <td>31.958515</td>\n",
              "      <td>18.954434</td>\n",
              "      <td>19860.121520</td>\n",
              "      <td>3276.634176</td>\n",
              "      <td>13.357158</td>\n",
              "      <td>87.508620</td>\n",
              "      <td>NaN</td>\n",
              "      <td>13.949733</td>\n",
              "      <td>6.494764</td>\n",
              "      <td>6.730145</td>\n",
              "      <td>6.960041</td>\n",
              "      <td>6.805405</td>\n",
              "      <td>1537.953483</td>\n",
              "      <td>126.063691</td>\n",
              "      <td>NaN</td>\n",
              "      <td>NaN</td>\n",
              "      <td>NaN</td>\n",
              "      <td>76.141735</td>\n",
              "      <td>42.405827</td>\n",
              "      <td>53.927715</td>\n",
              "      <td>18.732049</td>\n",
              "      <td>4.138115</td>\n",
              "      <td>24.030945</td>\n",
              "      <td>NaN</td>\n",
              "      <td>96.626831</td>\n",
              "      <td>NaN</td>\n",
              "      <td>NaN</td>\n",
              "      <td>NaN</td>\n",
              "      <td>NaN</td>\n",
              "      <td>NaN</td>\n",
              "      <td>NaN</td>\n",
              "      <td>NaN</td>\n",
              "      <td>NaN</td>\n",
              "      <td>NaN</td>\n",
              "      <td>21.151265</td>\n",
              "      <td>6.534020</td>\n",
              "      <td>NaN</td>\n",
              "      <td>NaN</td>\n",
              "      <td>0.050449</td>\n",
              "    </tr>\n",
              "    <tr>\n",
              "      <th>3</th>\n",
              "      <td>990025</td>\n",
              "      <td>UGC 8651 (DDO 181)</td>\n",
              "      <td>0.555862</td>\n",
              "      <td>52.333293</td>\n",
              "      <td>NaN</td>\n",
              "      <td>NaN</td>\n",
              "      <td>NaN</td>\n",
              "      <td>NaN</td>\n",
              "      <td>NaN</td>\n",
              "      <td>NaN</td>\n",
              "      <td>NaN</td>\n",
              "      <td>NaN</td>\n",
              "      <td>NaN</td>\n",
              "      <td>NaN</td>\n",
              "      <td>327.202247</td>\n",
              "      <td>47.785456</td>\n",
              "      <td>279.000175</td>\n",
              "      <td>193.228799</td>\n",
              "      <td>12.940991</td>\n",
              "      <td>766.807703</td>\n",
              "      <td>51.318372</td>\n",
              "      <td>50.535797</td>\n",
              "      <td>54.931369</td>\n",
              "      <td>92.727892</td>\n",
              "      <td>97.645232</td>\n",
              "      <td>198.971328</td>\n",
              "      <td>NaN</td>\n",
              "      <td>NaN</td>\n",
              "      <td>NaN</td>\n",
              "      <td>NaN</td>\n",
              "      <td>84.721882</td>\n",
              "      <td>82.026125</td>\n",
              "      <td>NaN</td>\n",
              "      <td>86.307832</td>\n",
              "      <td>NaN</td>\n",
              "      <td>NaN</td>\n",
              "      <td>NaN</td>\n",
              "      <td>NaN</td>\n",
              "      <td>NaN</td>\n",
              "      <td>497.785386</td>\n",
              "      <td>612.106994</td>\n",
              "      <td>NaN</td>\n",
              "      <td>NaN</td>\n",
              "      <td>NaN</td>\n",
              "      <td>NaN</td>\n",
              "      <td>NaN</td>\n",
              "      <td>NaN</td>\n",
              "      <td>NaN</td>\n",
              "      <td>NaN</td>\n",
              "      <td>NaN</td>\n",
              "      <td>NaN</td>\n",
              "      <td>NaN</td>\n",
              "      <td>NaN</td>\n",
              "      <td>2016.655551</td>\n",
              "      <td>NaN</td>\n",
              "      <td>NaN</td>\n",
              "      <td>NaN</td>\n",
              "      <td>NaN</td>\n",
              "      <td>NaN</td>\n",
              "      <td>NaN</td>\n",
              "      <td>NaN</td>\n",
              "      <td>NaN</td>\n",
              "      <td>NaN</td>\n",
              "      <td>NaN</td>\n",
              "      <td>NaN</td>\n",
              "      <td>NaN</td>\n",
              "      <td>NaN</td>\n",
              "      <td>NaN</td>\n",
              "      <td>NaN</td>\n",
              "      <td>NaN</td>\n",
              "      <td>NaN</td>\n",
              "      <td>NaN</td>\n",
              "      <td>NaN</td>\n",
              "      <td>NaN</td>\n",
              "      <td>NaN</td>\n",
              "      <td>NaN</td>\n",
              "      <td>5.912194</td>\n",
              "      <td>NaN</td>\n",
              "      <td>NaN</td>\n",
              "      <td>0.049394</td>\n",
              "    </tr>\n",
              "    <tr>\n",
              "      <th>4</th>\n",
              "      <td>990025</td>\n",
              "      <td>Tucana Dwarf</td>\n",
              "      <td>0.991196</td>\n",
              "      <td>81.802464</td>\n",
              "      <td>81033.956906</td>\n",
              "      <td>1.131163</td>\n",
              "      <td>13.800672</td>\n",
              "      <td>13.188907</td>\n",
              "      <td>0.910341</td>\n",
              "      <td>0.918353</td>\n",
              "      <td>71.885345</td>\n",
              "      <td>NaN</td>\n",
              "      <td>NaN</td>\n",
              "      <td>34.497468</td>\n",
              "      <td>633.799718</td>\n",
              "      <td>103.562629</td>\n",
              "      <td>28.359587</td>\n",
              "      <td>51.098250</td>\n",
              "      <td>25.521926</td>\n",
              "      <td>585.434804</td>\n",
              "      <td>56.158054</td>\n",
              "      <td>85.020965</td>\n",
              "      <td>84.708158</td>\n",
              "      <td>71.493810</td>\n",
              "      <td>53.835875</td>\n",
              "      <td>61.008654</td>\n",
              "      <td>NaN</td>\n",
              "      <td>NaN</td>\n",
              "      <td>NaN</td>\n",
              "      <td>NaN</td>\n",
              "      <td>61.086141</td>\n",
              "      <td>66.286848</td>\n",
              "      <td>NaN</td>\n",
              "      <td>76.671844</td>\n",
              "      <td>NaN</td>\n",
              "      <td>NaN</td>\n",
              "      <td>NaN</td>\n",
              "      <td>NaN</td>\n",
              "      <td>NaN</td>\n",
              "      <td>150.173225</td>\n",
              "      <td>213.691418</td>\n",
              "      <td>29.577375</td>\n",
              "      <td>11.134867</td>\n",
              "      <td>75156.049406</td>\n",
              "      <td>8957.403969</td>\n",
              "      <td>NaN</td>\n",
              "      <td>241.901357</td>\n",
              "      <td>NaN</td>\n",
              "      <td>15.090820</td>\n",
              "      <td>11.830216</td>\n",
              "      <td>12.122982</td>\n",
              "      <td>NaN</td>\n",
              "      <td>NaN</td>\n",
              "      <td>232.573140</td>\n",
              "      <td>39.192277</td>\n",
              "      <td>NaN</td>\n",
              "      <td>NaN</td>\n",
              "      <td>134.967049</td>\n",
              "      <td>NaN</td>\n",
              "      <td>77.223935</td>\n",
              "      <td>75.475076</td>\n",
              "      <td>31.398393</td>\n",
              "      <td>NaN</td>\n",
              "      <td>66.674651</td>\n",
              "      <td>NaN</td>\n",
              "      <td>NaN</td>\n",
              "      <td>NaN</td>\n",
              "      <td>NaN</td>\n",
              "      <td>NaN</td>\n",
              "      <td>NaN</td>\n",
              "      <td>NaN</td>\n",
              "      <td>NaN</td>\n",
              "      <td>NaN</td>\n",
              "      <td>NaN</td>\n",
              "      <td>NaN</td>\n",
              "      <td>NaN</td>\n",
              "      <td>5.611753</td>\n",
              "      <td>NaN</td>\n",
              "      <td>NaN</td>\n",
              "      <td>0.154247</td>\n",
              "    </tr>\n",
              "  </tbody>\n",
              "</table>\n",
              "</div>"
            ],
            "text/plain": [
              "   galactic year  ...         y\n",
              "0         990025  ...  0.052590\n",
              "1         990025  ...  0.059868\n",
              "2         990025  ...  0.050449\n",
              "3         990025  ...  0.049394\n",
              "4         990025  ...  0.154247\n",
              "\n",
              "[5 rows x 80 columns]"
            ]
          },
          "metadata": {
            "tags": []
          },
          "execution_count": 5
        }
      ]
    },
    {
      "cell_type": "code",
      "metadata": {
        "id": "-S6avRKY6wPO",
        "colab_type": "code",
        "colab": {}
      },
      "source": [
        "knn_imputer = KNNImputer(n_neighbors=3, weights=\"distance\")\n",
        "X_df = train.loc[:,~train.columns.isin(['y', 'galaxy'])]\n",
        "X = knn_imputer.fit_transform(X_df)"
      ],
      "execution_count": 0,
      "outputs": []
    },
    {
      "cell_type": "code",
      "metadata": {
        "id": "Im-fZ__z8URd",
        "colab_type": "code",
        "colab": {}
      },
      "source": [
        "X_df = pd.DataFrame(data=X, columns=X_df.columns)\n",
        "X_df.head()\n",
        "X_test_df = test.loc[:, ~test.columns.isin(['galaxy'])]\n",
        "X_test_df = pd.DataFrame(data=knn_imputer.transform(X_test_df), columns=X_test_df.columns)"
      ],
      "execution_count": 0,
      "outputs": []
    },
    {
      "cell_type": "code",
      "metadata": {
        "id": "DACck8f7-Beg",
        "colab_type": "code",
        "colab": {}
      },
      "source": [
        "train.loc[:,~train.columns.isin(['galaxy','y'])] = X_df\n",
        "test.loc[:,~test.columns.isin(['galaxy'])] = X_test_df"
      ],
      "execution_count": 0,
      "outputs": []
    },
    {
      "cell_type": "code",
      "metadata": {
        "id": "Np3vVG48_vvZ",
        "colab_type": "code",
        "outputId": "5cbd82c1-b25c-4aba-e715-cfd2d436a3af",
        "colab": {
          "base_uri": "https://localhost:8080/",
          "height": 283
        }
      },
      "source": [
        "plt.hist(train.y, bins=60, edgecolor='black')\n",
        "plt.axvline(0.066, color='red', linestyle='dashed', linewidth=1)\n",
        "plt.xlabel(\"y\")\n",
        "plt.show();"
      ],
      "execution_count": 9,
      "outputs": [
        {
          "output_type": "display_data",
          "data": {
            "image/png": "[encoded data removed]",
            "text/plain": [
              "<Figure size 432x288 with 1 Axes>"
            ]
          },
          "metadata": {
            "tags": [],
            "needs_background": "light"
          }
        }
      ]
    },
    {
      "cell_type": "code",
      "metadata": {
        "id": "uEpyTMzSAYfo",
        "colab_type": "code",
        "colab": {}
      },
      "source": [
        "y_class = (train.y < 0.066).astype(int)"
      ],
      "execution_count": 0,
      "outputs": []
    },
    {
      "cell_type": "code",
      "metadata": {
        "id": "PpeHpa6XA3Xn",
        "colab_type": "code",
        "outputId": "40e564d5-7221-4af9-8d44-1301088e3c8c",
        "colab": {
          "base_uri": "https://localhost:8080/",
          "height": 51
        }
      },
      "source": [
        "enc = OneHotEncoder(handle_unknown='ignore')\n",
        "enc.fit(train['galaxy'].values.reshape(-1,1))"
      ],
      "execution_count": 11,
      "outputs": [
        {
          "output_type": "execute_result",
          "data": {
            "text/plain": [
              "OneHotEncoder(categories='auto', drop=None, dtype=<class 'numpy.float64'>,\n",
              "              handle_unknown='ignore', sparse=True)"
            ]
          },
          "metadata": {
            "tags": []
          },
          "execution_count": 11
        }
      ]
    },
    {
      "cell_type": "code",
      "metadata": {
        "id": "1lEw5MysCQlK",
        "colab_type": "code",
        "outputId": "00e31164-bf01-4e7d-eedf-2827401d2dd0",
        "colab": {
          "base_uri": "https://localhost:8080/",
          "height": 34
        }
      },
      "source": [
        "new_data = enc.transform(train['galaxy'].values.reshape(-1,1)).toarray()\n",
        "new_data.shape\n",
        "new_data_test = enc.transform(test.galaxy.values.reshape(-1,1)).toarray()\n",
        "new_data_test.shape"
      ],
      "execution_count": 12,
      "outputs": [
        {
          "output_type": "execute_result",
          "data": {
            "text/plain": [
              "(890, 181)"
            ]
          },
          "metadata": {
            "tags": []
          },
          "execution_count": 12
        }
      ]
    },
    {
      "cell_type": "code",
      "metadata": {
        "id": "x2xCbDdrDyTr",
        "colab_type": "code",
        "outputId": "871585d3-1ba3-4005-ca9c-d242272b8adf",
        "colab": {
          "base_uri": "https://localhost:8080/",
          "height": 34
        }
      },
      "source": [
        "new_columns_galaxy = enc.get_feature_names(['galaxy'])\n",
        "len(new_columns_galaxy)"
      ],
      "execution_count": 13,
      "outputs": [
        {
          "output_type": "execute_result",
          "data": {
            "text/plain": [
              "181"
            ]
          },
          "metadata": {
            "tags": []
          },
          "execution_count": 13
        }
      ]
    },
    {
      "cell_type": "markdown",
      "metadata": {
        "id": "h_ksPdA-Kru-",
        "colab_type": "text"
      },
      "source": [
        "### **Clear noise:**"
      ]
    },
    {
      "cell_type": "code",
      "metadata": {
        "id": "5WSkTcjuKv-z",
        "colab_type": "code",
        "colab": {}
      },
      "source": [
        "#u, s, vh = np.linalg.svd(train.loc[:,~train.columns.isin(['galaxy', 'y','galactic year'])])"
      ],
      "execution_count": 0,
      "outputs": []
    },
    {
      "cell_type": "code",
      "metadata": {
        "id": "9bDcpWUsLUsf",
        "colab_type": "code",
        "colab": {}
      },
      "source": [
        "#s = list(s)\n",
        "#s[-40:] = [0] * 40\n",
        "#s = np.array(s)"
      ],
      "execution_count": 0,
      "outputs": []
    },
    {
      "cell_type": "code",
      "metadata": {
        "id": "AuzWaszYLUqG",
        "colab_type": "code",
        "outputId": "e6498730-11a3-4734-8532-2d6e2f08ff8d",
        "colab": {
          "base_uri": "https://localhost:8080/",
          "height": 68
        }
      },
      "source": [
        "#print(u[:, :77].shape)\n",
        "#print(np.diag(s).shape)\n",
        "#print(vh.shape)"
      ],
      "execution_count": 0,
      "outputs": [
        {
          "output_type": "stream",
          "text": [
            "(3865, 77)\n",
            "(77, 77)\n",
            "(77, 77)\n"
          ],
          "name": "stdout"
        }
      ]
    },
    {
      "cell_type": "code",
      "metadata": {
        "id": "KYHZVD3NM7aR",
        "colab_type": "code",
        "outputId": "46b4bb86-bece-4196-d6bd-53ea914c64c0",
        "colab": {
          "base_uri": "https://localhost:8080/",
          "height": 34
        }
      },
      "source": [
        "#np.dot(u[:, :77] * s, vh).shape"
      ],
      "execution_count": 0,
      "outputs": [
        {
          "output_type": "execute_result",
          "data": {
            "text/plain": [
              "(3865, 77)"
            ]
          },
          "metadata": {
            "tags": []
          },
          "execution_count": 99
        }
      ]
    },
    {
      "cell_type": "code",
      "metadata": {
        "id": "luLYqZkDLUnD",
        "colab_type": "code",
        "colab": {}
      },
      "source": [
        "#train.loc[:,~train.columns.isin(['galaxy', 'y','galactic year'])] = np.dot(u[:, :77] * s, vh)"
      ],
      "execution_count": 0,
      "outputs": []
    },
    {
      "cell_type": "code",
      "metadata": {
        "id": "I-l--ubDLUj8",
        "colab_type": "code",
        "outputId": "72532b55-c0d8-4aa0-a088-9ecaaa0f4354",
        "colab": {
          "base_uri": "https://localhost:8080/",
          "height": 428
        }
      },
      "source": [
        "#train.head()"
      ],
      "execution_count": 0,
      "outputs": [
        {
          "output_type": "execute_result",
          "data": {
            "text/html": [
              "<div>\n",
              "<style scoped>\n",
              "    .dataframe tbody tr th:only-of-type {\n",
              "        vertical-align: middle;\n",
              "    }\n",
              "\n",
              "    .dataframe tbody tr th {\n",
              "        vertical-align: top;\n",
              "    }\n",
              "\n",
              "    .dataframe thead th {\n",
              "        text-align: right;\n",
              "    }\n",
              "</style>\n",
              "<table border=\"1\" class=\"dataframe\">\n",
              "  <thead>\n",
              "    <tr style=\"text-align: right;\">\n",
              "      <th></th>\n",
              "      <th>galactic year</th>\n",
              "      <th>galaxy</th>\n",
              "      <th>existence expectancy index</th>\n",
              "      <th>existence expectancy at birth</th>\n",
              "      <th>Gross income per capita</th>\n",
              "      <th>Income Index</th>\n",
              "      <th>Expected years of education (galactic years)</th>\n",
              "      <th>Mean years of education (galactic years)</th>\n",
              "      <th>Intergalactic Development Index (IDI)</th>\n",
              "      <th>Education Index</th>\n",
              "      <th>Intergalactic Development Index (IDI), Rank</th>\n",
              "      <th>Population using at least basic drinking-water services (%)</th>\n",
              "      <th>Population using at least basic sanitation services (%)</th>\n",
              "      <th>Gross capital formation (% of GGP)</th>\n",
              "      <th>Population, total (millions)</th>\n",
              "      <th>Population, urban (%)</th>\n",
              "      <th>Mortality rate, under-five (per 1,000 live births)</th>\n",
              "      <th>Mortality rate, infant (per 1,000 live births)</th>\n",
              "      <th>Old age dependency ratio (old age (65 and older) per 100 creatures (ages 15-64))</th>\n",
              "      <th>Population, ages 15–64 (millions)</th>\n",
              "      <th>Population, ages 65 and older (millions)</th>\n",
              "      <th>Life expectancy at birth, male (galactic years)</th>\n",
              "      <th>Life expectancy at birth, female (galactic years)</th>\n",
              "      <th>Population, under age 5 (millions)</th>\n",
              "      <th>Young age (0-14) dependency ratio (per 100 creatures ages 15-64)</th>\n",
              "      <th>Adolescent birth rate (births per 1,000 female creatures ages 15-19)</th>\n",
              "      <th>Total unemployment rate (female to male ratio)</th>\n",
              "      <th>Vulnerable employment (% of total employment)</th>\n",
              "      <th>Unemployment, total (% of labour force)</th>\n",
              "      <th>Employment in agriculture (% of total employment)</th>\n",
              "      <th>Labour force participation rate (% ages 15 and older)</th>\n",
              "      <th>Labour force participation rate (% ages 15 and older), female</th>\n",
              "      <th>Employment in services (% of total employment)</th>\n",
              "      <th>Labour force participation rate (% ages 15 and older), male</th>\n",
              "      <th>Employment to population ratio (% ages 15 and older)</th>\n",
              "      <th>Jungle area (% of total land area)</th>\n",
              "      <th>Share of employment in nonagriculture, female (% of total employment in nonagriculture)</th>\n",
              "      <th>Youth unemployment rate (female to male ratio)</th>\n",
              "      <th>Unemployment, youth (% ages 15–24)</th>\n",
              "      <th>Mortality rate, female grown up (per 1,000 people)</th>\n",
              "      <th>Mortality rate, male grown up (per 1,000 people)</th>\n",
              "      <th>Infants lacking immunization, red hot disease (% of one-galactic year-olds)</th>\n",
              "      <th>Infants lacking immunization, Combination Vaccine (% of one-galactic year-olds)</th>\n",
              "      <th>Gross galactic product (GGP) per capita</th>\n",
              "      <th>Gross galactic product (GGP), total</th>\n",
              "      <th>Outer Galaxies direct investment, net inflows (% of GGP)</th>\n",
              "      <th>Exports and imports (% of GGP)</th>\n",
              "      <th>Share of seats in senate (% held by female)</th>\n",
              "      <th>Natural resource depletion</th>\n",
              "      <th>Mean years of education, female (galactic years)</th>\n",
              "      <th>Mean years of education, male (galactic years)</th>\n",
              "      <th>Expected years of education, female (galactic years)</th>\n",
              "      <th>Expected years of education, male (galactic years)</th>\n",
              "      <th>Maternal mortality ratio (deaths per 100,000 live births)</th>\n",
              "      <th>Renewable energy consumption (% of total final energy consumption)</th>\n",
              "      <th>Estimated gross galactic income per capita, male</th>\n",
              "      <th>Estimated gross galactic income per capita, female</th>\n",
              "      <th>Rural population with access to electricity (%)</th>\n",
              "      <th>Domestic credit provided by financial sector (% of GGP)</th>\n",
              "      <th>Population with at least some secondary education, female (% ages 25 and older)</th>\n",
              "      <th>Population with at least some secondary education, male (% ages 25 and older)</th>\n",
              "      <th>Gross fixed capital formation (% of GGP)</th>\n",
              "      <th>Remittances, inflows (% of GGP)</th>\n",
              "      <th>Population with at least some secondary education (% ages 25 and older)</th>\n",
              "      <th>Intergalactic inbound tourists (thousands)</th>\n",
              "      <th>Gross enrolment ratio, primary (% of primary under-age population)</th>\n",
              "      <th>Respiratory disease incidence (per 100,000 people)</th>\n",
              "      <th>Interstellar phone subscriptions (per 100 people)</th>\n",
              "      <th>Interstellar Data Net users, total (% of population)</th>\n",
              "      <th>Current health expenditure (% of GGP)</th>\n",
              "      <th>Intergalactic Development Index (IDI), female</th>\n",
              "      <th>Intergalactic Development Index (IDI), male</th>\n",
              "      <th>Gender Development Index (GDI)</th>\n",
              "      <th>Intergalactic Development Index (IDI), female, Rank</th>\n",
              "      <th>Intergalactic Development Index (IDI), male, Rank</th>\n",
              "      <th>Adjusted net savings</th>\n",
              "      <th>Creature Immunodeficiency Disease prevalence, adult (% ages 15-49), total</th>\n",
              "      <th>Private galaxy capital flows (% of GGP)</th>\n",
              "      <th>Gender Inequality Index (GII)</th>\n",
              "      <th>y</th>\n",
              "    </tr>\n",
              "  </thead>\n",
              "  <tbody>\n",
              "    <tr>\n",
              "      <th>0</th>\n",
              "      <td>990025.0</td>\n",
              "      <td>Large Magellanic Cloud (LMC)</td>\n",
              "      <td>0.772257</td>\n",
              "      <td>69.066463</td>\n",
              "      <td>27109.230433</td>\n",
              "      <td>0.758696</td>\n",
              "      <td>12.675697</td>\n",
              "      <td>10.300169</td>\n",
              "      <td>0.748309</td>\n",
              "      <td>0.698669</td>\n",
              "      <td>86.826840</td>\n",
              "      <td>90.476220</td>\n",
              "      <td>76.096035</td>\n",
              "      <td>30.109520</td>\n",
              "      <td>681.840435</td>\n",
              "      <td>26.974965</td>\n",
              "      <td>155.985533</td>\n",
              "      <td>113.776745</td>\n",
              "      <td>12.106010</td>\n",
              "      <td>490.474700</td>\n",
              "      <td>60.050691</td>\n",
              "      <td>52.502471</td>\n",
              "      <td>58.618495</td>\n",
              "      <td>45.854825</td>\n",
              "      <td>97.002468</td>\n",
              "      <td>175.114903</td>\n",
              "      <td>2.518611</td>\n",
              "      <td>45.633565</td>\n",
              "      <td>7.628294</td>\n",
              "      <td>53.071461</td>\n",
              "      <td>77.295165</td>\n",
              "      <td>76.482688</td>\n",
              "      <td>57.847770</td>\n",
              "      <td>82.299623</td>\n",
              "      <td>70.736223</td>\n",
              "      <td>73.717350</td>\n",
              "      <td>41.994090</td>\n",
              "      <td>2.258572</td>\n",
              "      <td>17.300424</td>\n",
              "      <td>430.860165</td>\n",
              "      <td>466.553234</td>\n",
              "      <td>26.607872</td>\n",
              "      <td>16.384738</td>\n",
              "      <td>21158.324426</td>\n",
              "      <td>7760.639203</td>\n",
              "      <td>15.570918</td>\n",
              "      <td>95.252845</td>\n",
              "      <td>16.820308</td>\n",
              "      <td>5.061317</td>\n",
              "      <td>9.755543</td>\n",
              "      <td>9.771678</td>\n",
              "      <td>11.373328</td>\n",
              "      <td>10.790515</td>\n",
              "      <td>1237.460567</td>\n",
              "      <td>117.678697</td>\n",
              "      <td>35022.348338</td>\n",
              "      <td>13191.182245</td>\n",
              "      <td>98.062176</td>\n",
              "      <td>76.360098</td>\n",
              "      <td>76.424017</td>\n",
              "      <td>84.438980</td>\n",
              "      <td>26.957003</td>\n",
              "      <td>6.933280</td>\n",
              "      <td>79.392987</td>\n",
              "      <td>96890.125442</td>\n",
              "      <td>94.251156</td>\n",
              "      <td>614.432074</td>\n",
              "      <td>57.032758</td>\n",
              "      <td>19.098659</td>\n",
              "      <td>6.636146</td>\n",
              "      <td>0.686343</td>\n",
              "      <td>0.693219</td>\n",
              "      <td>0.909993</td>\n",
              "      <td>98.040717</td>\n",
              "      <td>89.575372</td>\n",
              "      <td>41.780933</td>\n",
              "      <td>9.913305</td>\n",
              "      <td>22.763305</td>\n",
              "      <td>0.657077</td>\n",
              "      <td>0.052590</td>\n",
              "    </tr>\n",
              "    <tr>\n",
              "      <th>1</th>\n",
              "      <td>990025.0</td>\n",
              "      <td>Camelopardalis B</td>\n",
              "      <td>0.869551</td>\n",
              "      <td>77.138820</td>\n",
              "      <td>30166.795739</td>\n",
              "      <td>0.806949</td>\n",
              "      <td>13.212552</td>\n",
              "      <td>7.968131</td>\n",
              "      <td>0.740551</td>\n",
              "      <td>0.619206</td>\n",
              "      <td>152.142816</td>\n",
              "      <td>113.916717</td>\n",
              "      <td>117.377244</td>\n",
              "      <td>30.435545</td>\n",
              "      <td>423.971671</td>\n",
              "      <td>90.375495</td>\n",
              "      <td>115.079468</td>\n",
              "      <td>67.035580</td>\n",
              "      <td>17.406425</td>\n",
              "      <td>560.570147</td>\n",
              "      <td>58.415708</td>\n",
              "      <td>75.683644</td>\n",
              "      <td>81.725631</td>\n",
              "      <td>40.412943</td>\n",
              "      <td>88.817054</td>\n",
              "      <td>109.961239</td>\n",
              "      <td>3.189863</td>\n",
              "      <td>64.411499</td>\n",
              "      <td>16.335678</td>\n",
              "      <td>49.361186</td>\n",
              "      <td>70.326613</td>\n",
              "      <td>53.456454</td>\n",
              "      <td>69.930350</td>\n",
              "      <td>89.500064</td>\n",
              "      <td>65.735788</td>\n",
              "      <td>36.612725</td>\n",
              "      <td>42.532301</td>\n",
              "      <td>2.453377</td>\n",
              "      <td>33.476892</td>\n",
              "      <td>221.307696</td>\n",
              "      <td>376.486774</td>\n",
              "      <td>31.169951</td>\n",
              "      <td>18.391408</td>\n",
              "      <td>24984.043624</td>\n",
              "      <td>6969.136040</td>\n",
              "      <td>15.423573</td>\n",
              "      <td>78.470128</td>\n",
              "      <td>19.221417</td>\n",
              "      <td>12.837679</td>\n",
              "      <td>7.827004</td>\n",
              "      <td>8.544200</td>\n",
              "      <td>13.989487</td>\n",
              "      <td>12.778140</td>\n",
              "      <td>544.355792</td>\n",
              "      <td>53.003615</td>\n",
              "      <td>36194.480081</td>\n",
              "      <td>12248.934534</td>\n",
              "      <td>135.864023</td>\n",
              "      <td>57.510829</td>\n",
              "      <td>47.849195</td>\n",
              "      <td>53.952714</td>\n",
              "      <td>28.597115</td>\n",
              "      <td>10.541328</td>\n",
              "      <td>55.464816</td>\n",
              "      <td>102983.291842</td>\n",
              "      <td>116.140404</td>\n",
              "      <td>260.922452</td>\n",
              "      <td>48.934479</td>\n",
              "      <td>22.393933</td>\n",
              "      <td>7.701948</td>\n",
              "      <td>0.793023</td>\n",
              "      <td>0.836825</td>\n",
              "      <td>1.002806</td>\n",
              "      <td>109.053977</td>\n",
              "      <td>86.997837</td>\n",
              "      <td>17.071738</td>\n",
              "      <td>4.110021</td>\n",
              "      <td>22.920760</td>\n",
              "      <td>0.739632</td>\n",
              "      <td>0.059868</td>\n",
              "    </tr>\n",
              "    <tr>\n",
              "      <th>2</th>\n",
              "      <td>990025.0</td>\n",
              "      <td>Virgo I</td>\n",
              "      <td>0.547837</td>\n",
              "      <td>55.708310</td>\n",
              "      <td>8441.707020</td>\n",
              "      <td>0.500494</td>\n",
              "      <td>8.567684</td>\n",
              "      <td>4.524422</td>\n",
              "      <td>0.458223</td>\n",
              "      <td>0.370903</td>\n",
              "      <td>209.088879</td>\n",
              "      <td>71.243027</td>\n",
              "      <td>39.019045</td>\n",
              "      <td>26.604377</td>\n",
              "      <td>285.559445</td>\n",
              "      <td>58.113173</td>\n",
              "      <td>224.351629</td>\n",
              "      <td>139.444769</td>\n",
              "      <td>14.155745</td>\n",
              "      <td>555.041062</td>\n",
              "      <td>43.221571</td>\n",
              "      <td>55.213193</td>\n",
              "      <td>59.801668</td>\n",
              "      <td>91.245292</td>\n",
              "      <td>114.825202</td>\n",
              "      <td>230.946870</td>\n",
              "      <td>2.413985</td>\n",
              "      <td>81.719578</td>\n",
              "      <td>16.215654</td>\n",
              "      <td>74.325752</td>\n",
              "      <td>79.225677</td>\n",
              "      <td>76.723586</td>\n",
              "      <td>55.586571</td>\n",
              "      <td>88.305934</td>\n",
              "      <td>71.775932</td>\n",
              "      <td>49.749977</td>\n",
              "      <td>43.373152</td>\n",
              "      <td>2.017427</td>\n",
              "      <td>31.390221</td>\n",
              "      <td>513.028921</td>\n",
              "      <td>580.943974</td>\n",
              "      <td>32.686185</td>\n",
              "      <td>19.855963</td>\n",
              "      <td>19860.123909</td>\n",
              "      <td>3276.633120</td>\n",
              "      <td>20.305493</td>\n",
              "      <td>86.471059</td>\n",
              "      <td>22.225556</td>\n",
              "      <td>9.298210</td>\n",
              "      <td>5.562772</td>\n",
              "      <td>6.183906</td>\n",
              "      <td>9.989008</td>\n",
              "      <td>10.394784</td>\n",
              "      <td>1537.902815</td>\n",
              "      <td>126.349757</td>\n",
              "      <td>27986.971810</td>\n",
              "      <td>17151.318499</td>\n",
              "      <td>116.682181</td>\n",
              "      <td>75.555526</td>\n",
              "      <td>34.864374</td>\n",
              "      <td>47.478776</td>\n",
              "      <td>25.258461</td>\n",
              "      <td>15.721546</td>\n",
              "      <td>34.987166</td>\n",
              "      <td>90836.209699</td>\n",
              "      <td>96.164170</td>\n",
              "      <td>338.954086</td>\n",
              "      <td>51.738238</td>\n",
              "      <td>34.814745</td>\n",
              "      <td>8.677076</td>\n",
              "      <td>0.586461</td>\n",
              "      <td>0.656486</td>\n",
              "      <td>0.938856</td>\n",
              "      <td>124.374317</td>\n",
              "      <td>139.924443</td>\n",
              "      <td>23.441570</td>\n",
              "      <td>9.215073</td>\n",
              "      <td>21.796449</td>\n",
              "      <td>0.826655</td>\n",
              "      <td>0.050449</td>\n",
              "    </tr>\n",
              "    <tr>\n",
              "      <th>3</th>\n",
              "      <td>990025.0</td>\n",
              "      <td>UGC 8651 (DDO 181)</td>\n",
              "      <td>0.567640</td>\n",
              "      <td>56.847381</td>\n",
              "      <td>19836.224318</td>\n",
              "      <td>0.547447</td>\n",
              "      <td>9.136453</td>\n",
              "      <td>6.116613</td>\n",
              "      <td>0.525214</td>\n",
              "      <td>0.450520</td>\n",
              "      <td>186.712915</td>\n",
              "      <td>70.186251</td>\n",
              "      <td>50.912375</td>\n",
              "      <td>32.560792</td>\n",
              "      <td>327.189396</td>\n",
              "      <td>51.001657</td>\n",
              "      <td>282.207769</td>\n",
              "      <td>184.213582</td>\n",
              "      <td>9.081509</td>\n",
              "      <td>766.785221</td>\n",
              "      <td>51.887041</td>\n",
              "      <td>46.881368</td>\n",
              "      <td>50.887270</td>\n",
              "      <td>92.640786</td>\n",
              "      <td>100.177229</td>\n",
              "      <td>198.438711</td>\n",
              "      <td>2.414697</td>\n",
              "      <td>107.705385</td>\n",
              "      <td>9.743901</td>\n",
              "      <td>90.147078</td>\n",
              "      <td>81.542257</td>\n",
              "      <td>85.067302</td>\n",
              "      <td>38.662366</td>\n",
              "      <td>86.384311</td>\n",
              "      <td>78.201836</td>\n",
              "      <td>80.297538</td>\n",
              "      <td>40.733541</td>\n",
              "      <td>2.079731</td>\n",
              "      <td>18.436685</td>\n",
              "      <td>497.554777</td>\n",
              "      <td>612.338783</td>\n",
              "      <td>36.621416</td>\n",
              "      <td>26.181556</td>\n",
              "      <td>20491.055770</td>\n",
              "      <td>6171.933028</td>\n",
              "      <td>18.876816</td>\n",
              "      <td>81.592164</td>\n",
              "      <td>16.804953</td>\n",
              "      <td>11.427356</td>\n",
              "      <td>5.277073</td>\n",
              "      <td>6.524558</td>\n",
              "      <td>8.426222</td>\n",
              "      <td>9.273880</td>\n",
              "      <td>2016.765987</td>\n",
              "      <td>119.190487</td>\n",
              "      <td>17965.890232</td>\n",
              "      <td>7305.297052</td>\n",
              "      <td>50.515632</td>\n",
              "      <td>78.883467</td>\n",
              "      <td>41.225868</td>\n",
              "      <td>54.509841</td>\n",
              "      <td>29.434277</td>\n",
              "      <td>5.369090</td>\n",
              "      <td>31.280377</td>\n",
              "      <td>90732.908056</td>\n",
              "      <td>87.763417</td>\n",
              "      <td>626.532287</td>\n",
              "      <td>49.443619</td>\n",
              "      <td>26.822263</td>\n",
              "      <td>6.913243</td>\n",
              "      <td>0.461752</td>\n",
              "      <td>0.521165</td>\n",
              "      <td>0.862589</td>\n",
              "      <td>168.444483</td>\n",
              "      <td>166.565463</td>\n",
              "      <td>28.735991</td>\n",
              "      <td>9.464453</td>\n",
              "      <td>40.932902</td>\n",
              "      <td>0.903075</td>\n",
              "      <td>0.049394</td>\n",
              "    </tr>\n",
              "    <tr>\n",
              "      <th>4</th>\n",
              "      <td>990025.0</td>\n",
              "      <td>Tucana Dwarf</td>\n",
              "      <td>1.020081</td>\n",
              "      <td>85.278097</td>\n",
              "      <td>81033.956075</td>\n",
              "      <td>1.124809</td>\n",
              "      <td>16.809915</td>\n",
              "      <td>11.577575</td>\n",
              "      <td>0.967505</td>\n",
              "      <td>0.841237</td>\n",
              "      <td>72.427476</td>\n",
              "      <td>122.453343</td>\n",
              "      <td>126.502682</td>\n",
              "      <td>31.507806</td>\n",
              "      <td>633.782734</td>\n",
              "      <td>101.163017</td>\n",
              "      <td>33.832212</td>\n",
              "      <td>39.041018</td>\n",
              "      <td>23.922342</td>\n",
              "      <td>585.432635</td>\n",
              "      <td>55.990445</td>\n",
              "      <td>84.011416</td>\n",
              "      <td>87.451257</td>\n",
              "      <td>71.450554</td>\n",
              "      <td>42.795292</td>\n",
              "      <td>61.799725</td>\n",
              "      <td>3.266171</td>\n",
              "      <td>61.594393</td>\n",
              "      <td>21.452783</td>\n",
              "      <td>46.592333</td>\n",
              "      <td>67.445540</td>\n",
              "      <td>54.937399</td>\n",
              "      <td>71.848128</td>\n",
              "      <td>78.274778</td>\n",
              "      <td>61.124098</td>\n",
              "      <td>66.320318</td>\n",
              "      <td>40.848594</td>\n",
              "      <td>2.368305</td>\n",
              "      <td>44.398827</td>\n",
              "      <td>150.851081</td>\n",
              "      <td>214.244143</td>\n",
              "      <td>36.728816</td>\n",
              "      <td>16.187000</td>\n",
              "      <td>75156.045873</td>\n",
              "      <td>8957.402988</td>\n",
              "      <td>16.595400</td>\n",
              "      <td>242.003442</td>\n",
              "      <td>28.118391</td>\n",
              "      <td>17.056833</td>\n",
              "      <td>11.314667</td>\n",
              "      <td>11.457987</td>\n",
              "      <td>18.422435</td>\n",
              "      <td>17.061389</td>\n",
              "      <td>232.846394</td>\n",
              "      <td>39.420207</td>\n",
              "      <td>112271.694434</td>\n",
              "      <td>46666.271180</td>\n",
              "      <td>135.620355</td>\n",
              "      <td>149.956466</td>\n",
              "      <td>79.038528</td>\n",
              "      <td>74.632468</td>\n",
              "      <td>28.959211</td>\n",
              "      <td>11.326741</td>\n",
              "      <td>66.791602</td>\n",
              "      <td>95795.544444</td>\n",
              "      <td>111.762187</td>\n",
              "      <td>218.339255</td>\n",
              "      <td>133.204652</td>\n",
              "      <td>99.798120</td>\n",
              "      <td>8.675302</td>\n",
              "      <td>0.983244</td>\n",
              "      <td>0.980808</td>\n",
              "      <td>1.015786</td>\n",
              "      <td>62.487391</td>\n",
              "      <td>66.568710</td>\n",
              "      <td>30.659068</td>\n",
              "      <td>4.846838</td>\n",
              "      <td>32.229684</td>\n",
              "      <td>0.394745</td>\n",
              "      <td>0.154247</td>\n",
              "    </tr>\n",
              "  </tbody>\n",
              "</table>\n",
              "</div>"
            ],
            "text/plain": [
              "   galactic year  ...         y\n",
              "0       990025.0  ...  0.052590\n",
              "1       990025.0  ...  0.059868\n",
              "2       990025.0  ...  0.050449\n",
              "3       990025.0  ...  0.049394\n",
              "4       990025.0  ...  0.154247\n",
              "\n",
              "[5 rows x 80 columns]"
            ]
          },
          "metadata": {
            "tags": []
          },
          "execution_count": 102
        }
      ]
    },
    {
      "cell_type": "code",
      "metadata": {
        "id": "8uHxvSo4LUhN",
        "colab_type": "code",
        "outputId": "2f10f307-7366-4cd5-d885-375571246c64",
        "colab": {
          "base_uri": "https://localhost:8080/",
          "height": 34
        }
      },
      "source": [
        "#np.max(train['existence expectancy index'])"
      ],
      "execution_count": 0,
      "outputs": [
        {
          "output_type": "execute_result",
          "data": {
            "text/plain": [
              "1.1824219331142454"
            ]
          },
          "metadata": {
            "tags": []
          },
          "execution_count": 103
        }
      ]
    },
    {
      "cell_type": "code",
      "metadata": {
        "id": "St1orzXyLUeW",
        "colab_type": "code",
        "colab": {}
      },
      "source": [
        ""
      ],
      "execution_count": 0,
      "outputs": []
    },
    {
      "cell_type": "code",
      "metadata": {
        "id": "nzNoQxPkEKrb",
        "colab_type": "code",
        "colab": {}
      },
      "source": [
        "train['y_class'] = y_class\n",
        "train = train.join(pd.DataFrame(data=new_data, index=train.index, columns=new_columns_galaxy))\n",
        "test = test.join(pd.DataFrame(data=new_data_test, index=test.index, columns=new_columns_galaxy))"
      ],
      "execution_count": 0,
      "outputs": []
    },
    {
      "cell_type": "code",
      "metadata": {
        "id": "1ybJn8Z0F9ts",
        "colab_type": "code",
        "outputId": "108873fe-f5a4-4604-a18e-7f9a48b626d6",
        "colab": {
          "base_uri": "https://localhost:8080/",
          "height": 457
        }
      },
      "source": [
        "train.head()"
      ],
      "execution_count": 15,
      "outputs": [
        {
          "output_type": "execute_result",
          "data": {
            "text/html": [
              "<div>\n",
              "<style scoped>\n",
              "    .dataframe tbody tr th:only-of-type {\n",
              "        vertical-align: middle;\n",
              "    }\n",
              "\n",
              "    .dataframe tbody tr th {\n",
              "        vertical-align: top;\n",
              "    }\n",
              "\n",
              "    .dataframe thead th {\n",
              "        text-align: right;\n",
              "    }\n",
              "</style>\n",
              "<table border=\"1\" class=\"dataframe\">\n",
              "  <thead>\n",
              "    <tr style=\"text-align: right;\">\n",
              "      <th></th>\n",
              "      <th>galactic year</th>\n",
              "      <th>galaxy</th>\n",
              "      <th>existence expectancy index</th>\n",
              "      <th>existence expectancy at birth</th>\n",
              "      <th>Gross income per capita</th>\n",
              "      <th>Income Index</th>\n",
              "      <th>Expected years of education (galactic years)</th>\n",
              "      <th>Mean years of education (galactic years)</th>\n",
              "      <th>Intergalactic Development Index (IDI)</th>\n",
              "      <th>Education Index</th>\n",
              "      <th>Intergalactic Development Index (IDI), Rank</th>\n",
              "      <th>Population using at least basic drinking-water services (%)</th>\n",
              "      <th>Population using at least basic sanitation services (%)</th>\n",
              "      <th>Gross capital formation (% of GGP)</th>\n",
              "      <th>Population, total (millions)</th>\n",
              "      <th>Population, urban (%)</th>\n",
              "      <th>Mortality rate, under-five (per 1,000 live births)</th>\n",
              "      <th>Mortality rate, infant (per 1,000 live births)</th>\n",
              "      <th>Old age dependency ratio (old age (65 and older) per 100 creatures (ages 15-64))</th>\n",
              "      <th>Population, ages 15–64 (millions)</th>\n",
              "      <th>Population, ages 65 and older (millions)</th>\n",
              "      <th>Life expectancy at birth, male (galactic years)</th>\n",
              "      <th>Life expectancy at birth, female (galactic years)</th>\n",
              "      <th>Population, under age 5 (millions)</th>\n",
              "      <th>Young age (0-14) dependency ratio (per 100 creatures ages 15-64)</th>\n",
              "      <th>Adolescent birth rate (births per 1,000 female creatures ages 15-19)</th>\n",
              "      <th>Total unemployment rate (female to male ratio)</th>\n",
              "      <th>Vulnerable employment (% of total employment)</th>\n",
              "      <th>Unemployment, total (% of labour force)</th>\n",
              "      <th>Employment in agriculture (% of total employment)</th>\n",
              "      <th>Labour force participation rate (% ages 15 and older)</th>\n",
              "      <th>Labour force participation rate (% ages 15 and older), female</th>\n",
              "      <th>Employment in services (% of total employment)</th>\n",
              "      <th>Labour force participation rate (% ages 15 and older), male</th>\n",
              "      <th>Employment to population ratio (% ages 15 and older)</th>\n",
              "      <th>Jungle area (% of total land area)</th>\n",
              "      <th>Share of employment in nonagriculture, female (% of total employment in nonagriculture)</th>\n",
              "      <th>Youth unemployment rate (female to male ratio)</th>\n",
              "      <th>Unemployment, youth (% ages 15–24)</th>\n",
              "      <th>Mortality rate, female grown up (per 1,000 people)</th>\n",
              "      <th>...</th>\n",
              "      <th>galaxy_Reticulum II</th>\n",
              "      <th>galaxy_Reticulum III</th>\n",
              "      <th>galaxy_Sagittarius Dwarf Irregular Galaxy (SagDIG)</th>\n",
              "      <th>galaxy_Sagittarius Dwarf Sphr SagDEG</th>\n",
              "      <th>galaxy_Sagittarius II</th>\n",
              "      <th>galaxy_Sculptor Dwarf (E351-G30)</th>\n",
              "      <th>galaxy_Segue 1</th>\n",
              "      <th>galaxy_Segue 2</th>\n",
              "      <th>galaxy_Sextans A (92205, DDO 75)</th>\n",
              "      <th>galaxy_Sextans B (UGC 5373)</th>\n",
              "      <th>galaxy_Sextans Dwarf Sph</th>\n",
              "      <th>galaxy_Small Magellanic Cloud (SMC, NGC 292)</th>\n",
              "      <th>galaxy_Triangulum Galaxy (M33)</th>\n",
              "      <th>galaxy_Triangulum II</th>\n",
              "      <th>galaxy_Tucana Dwarf</th>\n",
              "      <th>galaxy_Tucana II</th>\n",
              "      <th>galaxy_Tucana III</th>\n",
              "      <th>galaxy_Tucana IV</th>\n",
              "      <th>galaxy_UGC 4483</th>\n",
              "      <th>galaxy_UGC 4879 (VV124)[61]</th>\n",
              "      <th>galaxy_UGC 7577 (DDO 125)</th>\n",
              "      <th>galaxy_UGC 8508 (I Zw 060)</th>\n",
              "      <th>galaxy_UGC 8651 (DDO 181)</th>\n",
              "      <th>galaxy_UGC 8833</th>\n",
              "      <th>galaxy_UGC 9128 (DDO 187)</th>\n",
              "      <th>galaxy_UGC 9240 (DDO 190)</th>\n",
              "      <th>galaxy_UGCA 105</th>\n",
              "      <th>galaxy_UGCA 133 (DDO 44)</th>\n",
              "      <th>galaxy_UGCA 15 (DDO 6)</th>\n",
              "      <th>galaxy_UGCA 276 (DDO 113)</th>\n",
              "      <th>galaxy_UGCA 292</th>\n",
              "      <th>galaxy_UGCA 438 (ESO 407-018)</th>\n",
              "      <th>galaxy_UGCA 86</th>\n",
              "      <th>galaxy_UGCA 92</th>\n",
              "      <th>galaxy_Ursa Major I Dwarf (UMa I dSph)</th>\n",
              "      <th>galaxy_Ursa Major II Dwarf</th>\n",
              "      <th>galaxy_Ursa Minor Dwarf</th>\n",
              "      <th>galaxy_Virgo I</th>\n",
              "      <th>galaxy_Willman 1</th>\n",
              "      <th>galaxy_Wolf-Lundmark-Melotte (WLM, DDO 221)</th>\n",
              "    </tr>\n",
              "  </thead>\n",
              "  <tbody>\n",
              "    <tr>\n",
              "      <th>0</th>\n",
              "      <td>990025.0</td>\n",
              "      <td>Large Magellanic Cloud (LMC)</td>\n",
              "      <td>0.628657</td>\n",
              "      <td>63.125200</td>\n",
              "      <td>27109.234310</td>\n",
              "      <td>0.646039</td>\n",
              "      <td>8.240543</td>\n",
              "      <td>13.325463</td>\n",
              "      <td>0.888222</td>\n",
              "      <td>0.768955</td>\n",
              "      <td>85.316816</td>\n",
              "      <td>84.353852</td>\n",
              "      <td>78.213431</td>\n",
              "      <td>38.305483</td>\n",
              "      <td>681.841086</td>\n",
              "      <td>22.131436</td>\n",
              "      <td>150.259290</td>\n",
              "      <td>129.841789</td>\n",
              "      <td>12.403812</td>\n",
              "      <td>490.446400</td>\n",
              "      <td>60.121580</td>\n",
              "      <td>57.028183</td>\n",
              "      <td>69.825369</td>\n",
              "      <td>46.018230</td>\n",
              "      <td>98.216072</td>\n",
              "      <td>174.617899</td>\n",
              "      <td>2.409448</td>\n",
              "      <td>47.131287</td>\n",
              "      <td>9.455120</td>\n",
              "      <td>51.890786</td>\n",
              "      <td>79.614066</td>\n",
              "      <td>73.071600</td>\n",
              "      <td>63.770239</td>\n",
              "      <td>85.851544</td>\n",
              "      <td>71.266467</td>\n",
              "      <td>73.166354</td>\n",
              "      <td>52.770523</td>\n",
              "      <td>2.408014</td>\n",
              "      <td>23.178778</td>\n",
              "      <td>431.270303</td>\n",
              "      <td>...</td>\n",
              "      <td>0.0</td>\n",
              "      <td>0.0</td>\n",
              "      <td>0.0</td>\n",
              "      <td>0.0</td>\n",
              "      <td>0.0</td>\n",
              "      <td>0.0</td>\n",
              "      <td>0.0</td>\n",
              "      <td>0.0</td>\n",
              "      <td>0.0</td>\n",
              "      <td>0.0</td>\n",
              "      <td>0.0</td>\n",
              "      <td>0.0</td>\n",
              "      <td>0.0</td>\n",
              "      <td>0.0</td>\n",
              "      <td>0.0</td>\n",
              "      <td>0.0</td>\n",
              "      <td>0.0</td>\n",
              "      <td>0.0</td>\n",
              "      <td>0.0</td>\n",
              "      <td>0.0</td>\n",
              "      <td>0.0</td>\n",
              "      <td>0.0</td>\n",
              "      <td>0.0</td>\n",
              "      <td>0.0</td>\n",
              "      <td>0.0</td>\n",
              "      <td>0.0</td>\n",
              "      <td>0.0</td>\n",
              "      <td>0.0</td>\n",
              "      <td>0.0</td>\n",
              "      <td>0.0</td>\n",
              "      <td>0.0</td>\n",
              "      <td>0.0</td>\n",
              "      <td>0.0</td>\n",
              "      <td>0.0</td>\n",
              "      <td>0.0</td>\n",
              "      <td>0.0</td>\n",
              "      <td>0.0</td>\n",
              "      <td>0.0</td>\n",
              "      <td>0.0</td>\n",
              "      <td>0.0</td>\n",
              "    </tr>\n",
              "    <tr>\n",
              "      <th>1</th>\n",
              "      <td>990025.0</td>\n",
              "      <td>Camelopardalis B</td>\n",
              "      <td>0.818082</td>\n",
              "      <td>81.004994</td>\n",
              "      <td>30166.793958</td>\n",
              "      <td>0.852246</td>\n",
              "      <td>10.671823</td>\n",
              "      <td>4.742470</td>\n",
              "      <td>0.833624</td>\n",
              "      <td>0.467873</td>\n",
              "      <td>152.522198</td>\n",
              "      <td>114.794958</td>\n",
              "      <td>116.785412</td>\n",
              "      <td>36.255559</td>\n",
              "      <td>423.973089</td>\n",
              "      <td>89.294181</td>\n",
              "      <td>117.069332</td>\n",
              "      <td>61.822590</td>\n",
              "      <td>13.054898</td>\n",
              "      <td>560.547706</td>\n",
              "      <td>58.573002</td>\n",
              "      <td>69.873905</td>\n",
              "      <td>76.752305</td>\n",
              "      <td>40.167960</td>\n",
              "      <td>88.322574</td>\n",
              "      <td>109.892385</td>\n",
              "      <td>2.135966</td>\n",
              "      <td>63.290081</td>\n",
              "      <td>15.992775</td>\n",
              "      <td>46.200242</td>\n",
              "      <td>63.813720</td>\n",
              "      <td>45.482071</td>\n",
              "      <td>65.293896</td>\n",
              "      <td>93.526359</td>\n",
              "      <td>69.905912</td>\n",
              "      <td>35.590371</td>\n",
              "      <td>53.690605</td>\n",
              "      <td>2.080654</td>\n",
              "      <td>32.291273</td>\n",
              "      <td>221.411013</td>\n",
              "      <td>...</td>\n",
              "      <td>0.0</td>\n",
              "      <td>0.0</td>\n",
              "      <td>0.0</td>\n",
              "      <td>0.0</td>\n",
              "      <td>0.0</td>\n",
              "      <td>0.0</td>\n",
              "      <td>0.0</td>\n",
              "      <td>0.0</td>\n",
              "      <td>0.0</td>\n",
              "      <td>0.0</td>\n",
              "      <td>0.0</td>\n",
              "      <td>0.0</td>\n",
              "      <td>0.0</td>\n",
              "      <td>0.0</td>\n",
              "      <td>0.0</td>\n",
              "      <td>0.0</td>\n",
              "      <td>0.0</td>\n",
              "      <td>0.0</td>\n",
              "      <td>0.0</td>\n",
              "      <td>0.0</td>\n",
              "      <td>0.0</td>\n",
              "      <td>0.0</td>\n",
              "      <td>0.0</td>\n",
              "      <td>0.0</td>\n",
              "      <td>0.0</td>\n",
              "      <td>0.0</td>\n",
              "      <td>0.0</td>\n",
              "      <td>0.0</td>\n",
              "      <td>0.0</td>\n",
              "      <td>0.0</td>\n",
              "      <td>0.0</td>\n",
              "      <td>0.0</td>\n",
              "      <td>0.0</td>\n",
              "      <td>0.0</td>\n",
              "      <td>0.0</td>\n",
              "      <td>0.0</td>\n",
              "      <td>0.0</td>\n",
              "      <td>0.0</td>\n",
              "      <td>0.0</td>\n",
              "      <td>0.0</td>\n",
              "    </tr>\n",
              "    <tr>\n",
              "      <th>2</th>\n",
              "      <td>990025.0</td>\n",
              "      <td>Virgo I</td>\n",
              "      <td>0.659443</td>\n",
              "      <td>59.570534</td>\n",
              "      <td>8441.707353</td>\n",
              "      <td>0.499762</td>\n",
              "      <td>8.840316</td>\n",
              "      <td>5.583973</td>\n",
              "      <td>0.469110</td>\n",
              "      <td>0.363837</td>\n",
              "      <td>209.813266</td>\n",
              "      <td>76.293369</td>\n",
              "      <td>35.923077</td>\n",
              "      <td>18.093991</td>\n",
              "      <td>285.572207</td>\n",
              "      <td>57.491083</td>\n",
              "      <td>226.523760</td>\n",
              "      <td>134.558437</td>\n",
              "      <td>15.963001</td>\n",
              "      <td>555.012461</td>\n",
              "      <td>43.078497</td>\n",
              "      <td>59.462626</td>\n",
              "      <td>59.152506</td>\n",
              "      <td>91.093668</td>\n",
              "      <td>114.163995</td>\n",
              "      <td>230.573666</td>\n",
              "      <td>2.206806</td>\n",
              "      <td>81.937023</td>\n",
              "      <td>16.579483</td>\n",
              "      <td>73.915354</td>\n",
              "      <td>80.874149</td>\n",
              "      <td>75.217727</td>\n",
              "      <td>52.292348</td>\n",
              "      <td>95.041272</td>\n",
              "      <td>69.002445</td>\n",
              "      <td>48.892555</td>\n",
              "      <td>34.945793</td>\n",
              "      <td>1.731434</td>\n",
              "      <td>29.456379</td>\n",
              "      <td>513.730396</td>\n",
              "      <td>...</td>\n",
              "      <td>0.0</td>\n",
              "      <td>0.0</td>\n",
              "      <td>0.0</td>\n",
              "      <td>0.0</td>\n",
              "      <td>0.0</td>\n",
              "      <td>0.0</td>\n",
              "      <td>0.0</td>\n",
              "      <td>0.0</td>\n",
              "      <td>0.0</td>\n",
              "      <td>0.0</td>\n",
              "      <td>0.0</td>\n",
              "      <td>0.0</td>\n",
              "      <td>0.0</td>\n",
              "      <td>0.0</td>\n",
              "      <td>0.0</td>\n",
              "      <td>0.0</td>\n",
              "      <td>0.0</td>\n",
              "      <td>0.0</td>\n",
              "      <td>0.0</td>\n",
              "      <td>0.0</td>\n",
              "      <td>0.0</td>\n",
              "      <td>0.0</td>\n",
              "      <td>0.0</td>\n",
              "      <td>0.0</td>\n",
              "      <td>0.0</td>\n",
              "      <td>0.0</td>\n",
              "      <td>0.0</td>\n",
              "      <td>0.0</td>\n",
              "      <td>0.0</td>\n",
              "      <td>0.0</td>\n",
              "      <td>0.0</td>\n",
              "      <td>0.0</td>\n",
              "      <td>0.0</td>\n",
              "      <td>0.0</td>\n",
              "      <td>0.0</td>\n",
              "      <td>0.0</td>\n",
              "      <td>0.0</td>\n",
              "      <td>1.0</td>\n",
              "      <td>0.0</td>\n",
              "      <td>0.0</td>\n",
              "    </tr>\n",
              "    <tr>\n",
              "      <th>3</th>\n",
              "      <td>990025.0</td>\n",
              "      <td>UGC 8651 (DDO 181)</td>\n",
              "      <td>0.555862</td>\n",
              "      <td>52.333293</td>\n",
              "      <td>19836.225532</td>\n",
              "      <td>0.570941</td>\n",
              "      <td>7.673832</td>\n",
              "      <td>7.521944</td>\n",
              "      <td>0.433572</td>\n",
              "      <td>0.339944</td>\n",
              "      <td>185.582814</td>\n",
              "      <td>61.971239</td>\n",
              "      <td>54.456298</td>\n",
              "      <td>36.301844</td>\n",
              "      <td>327.202247</td>\n",
              "      <td>47.785456</td>\n",
              "      <td>279.000175</td>\n",
              "      <td>193.228799</td>\n",
              "      <td>12.940991</td>\n",
              "      <td>766.807703</td>\n",
              "      <td>51.318372</td>\n",
              "      <td>50.535797</td>\n",
              "      <td>54.931369</td>\n",
              "      <td>92.727892</td>\n",
              "      <td>97.645232</td>\n",
              "      <td>198.971328</td>\n",
              "      <td>2.130246</td>\n",
              "      <td>112.291765</td>\n",
              "      <td>9.755994</td>\n",
              "      <td>89.320278</td>\n",
              "      <td>84.721882</td>\n",
              "      <td>82.026125</td>\n",
              "      <td>47.582357</td>\n",
              "      <td>86.307832</td>\n",
              "      <td>74.933056</td>\n",
              "      <td>79.859972</td>\n",
              "      <td>53.090667</td>\n",
              "      <td>2.171635</td>\n",
              "      <td>20.373172</td>\n",
              "      <td>497.785386</td>\n",
              "      <td>...</td>\n",
              "      <td>0.0</td>\n",
              "      <td>0.0</td>\n",
              "      <td>0.0</td>\n",
              "      <td>0.0</td>\n",
              "      <td>0.0</td>\n",
              "      <td>0.0</td>\n",
              "      <td>0.0</td>\n",
              "      <td>0.0</td>\n",
              "      <td>0.0</td>\n",
              "      <td>0.0</td>\n",
              "      <td>0.0</td>\n",
              "      <td>0.0</td>\n",
              "      <td>0.0</td>\n",
              "      <td>0.0</td>\n",
              "      <td>0.0</td>\n",
              "      <td>0.0</td>\n",
              "      <td>0.0</td>\n",
              "      <td>0.0</td>\n",
              "      <td>0.0</td>\n",
              "      <td>0.0</td>\n",
              "      <td>0.0</td>\n",
              "      <td>0.0</td>\n",
              "      <td>1.0</td>\n",
              "      <td>0.0</td>\n",
              "      <td>0.0</td>\n",
              "      <td>0.0</td>\n",
              "      <td>0.0</td>\n",
              "      <td>0.0</td>\n",
              "      <td>0.0</td>\n",
              "      <td>0.0</td>\n",
              "      <td>0.0</td>\n",
              "      <td>0.0</td>\n",
              "      <td>0.0</td>\n",
              "      <td>0.0</td>\n",
              "      <td>0.0</td>\n",
              "      <td>0.0</td>\n",
              "      <td>0.0</td>\n",
              "      <td>0.0</td>\n",
              "      <td>0.0</td>\n",
              "      <td>0.0</td>\n",
              "    </tr>\n",
              "    <tr>\n",
              "      <th>4</th>\n",
              "      <td>990025.0</td>\n",
              "      <td>Tucana Dwarf</td>\n",
              "      <td>0.991196</td>\n",
              "      <td>81.802464</td>\n",
              "      <td>81033.956906</td>\n",
              "      <td>1.131163</td>\n",
              "      <td>13.800672</td>\n",
              "      <td>13.188907</td>\n",
              "      <td>0.910341</td>\n",
              "      <td>0.918353</td>\n",
              "      <td>71.885345</td>\n",
              "      <td>116.065493</td>\n",
              "      <td>129.948190</td>\n",
              "      <td>34.497468</td>\n",
              "      <td>633.799718</td>\n",
              "      <td>103.562629</td>\n",
              "      <td>28.359587</td>\n",
              "      <td>51.098250</td>\n",
              "      <td>25.521926</td>\n",
              "      <td>585.434804</td>\n",
              "      <td>56.158054</td>\n",
              "      <td>85.020965</td>\n",
              "      <td>84.708158</td>\n",
              "      <td>71.493810</td>\n",
              "      <td>53.835875</td>\n",
              "      <td>61.008654</td>\n",
              "      <td>2.490375</td>\n",
              "      <td>64.081547</td>\n",
              "      <td>27.609100</td>\n",
              "      <td>45.146282</td>\n",
              "      <td>61.086141</td>\n",
              "      <td>66.286848</td>\n",
              "      <td>72.639229</td>\n",
              "      <td>76.671844</td>\n",
              "      <td>59.780579</td>\n",
              "      <td>66.252959</td>\n",
              "      <td>50.429149</td>\n",
              "      <td>2.369888</td>\n",
              "      <td>53.696983</td>\n",
              "      <td>150.173225</td>\n",
              "      <td>...</td>\n",
              "      <td>0.0</td>\n",
              "      <td>0.0</td>\n",
              "      <td>0.0</td>\n",
              "      <td>0.0</td>\n",
              "      <td>0.0</td>\n",
              "      <td>0.0</td>\n",
              "      <td>0.0</td>\n",
              "      <td>0.0</td>\n",
              "      <td>0.0</td>\n",
              "      <td>0.0</td>\n",
              "      <td>0.0</td>\n",
              "      <td>0.0</td>\n",
              "      <td>0.0</td>\n",
              "      <td>0.0</td>\n",
              "      <td>1.0</td>\n",
              "      <td>0.0</td>\n",
              "      <td>0.0</td>\n",
              "      <td>0.0</td>\n",
              "      <td>0.0</td>\n",
              "      <td>0.0</td>\n",
              "      <td>0.0</td>\n",
              "      <td>0.0</td>\n",
              "      <td>0.0</td>\n",
              "      <td>0.0</td>\n",
              "      <td>0.0</td>\n",
              "      <td>0.0</td>\n",
              "      <td>0.0</td>\n",
              "      <td>0.0</td>\n",
              "      <td>0.0</td>\n",
              "      <td>0.0</td>\n",
              "      <td>0.0</td>\n",
              "      <td>0.0</td>\n",
              "      <td>0.0</td>\n",
              "      <td>0.0</td>\n",
              "      <td>0.0</td>\n",
              "      <td>0.0</td>\n",
              "      <td>0.0</td>\n",
              "      <td>0.0</td>\n",
              "      <td>0.0</td>\n",
              "      <td>0.0</td>\n",
              "    </tr>\n",
              "  </tbody>\n",
              "</table>\n",
              "<p>5 rows × 262 columns</p>\n",
              "</div>"
            ],
            "text/plain": [
              "   galactic year  ... galaxy_Wolf-Lundmark-Melotte (WLM, DDO 221)\n",
              "0       990025.0  ...                                         0.0\n",
              "1       990025.0  ...                                         0.0\n",
              "2       990025.0  ...                                         0.0\n",
              "3       990025.0  ...                                         0.0\n",
              "4       990025.0  ...                                         0.0\n",
              "\n",
              "[5 rows x 262 columns]"
            ]
          },
          "metadata": {
            "tags": []
          },
          "execution_count": 15
        }
      ]
    },
    {
      "cell_type": "code",
      "metadata": {
        "id": "NanV19W6GAfC",
        "colab_type": "code",
        "outputId": "f693fb31-af21-427c-de3e-576ef698d5d8",
        "colab": {
          "base_uri": "https://localhost:8080/",
          "height": 423
        }
      },
      "source": [
        "test.head()"
      ],
      "execution_count": 16,
      "outputs": [
        {
          "output_type": "execute_result",
          "data": {
            "text/html": [
              "<div>\n",
              "<style scoped>\n",
              "    .dataframe tbody tr th:only-of-type {\n",
              "        vertical-align: middle;\n",
              "    }\n",
              "\n",
              "    .dataframe tbody tr th {\n",
              "        vertical-align: top;\n",
              "    }\n",
              "\n",
              "    .dataframe thead th {\n",
              "        text-align: right;\n",
              "    }\n",
              "</style>\n",
              "<table border=\"1\" class=\"dataframe\">\n",
              "  <thead>\n",
              "    <tr style=\"text-align: right;\">\n",
              "      <th></th>\n",
              "      <th>galactic year</th>\n",
              "      <th>galaxy</th>\n",
              "      <th>existence expectancy index</th>\n",
              "      <th>existence expectancy at birth</th>\n",
              "      <th>Gross income per capita</th>\n",
              "      <th>Income Index</th>\n",
              "      <th>Expected years of education (galactic years)</th>\n",
              "      <th>Mean years of education (galactic years)</th>\n",
              "      <th>Intergalactic Development Index (IDI)</th>\n",
              "      <th>Education Index</th>\n",
              "      <th>Intergalactic Development Index (IDI), Rank</th>\n",
              "      <th>Population using at least basic drinking-water services (%)</th>\n",
              "      <th>Population using at least basic sanitation services (%)</th>\n",
              "      <th>Gross capital formation (% of GGP)</th>\n",
              "      <th>Population, total (millions)</th>\n",
              "      <th>Population, urban (%)</th>\n",
              "      <th>Mortality rate, under-five (per 1,000 live births)</th>\n",
              "      <th>Mortality rate, infant (per 1,000 live births)</th>\n",
              "      <th>Old age dependency ratio (old age (65 and older) per 100 creatures (ages 15-64))</th>\n",
              "      <th>Population, ages 15–64 (millions)</th>\n",
              "      <th>Population, ages 65 and older (millions)</th>\n",
              "      <th>Life expectancy at birth, male (galactic years)</th>\n",
              "      <th>Life expectancy at birth, female (galactic years)</th>\n",
              "      <th>Population, under age 5 (millions)</th>\n",
              "      <th>Young age (0-14) dependency ratio (per 100 creatures ages 15-64)</th>\n",
              "      <th>Adolescent birth rate (births per 1,000 female creatures ages 15-19)</th>\n",
              "      <th>Total unemployment rate (female to male ratio)</th>\n",
              "      <th>Vulnerable employment (% of total employment)</th>\n",
              "      <th>Unemployment, total (% of labour force)</th>\n",
              "      <th>Employment in agriculture (% of total employment)</th>\n",
              "      <th>Labour force participation rate (% ages 15 and older)</th>\n",
              "      <th>Labour force participation rate (% ages 15 and older), female</th>\n",
              "      <th>Employment in services (% of total employment)</th>\n",
              "      <th>Labour force participation rate (% ages 15 and older), male</th>\n",
              "      <th>Employment to population ratio (% ages 15 and older)</th>\n",
              "      <th>Jungle area (% of total land area)</th>\n",
              "      <th>Share of employment in nonagriculture, female (% of total employment in nonagriculture)</th>\n",
              "      <th>Youth unemployment rate (female to male ratio)</th>\n",
              "      <th>Unemployment, youth (% ages 15–24)</th>\n",
              "      <th>Mortality rate, female grown up (per 1,000 people)</th>\n",
              "      <th>...</th>\n",
              "      <th>galaxy_Reticulum II</th>\n",
              "      <th>galaxy_Reticulum III</th>\n",
              "      <th>galaxy_Sagittarius Dwarf Irregular Galaxy (SagDIG)</th>\n",
              "      <th>galaxy_Sagittarius Dwarf Sphr SagDEG</th>\n",
              "      <th>galaxy_Sagittarius II</th>\n",
              "      <th>galaxy_Sculptor Dwarf (E351-G30)</th>\n",
              "      <th>galaxy_Segue 1</th>\n",
              "      <th>galaxy_Segue 2</th>\n",
              "      <th>galaxy_Sextans A (92205, DDO 75)</th>\n",
              "      <th>galaxy_Sextans B (UGC 5373)</th>\n",
              "      <th>galaxy_Sextans Dwarf Sph</th>\n",
              "      <th>galaxy_Small Magellanic Cloud (SMC, NGC 292)</th>\n",
              "      <th>galaxy_Triangulum Galaxy (M33)</th>\n",
              "      <th>galaxy_Triangulum II</th>\n",
              "      <th>galaxy_Tucana Dwarf</th>\n",
              "      <th>galaxy_Tucana II</th>\n",
              "      <th>galaxy_Tucana III</th>\n",
              "      <th>galaxy_Tucana IV</th>\n",
              "      <th>galaxy_UGC 4483</th>\n",
              "      <th>galaxy_UGC 4879 (VV124)[61]</th>\n",
              "      <th>galaxy_UGC 7577 (DDO 125)</th>\n",
              "      <th>galaxy_UGC 8508 (I Zw 060)</th>\n",
              "      <th>galaxy_UGC 8651 (DDO 181)</th>\n",
              "      <th>galaxy_UGC 8833</th>\n",
              "      <th>galaxy_UGC 9128 (DDO 187)</th>\n",
              "      <th>galaxy_UGC 9240 (DDO 190)</th>\n",
              "      <th>galaxy_UGCA 105</th>\n",
              "      <th>galaxy_UGCA 133 (DDO 44)</th>\n",
              "      <th>galaxy_UGCA 15 (DDO 6)</th>\n",
              "      <th>galaxy_UGCA 276 (DDO 113)</th>\n",
              "      <th>galaxy_UGCA 292</th>\n",
              "      <th>galaxy_UGCA 438 (ESO 407-018)</th>\n",
              "      <th>galaxy_UGCA 86</th>\n",
              "      <th>galaxy_UGCA 92</th>\n",
              "      <th>galaxy_Ursa Major I Dwarf (UMa I dSph)</th>\n",
              "      <th>galaxy_Ursa Major II Dwarf</th>\n",
              "      <th>galaxy_Ursa Minor Dwarf</th>\n",
              "      <th>galaxy_Virgo I</th>\n",
              "      <th>galaxy_Willman 1</th>\n",
              "      <th>galaxy_Wolf-Lundmark-Melotte (WLM, DDO 221)</th>\n",
              "    </tr>\n",
              "  </thead>\n",
              "  <tbody>\n",
              "    <tr>\n",
              "      <th>0</th>\n",
              "      <td>1007012.0</td>\n",
              "      <td>KK98 77</td>\n",
              "      <td>0.456086</td>\n",
              "      <td>51.562543</td>\n",
              "      <td>12236.576447</td>\n",
              "      <td>0.593325</td>\n",
              "      <td>10.414164</td>\n",
              "      <td>10.699072</td>\n",
              "      <td>0.547114</td>\n",
              "      <td>0.556267</td>\n",
              "      <td>232.621842</td>\n",
              "      <td>105.193088</td>\n",
              "      <td>64.241392</td>\n",
              "      <td>17.418350</td>\n",
              "      <td>853.584006</td>\n",
              "      <td>56.153173</td>\n",
              "      <td>114.492035</td>\n",
              "      <td>88.839594</td>\n",
              "      <td>13.724837</td>\n",
              "      <td>522.766688</td>\n",
              "      <td>79.945460</td>\n",
              "      <td>72.331385</td>\n",
              "      <td>74.406636</td>\n",
              "      <td>88.125679</td>\n",
              "      <td>84.757820</td>\n",
              "      <td>118.132219</td>\n",
              "      <td>2.678913</td>\n",
              "      <td>93.508600</td>\n",
              "      <td>11.101943</td>\n",
              "      <td>63.260490</td>\n",
              "      <td>77.877212</td>\n",
              "      <td>64.149943</td>\n",
              "      <td>55.523753</td>\n",
              "      <td>87.092695</td>\n",
              "      <td>73.117592</td>\n",
              "      <td>40.216530</td>\n",
              "      <td>46.897833</td>\n",
              "      <td>2.258852</td>\n",
              "      <td>22.499069</td>\n",
              "      <td>278.021980</td>\n",
              "      <td>...</td>\n",
              "      <td>0.0</td>\n",
              "      <td>0.0</td>\n",
              "      <td>0.0</td>\n",
              "      <td>0.0</td>\n",
              "      <td>0.0</td>\n",
              "      <td>0.0</td>\n",
              "      <td>0.0</td>\n",
              "      <td>0.0</td>\n",
              "      <td>0.0</td>\n",
              "      <td>0.0</td>\n",
              "      <td>0.0</td>\n",
              "      <td>0.0</td>\n",
              "      <td>0.0</td>\n",
              "      <td>0.0</td>\n",
              "      <td>0.0</td>\n",
              "      <td>0.0</td>\n",
              "      <td>0.0</td>\n",
              "      <td>0.0</td>\n",
              "      <td>0.0</td>\n",
              "      <td>0.0</td>\n",
              "      <td>0.0</td>\n",
              "      <td>0.0</td>\n",
              "      <td>0.0</td>\n",
              "      <td>0.0</td>\n",
              "      <td>0.0</td>\n",
              "      <td>0.0</td>\n",
              "      <td>0.0</td>\n",
              "      <td>0.0</td>\n",
              "      <td>0.0</td>\n",
              "      <td>0.0</td>\n",
              "      <td>0.0</td>\n",
              "      <td>0.0</td>\n",
              "      <td>0.0</td>\n",
              "      <td>0.0</td>\n",
              "      <td>0.0</td>\n",
              "      <td>0.0</td>\n",
              "      <td>0.0</td>\n",
              "      <td>0.0</td>\n",
              "      <td>0.0</td>\n",
              "      <td>0.0</td>\n",
              "    </tr>\n",
              "    <tr>\n",
              "      <th>1</th>\n",
              "      <td>1007012.0</td>\n",
              "      <td>Reticulum III</td>\n",
              "      <td>0.529835</td>\n",
              "      <td>57.228262</td>\n",
              "      <td>3431.883825</td>\n",
              "      <td>0.675407</td>\n",
              "      <td>7.239485</td>\n",
              "      <td>5.311122</td>\n",
              "      <td>0.497688</td>\n",
              "      <td>0.409969</td>\n",
              "      <td>247.580771</td>\n",
              "      <td>55.730638</td>\n",
              "      <td>46.217440</td>\n",
              "      <td>33.027886</td>\n",
              "      <td>522.306874</td>\n",
              "      <td>32.654232</td>\n",
              "      <td>140.555915</td>\n",
              "      <td>87.202590</td>\n",
              "      <td>12.830114</td>\n",
              "      <td>354.763876</td>\n",
              "      <td>44.247382</td>\n",
              "      <td>66.754833</td>\n",
              "      <td>70.848793</td>\n",
              "      <td>96.646152</td>\n",
              "      <td>102.313064</td>\n",
              "      <td>131.796609</td>\n",
              "      <td>2.628505</td>\n",
              "      <td>104.310348</td>\n",
              "      <td>10.948053</td>\n",
              "      <td>92.188123</td>\n",
              "      <td>90.356123</td>\n",
              "      <td>93.114615</td>\n",
              "      <td>38.387258</td>\n",
              "      <td>92.914963</td>\n",
              "      <td>87.012683</td>\n",
              "      <td>33.618655</td>\n",
              "      <td>54.211814</td>\n",
              "      <td>2.553305</td>\n",
              "      <td>19.112398</td>\n",
              "      <td>428.715027</td>\n",
              "      <td>...</td>\n",
              "      <td>0.0</td>\n",
              "      <td>1.0</td>\n",
              "      <td>0.0</td>\n",
              "      <td>0.0</td>\n",
              "      <td>0.0</td>\n",
              "      <td>0.0</td>\n",
              "      <td>0.0</td>\n",
              "      <td>0.0</td>\n",
              "      <td>0.0</td>\n",
              "      <td>0.0</td>\n",
              "      <td>0.0</td>\n",
              "      <td>0.0</td>\n",
              "      <td>0.0</td>\n",
              "      <td>0.0</td>\n",
              "      <td>0.0</td>\n",
              "      <td>0.0</td>\n",
              "      <td>0.0</td>\n",
              "      <td>0.0</td>\n",
              "      <td>0.0</td>\n",
              "      <td>0.0</td>\n",
              "      <td>0.0</td>\n",
              "      <td>0.0</td>\n",
              "      <td>0.0</td>\n",
              "      <td>0.0</td>\n",
              "      <td>0.0</td>\n",
              "      <td>0.0</td>\n",
              "      <td>0.0</td>\n",
              "      <td>0.0</td>\n",
              "      <td>0.0</td>\n",
              "      <td>0.0</td>\n",
              "      <td>0.0</td>\n",
              "      <td>0.0</td>\n",
              "      <td>0.0</td>\n",
              "      <td>0.0</td>\n",
              "      <td>0.0</td>\n",
              "      <td>0.0</td>\n",
              "      <td>0.0</td>\n",
              "      <td>0.0</td>\n",
              "      <td>0.0</td>\n",
              "      <td>0.0</td>\n",
              "    </tr>\n",
              "    <tr>\n",
              "      <th>2</th>\n",
              "      <td>1008016.0</td>\n",
              "      <td>Reticulum III</td>\n",
              "      <td>0.560976</td>\n",
              "      <td>59.379539</td>\n",
              "      <td>27562.914252</td>\n",
              "      <td>0.594624</td>\n",
              "      <td>11.774890</td>\n",
              "      <td>5.937797</td>\n",
              "      <td>0.544744</td>\n",
              "      <td>0.486167</td>\n",
              "      <td>249.798771</td>\n",
              "      <td>58.755900</td>\n",
              "      <td>48.897493</td>\n",
              "      <td>31.613362</td>\n",
              "      <td>698.377109</td>\n",
              "      <td>85.940542</td>\n",
              "      <td>88.396528</td>\n",
              "      <td>46.447689</td>\n",
              "      <td>16.075542</td>\n",
              "      <td>342.412643</td>\n",
              "      <td>74.271221</td>\n",
              "      <td>80.974484</td>\n",
              "      <td>85.773894</td>\n",
              "      <td>72.448826</td>\n",
              "      <td>82.098309</td>\n",
              "      <td>126.422918</td>\n",
              "      <td>3.167048</td>\n",
              "      <td>73.901555</td>\n",
              "      <td>14.646810</td>\n",
              "      <td>44.653318</td>\n",
              "      <td>74.724315</td>\n",
              "      <td>68.681126</td>\n",
              "      <td>79.157436</td>\n",
              "      <td>85.191560</td>\n",
              "      <td>71.432295</td>\n",
              "      <td>93.157183</td>\n",
              "      <td>51.687871</td>\n",
              "      <td>2.456142</td>\n",
              "      <td>30.945537</td>\n",
              "      <td>219.294792</td>\n",
              "      <td>...</td>\n",
              "      <td>0.0</td>\n",
              "      <td>1.0</td>\n",
              "      <td>0.0</td>\n",
              "      <td>0.0</td>\n",
              "      <td>0.0</td>\n",
              "      <td>0.0</td>\n",
              "      <td>0.0</td>\n",
              "      <td>0.0</td>\n",
              "      <td>0.0</td>\n",
              "      <td>0.0</td>\n",
              "      <td>0.0</td>\n",
              "      <td>0.0</td>\n",
              "      <td>0.0</td>\n",
              "      <td>0.0</td>\n",
              "      <td>0.0</td>\n",
              "      <td>0.0</td>\n",
              "      <td>0.0</td>\n",
              "      <td>0.0</td>\n",
              "      <td>0.0</td>\n",
              "      <td>0.0</td>\n",
              "      <td>0.0</td>\n",
              "      <td>0.0</td>\n",
              "      <td>0.0</td>\n",
              "      <td>0.0</td>\n",
              "      <td>0.0</td>\n",
              "      <td>0.0</td>\n",
              "      <td>0.0</td>\n",
              "      <td>0.0</td>\n",
              "      <td>0.0</td>\n",
              "      <td>0.0</td>\n",
              "      <td>0.0</td>\n",
              "      <td>0.0</td>\n",
              "      <td>0.0</td>\n",
              "      <td>0.0</td>\n",
              "      <td>0.0</td>\n",
              "      <td>0.0</td>\n",
              "      <td>0.0</td>\n",
              "      <td>0.0</td>\n",
              "      <td>0.0</td>\n",
              "      <td>0.0</td>\n",
              "    </tr>\n",
              "    <tr>\n",
              "      <th>3</th>\n",
              "      <td>1007012.0</td>\n",
              "      <td>Segue 1</td>\n",
              "      <td>0.565910</td>\n",
              "      <td>59.952390</td>\n",
              "      <td>20352.232905</td>\n",
              "      <td>0.837700</td>\n",
              "      <td>11.613621</td>\n",
              "      <td>10.067882</td>\n",
              "      <td>0.691641</td>\n",
              "      <td>0.523441</td>\n",
              "      <td>211.505060</td>\n",
              "      <td>70.176431</td>\n",
              "      <td>61.254104</td>\n",
              "      <td>34.399007</td>\n",
              "      <td>714.567744</td>\n",
              "      <td>63.010857</td>\n",
              "      <td>140.662929</td>\n",
              "      <td>69.242237</td>\n",
              "      <td>13.676524</td>\n",
              "      <td>492.503103</td>\n",
              "      <td>61.142743</td>\n",
              "      <td>68.448950</td>\n",
              "      <td>75.419012</td>\n",
              "      <td>77.101505</td>\n",
              "      <td>101.081937</td>\n",
              "      <td>176.351664</td>\n",
              "      <td>2.298925</td>\n",
              "      <td>93.214100</td>\n",
              "      <td>10.143555</td>\n",
              "      <td>78.413266</td>\n",
              "      <td>77.595205</td>\n",
              "      <td>66.262884</td>\n",
              "      <td>50.560869</td>\n",
              "      <td>96.139582</td>\n",
              "      <td>75.761988</td>\n",
              "      <td>42.545501</td>\n",
              "      <td>60.770447</td>\n",
              "      <td>2.198878</td>\n",
              "      <td>17.459636</td>\n",
              "      <td>317.726149</td>\n",
              "      <td>...</td>\n",
              "      <td>0.0</td>\n",
              "      <td>0.0</td>\n",
              "      <td>0.0</td>\n",
              "      <td>0.0</td>\n",
              "      <td>0.0</td>\n",
              "      <td>0.0</td>\n",
              "      <td>1.0</td>\n",
              "      <td>0.0</td>\n",
              "      <td>0.0</td>\n",
              "      <td>0.0</td>\n",
              "      <td>0.0</td>\n",
              "      <td>0.0</td>\n",
              "      <td>0.0</td>\n",
              "      <td>0.0</td>\n",
              "      <td>0.0</td>\n",
              "      <td>0.0</td>\n",
              "      <td>0.0</td>\n",
              "      <td>0.0</td>\n",
              "      <td>0.0</td>\n",
              "      <td>0.0</td>\n",
              "      <td>0.0</td>\n",
              "      <td>0.0</td>\n",
              "      <td>0.0</td>\n",
              "      <td>0.0</td>\n",
              "      <td>0.0</td>\n",
              "      <td>0.0</td>\n",
              "      <td>0.0</td>\n",
              "      <td>0.0</td>\n",
              "      <td>0.0</td>\n",
              "      <td>0.0</td>\n",
              "      <td>0.0</td>\n",
              "      <td>0.0</td>\n",
              "      <td>0.0</td>\n",
              "      <td>0.0</td>\n",
              "      <td>0.0</td>\n",
              "      <td>0.0</td>\n",
              "      <td>0.0</td>\n",
              "      <td>0.0</td>\n",
              "      <td>0.0</td>\n",
              "      <td>0.0</td>\n",
              "    </tr>\n",
              "    <tr>\n",
              "      <th>4</th>\n",
              "      <td>1013042.0</td>\n",
              "      <td>Virgo I</td>\n",
              "      <td>0.588274</td>\n",
              "      <td>55.428320</td>\n",
              "      <td>23959.704016</td>\n",
              "      <td>0.520579</td>\n",
              "      <td>10.392416</td>\n",
              "      <td>6.374637</td>\n",
              "      <td>0.530676</td>\n",
              "      <td>0.580418</td>\n",
              "      <td>234.721069</td>\n",
              "      <td>69.768692</td>\n",
              "      <td>51.316940</td>\n",
              "      <td>15.657091</td>\n",
              "      <td>1106.554194</td>\n",
              "      <td>64.382217</td>\n",
              "      <td>219.588961</td>\n",
              "      <td>129.974418</td>\n",
              "      <td>14.013421</td>\n",
              "      <td>474.877713</td>\n",
              "      <td>21.305665</td>\n",
              "      <td>59.144562</td>\n",
              "      <td>63.990109</td>\n",
              "      <td>80.409057</td>\n",
              "      <td>111.084652</td>\n",
              "      <td>162.451451</td>\n",
              "      <td>2.421466</td>\n",
              "      <td>126.050516</td>\n",
              "      <td>13.370766</td>\n",
              "      <td>89.542879</td>\n",
              "      <td>83.677526</td>\n",
              "      <td>87.846340</td>\n",
              "      <td>28.815475</td>\n",
              "      <td>88.782958</td>\n",
              "      <td>76.502740</td>\n",
              "      <td>56.338491</td>\n",
              "      <td>45.923296</td>\n",
              "      <td>2.043633</td>\n",
              "      <td>23.401352</td>\n",
              "      <td>546.437704</td>\n",
              "      <td>...</td>\n",
              "      <td>0.0</td>\n",
              "      <td>0.0</td>\n",
              "      <td>0.0</td>\n",
              "      <td>0.0</td>\n",
              "      <td>0.0</td>\n",
              "      <td>0.0</td>\n",
              "      <td>0.0</td>\n",
              "      <td>0.0</td>\n",
              "      <td>0.0</td>\n",
              "      <td>0.0</td>\n",
              "      <td>0.0</td>\n",
              "      <td>0.0</td>\n",
              "      <td>0.0</td>\n",
              "      <td>0.0</td>\n",
              "      <td>0.0</td>\n",
              "      <td>0.0</td>\n",
              "      <td>0.0</td>\n",
              "      <td>0.0</td>\n",
              "      <td>0.0</td>\n",
              "      <td>0.0</td>\n",
              "      <td>0.0</td>\n",
              "      <td>0.0</td>\n",
              "      <td>0.0</td>\n",
              "      <td>0.0</td>\n",
              "      <td>0.0</td>\n",
              "      <td>0.0</td>\n",
              "      <td>0.0</td>\n",
              "      <td>0.0</td>\n",
              "      <td>0.0</td>\n",
              "      <td>0.0</td>\n",
              "      <td>0.0</td>\n",
              "      <td>0.0</td>\n",
              "      <td>0.0</td>\n",
              "      <td>0.0</td>\n",
              "      <td>0.0</td>\n",
              "      <td>0.0</td>\n",
              "      <td>0.0</td>\n",
              "      <td>1.0</td>\n",
              "      <td>0.0</td>\n",
              "      <td>0.0</td>\n",
              "    </tr>\n",
              "  </tbody>\n",
              "</table>\n",
              "<p>5 rows × 260 columns</p>\n",
              "</div>"
            ],
            "text/plain": [
              "   galactic year  ... galaxy_Wolf-Lundmark-Melotte (WLM, DDO 221)\n",
              "0      1007012.0  ...                                         0.0\n",
              "1      1007012.0  ...                                         0.0\n",
              "2      1008016.0  ...                                         0.0\n",
              "3      1007012.0  ...                                         0.0\n",
              "4      1013042.0  ...                                         0.0\n",
              "\n",
              "[5 rows x 260 columns]"
            ]
          },
          "metadata": {
            "tags": []
          },
          "execution_count": 16
        }
      ]
    },
    {
      "cell_type": "code",
      "metadata": {
        "id": "iV9HOm7qHH3O",
        "colab_type": "code",
        "colab": {}
      },
      "source": [
        "del train['galaxy']\n",
        "del test['galaxy']"
      ],
      "execution_count": 0,
      "outputs": []
    },
    {
      "cell_type": "markdown",
      "metadata": {
        "id": "JKXujKbt_Wy1",
        "colab_type": "text"
      },
      "source": [
        "### 1. Classification"
      ]
    },
    {
      "cell_type": "code",
      "metadata": {
        "id": "TCLVGJmr_fCE",
        "colab_type": "code",
        "colab": {}
      },
      "source": [
        "not_class_features = ['y','y_class']\n",
        "log_reg = LogisticRegression(random_state=10,\n",
        "                             max_iter=100,\n",
        "                             solver='liblinear').fit(train.loc[:,train.columns.isin(list(new_columns_galaxy))], train.y_class)"
      ],
      "execution_count": 0,
      "outputs": []
    },
    {
      "cell_type": "code",
      "metadata": {
        "id": "2zUd_mZnHDDq",
        "colab_type": "code",
        "outputId": "ac44690a-116d-49b2-cfb1-b45aae017597",
        "colab": {
          "base_uri": "https://localhost:8080/",
          "height": 34
        }
      },
      "source": [
        "log_reg.score(train.loc[:,train.columns.isin(list(new_columns_galaxy))], train.y_class)"
      ],
      "execution_count": 19,
      "outputs": [
        {
          "output_type": "execute_result",
          "data": {
            "text/plain": [
              "0.9689521345407504"
            ]
          },
          "metadata": {
            "tags": []
          },
          "execution_count": 19
        }
      ]
    },
    {
      "cell_type": "code",
      "metadata": {
        "id": "U4zfgAhlHgQK",
        "colab_type": "code",
        "colab": {}
      },
      "source": [
        "y_class_proba_test = log_reg.predict_proba(test.loc[:,test.columns.isin(list(new_columns_galaxy))])"
      ],
      "execution_count": 0,
      "outputs": []
    },
    {
      "cell_type": "code",
      "metadata": {
        "id": "gYeRyfFII_c4",
        "colab_type": "code",
        "outputId": "65180101-04ac-4c2e-d0ad-b9b0378b2543",
        "colab": {
          "base_uri": "https://localhost:8080/",
          "height": 280
        }
      },
      "source": [
        "plt.hist(y_class_proba_test[:,1], bins=35, edgecolor='black')\n",
        "plt.xlabel(\"y_class_proba_test\")\n",
        "plt.show();"
      ],
      "execution_count": 21,
      "outputs": [
        {
          "output_type": "display_data",
          "data": {
            "image/png": "[encoded data removed]",
            "text/plain": [
              "<Figure size 432x288 with 1 Axes>"
            ]
          },
          "metadata": {
            "tags": [],
            "needs_background": "light"
          }
        }
      ]
    },
    {
      "cell_type": "code",
      "metadata": {
        "id": "pLXPtypMJite",
        "colab_type": "code",
        "colab": {}
      },
      "source": [
        "test['y_class_proba_test'] = y_class_proba_test[:,1]"
      ],
      "execution_count": 0,
      "outputs": []
    },
    {
      "cell_type": "markdown",
      "metadata": {
        "id": "5zsrhXVaKMom",
        "colab_type": "text"
      },
      "source": [
        "### 2. Prediction"
      ]
    },
    {
      "cell_type": "code",
      "metadata": {
        "id": "Vq2tb2SKKHBC",
        "colab_type": "code",
        "colab": {}
      },
      "source": [
        "features = train.columns[~train.columns.isin(['y', 'y_class','galaxy', 'y_class_proba_test'])]\n",
        "lin_reg = LinearRegression()"
      ],
      "execution_count": 0,
      "outputs": []
    },
    {
      "cell_type": "code",
      "metadata": {
        "id": "BDkkp5K5PKne",
        "colab_type": "code",
        "outputId": "aeabef24-1527-4f1c-d6ef-74badc2a8a6f",
        "colab": {
          "base_uri": "https://localhost:8080/",
          "height": 34
        }
      },
      "source": [
        "lin_reg.fit(train[features], train.y)"
      ],
      "execution_count": 24,
      "outputs": [
        {
          "output_type": "execute_result",
          "data": {
            "text/plain": [
              "LinearRegression(copy_X=True, fit_intercept=True, n_jobs=None, normalize=False)"
            ]
          },
          "metadata": {
            "tags": []
          },
          "execution_count": 24
        }
      ]
    },
    {
      "cell_type": "code",
      "metadata": {
        "id": "u_oqq7HkPO0o",
        "colab_type": "code",
        "outputId": "fad4cd47-275e-4f38-90c6-9795b10bdf61",
        "colab": {
          "base_uri": "https://localhost:8080/",
          "height": 34
        }
      },
      "source": [
        "print(\"R2 =\", lin_reg.score(train[features], train.y))"
      ],
      "execution_count": 25,
      "outputs": [
        {
          "output_type": "stream",
          "text": [
            "R2 = 0.9494477860303557\n"
          ],
          "name": "stdout"
        }
      ]
    },
    {
      "cell_type": "code",
      "metadata": {
        "id": "2ok-SwAVPjEn",
        "colab_type": "code",
        "colab": {}
      },
      "source": [
        "test['y_pred'] = lin_reg.predict(test[features])"
      ],
      "execution_count": 0,
      "outputs": []
    },
    {
      "cell_type": "code",
      "metadata": {
        "id": "DwBvb6kvQXHn",
        "colab_type": "code",
        "outputId": "ae30a260-853f-443a-83fa-9ac2ffa5c11f",
        "colab": {
          "base_uri": "https://localhost:8080/",
          "height": 280
        }
      },
      "source": [
        "plt.hist(test['y_pred'], bins=35, edgecolor='black')\n",
        "plt.axvline(0.066, color='red', linestyle='dashed', linewidth=1)\n",
        "plt.xlabel('y_pred')\n",
        "plt.show()"
      ],
      "execution_count": 0,
      "outputs": [
        {
          "output_type": "display_data",
          "data": {
            "image/png": "[encoded data removed]",
            "text/plain": [
              "<Figure size 432x288 with 1 Axes>"
            ]
          },
          "metadata": {
            "tags": [],
            "needs_background": "light"
          }
        }
      ]
    },
    {
      "cell_type": "markdown",
      "metadata": {
        "id": "EIG3JMM5rCGM",
        "colab_type": "text"
      },
      "source": [
        "### 2.1 Prediction"
      ]
    },
    {
      "cell_type": "code",
      "metadata": {
        "id": "CElJZBFFrEWC",
        "colab_type": "code",
        "colab": {}
      },
      "source": [
        "from pandas import set_option\n",
        "from sklearn.preprocessing import StandardScaler\n",
        "from sklearn.model_selection import train_test_split\n",
        "from sklearn.model_selection import KFold\n",
        "from sklearn.model_selection import StratifiedKFold\n",
        "from sklearn.model_selection import cross_val_score\n",
        "from sklearn.model_selection import GridSearchCV\n",
        "\n",
        "from sklearn.pipeline import Pipeline\n",
        "from sklearn.linear_model import LinearRegression\n",
        "from sklearn.tree import DecisionTreeRegressor\n",
        "from sklearn.neighbors import KNeighborsRegressor\n",
        "\n",
        "from sklearn.naive_bayes import GaussianNB\n",
        "from sklearn.svm import SVR\n",
        "from sklearn.ensemble import AdaBoostRegressor\n",
        "from sklearn.ensemble import GradientBoostingRegressor\n",
        "from sklearn.ensemble import RandomForestRegressor\n",
        "from sklearn.ensemble import ExtraTreesRegressor"
      ],
      "execution_count": 0,
      "outputs": []
    },
    {
      "cell_type": "code",
      "metadata": {
        "id": "DmaX1CgYr8W9",
        "colab_type": "code",
        "colab": {}
      },
      "source": [
        "X =  train.loc[:,~train.columns.isin(['y'])]\n",
        "Y = train['y']\n",
        "X_train, X_test, y_train, y_test =train_test_split(X,Y,\n",
        "                                                   test_size=0.25,\n",
        "                                                   random_state=0)"
      ],
      "execution_count": 0,
      "outputs": []
    },
    {
      "cell_type": "code",
      "metadata": {
        "id": "ctG22oZRsU3h",
        "colab_type": "code",
        "colab": {}
      },
      "source": [
        "def GetBasedModel():\n",
        "    basedModels = []\n",
        "    basedModels.append(('LR'   , LinearRegression()))\n",
        "    basedModels.append(('KNN'  , KNeighborsRegressor()))\n",
        "    basedModels.append(('CART' , DecisionTreeRegressor()))\n",
        "    basedModels.append(('SVM'  , SVR()))\n",
        "    basedModels.append(('AB'   , AdaBoostRegressor()))\n",
        "    basedModels.append(('GBM'  , GradientBoostingRegressor()))\n",
        "    basedModels.append(('RF'   , RandomForestRegressor()))\n",
        "    basedModels.append(('ET'   , ExtraTreesRegressor()))\n",
        "\n",
        "    \n",
        "    return basedModels"
      ],
      "execution_count": 0,
      "outputs": []
    },
    {
      "cell_type": "code",
      "metadata": {
        "id": "x_ITbtatslBr",
        "colab_type": "code",
        "colab": {}
      },
      "source": [
        "def BasedLine2(X_train, y_train,models):\n",
        "    # Test options and evaluation metric\n",
        "    num_folds = 5\n",
        "    scoring = 'neg_root_mean_squared_error'\n",
        "\n",
        "    results = []\n",
        "    names = []\n",
        "    for name, model in models:\n",
        "        kfold = KFold(n_splits=num_folds)\n",
        "        cv_results = cross_val_score(model, X_train, y_train, cv=kfold, scoring=scoring)\n",
        "        results.append(cv_results)\n",
        "        names.append(name)\n",
        "        msg = \"%s: %f (%f)\" % (name, cv_results.mean(), cv_results.std())\n",
        "        print(msg)\n",
        "        \n",
        "    return names, results"
      ],
      "execution_count": 0,
      "outputs": []
    },
    {
      "cell_type": "code",
      "metadata": {
        "id": "6o7VOjiws7c3",
        "colab_type": "code",
        "colab": {}
      },
      "source": [
        "class PlotBoxR(object):\n",
        "    \n",
        "    \n",
        "    def __Trace(self,nameOfFeature,value): \n",
        "    \n",
        "        trace = go.Box(\n",
        "            y=value,\n",
        "            name = nameOfFeature,\n",
        "            marker = dict(\n",
        "                color = 'rgb(0, 128, 128)',\n",
        "            )\n",
        "        )\n",
        "        return trace\n",
        "\n",
        "    def PlotResult(self,names,results):\n",
        "        \n",
        "        data = []\n",
        "\n",
        "        for i in range(len(names)):\n",
        "            data.append(self.__Trace(names[i],results[i]))\n",
        "\n",
        "\n",
        "        py.iplot(data)"
      ],
      "execution_count": 0,
      "outputs": []
    },
    {
      "cell_type": "code",
      "metadata": {
        "id": "YrAiFmZktBjf",
        "colab_type": "code",
        "colab": {}
      },
      "source": [
        "models = GetBasedModel()\n",
        "names,results = BasedLine2(X_train, y_train,models)"
      ],
      "execution_count": 0,
      "outputs": []
    },
    {
      "cell_type": "code",
      "metadata": {
        "id": "j2qbarMHuqsw",
        "colab_type": "code",
        "colab": {}
      },
      "source": [
        "def ScoreDataFrame(names,results):\n",
        "    def floatingDecimals(f_val, dec=3):\n",
        "        prc = \"{:.\"+str(dec)+\"f}\" \n",
        "    \n",
        "        return float(prc.format(f_val))\n",
        "\n",
        "    scores = []\n",
        "    for r in results:\n",
        "        scores.append(floatingDecimals(r.mean(),4))\n",
        "\n",
        "    scoreDataFrame = pd.DataFrame({'Model':names, 'Score': scores})\n",
        "    return scoreDataFrame"
      ],
      "execution_count": 0,
      "outputs": []
    },
    {
      "cell_type": "code",
      "metadata": {
        "id": "e0QcdCMitFy-",
        "colab_type": "code",
        "colab": {
          "base_uri": "https://localhost:8080/",
          "height": 297
        },
        "outputId": "e8ca4fb4-7d38-4f9f-8aa7-7594b572b0a8"
      },
      "source": [
        "basedLineScore = ScoreDataFrame(names,results)\n",
        "basedLineScore"
      ],
      "execution_count": 46,
      "outputs": [
        {
          "output_type": "execute_result",
          "data": {
            "text/html": [
              "<div>\n",
              "<style scoped>\n",
              "    .dataframe tbody tr th:only-of-type {\n",
              "        vertical-align: middle;\n",
              "    }\n",
              "\n",
              "    .dataframe tbody tr th {\n",
              "        vertical-align: top;\n",
              "    }\n",
              "\n",
              "    .dataframe thead th {\n",
              "        text-align: right;\n",
              "    }\n",
              "</style>\n",
              "<table border=\"1\" class=\"dataframe\">\n",
              "  <thead>\n",
              "    <tr style=\"text-align: right;\">\n",
              "      <th></th>\n",
              "      <th>Model</th>\n",
              "      <th>Score</th>\n",
              "    </tr>\n",
              "  </thead>\n",
              "  <tbody>\n",
              "    <tr>\n",
              "      <th>0</th>\n",
              "      <td>LR</td>\n",
              "      <td>-0.0127</td>\n",
              "    </tr>\n",
              "    <tr>\n",
              "      <th>1</th>\n",
              "      <td>KNN</td>\n",
              "      <td>-0.0422</td>\n",
              "    </tr>\n",
              "    <tr>\n",
              "      <th>2</th>\n",
              "      <td>CART</td>\n",
              "      <td>-0.0255</td>\n",
              "    </tr>\n",
              "    <tr>\n",
              "      <th>3</th>\n",
              "      <td>SVM</td>\n",
              "      <td>-0.0763</td>\n",
              "    </tr>\n",
              "    <tr>\n",
              "      <th>4</th>\n",
              "      <td>AB</td>\n",
              "      <td>-0.0343</td>\n",
              "    </tr>\n",
              "    <tr>\n",
              "      <th>5</th>\n",
              "      <td>GBM</td>\n",
              "      <td>-0.0168</td>\n",
              "    </tr>\n",
              "    <tr>\n",
              "      <th>6</th>\n",
              "      <td>RF</td>\n",
              "      <td>-0.0185</td>\n",
              "    </tr>\n",
              "    <tr>\n",
              "      <th>7</th>\n",
              "      <td>ET</td>\n",
              "      <td>-0.0132</td>\n",
              "    </tr>\n",
              "  </tbody>\n",
              "</table>\n",
              "</div>"
            ],
            "text/plain": [
              "  Model   Score\n",
              "0    LR -0.0127\n",
              "1   KNN -0.0422\n",
              "2  CART -0.0255\n",
              "3   SVM -0.0763\n",
              "4    AB -0.0343\n",
              "5   GBM -0.0168\n",
              "6    RF -0.0185\n",
              "7    ET -0.0132"
            ]
          },
          "metadata": {
            "tags": []
          },
          "execution_count": 46
        }
      ]
    },
    {
      "cell_type": "code",
      "metadata": {
        "id": "QnUN6sv5uxTq",
        "colab_type": "code",
        "colab": {}
      },
      "source": [
        "from sklearn.preprocessing import MinMaxScaler\n",
        "from sklearn.preprocessing import StandardScaler\n",
        "\n",
        "\n",
        "def GetScaledModel(nameOfScaler):\n",
        "    \n",
        "    if nameOfScaler == 'standard':\n",
        "        scaler = StandardScaler()\n",
        "    elif nameOfScaler =='minmax':\n",
        "        scaler = MinMaxScaler()\n",
        "\n",
        "    pipelines = []\n",
        "    pipelines.append((nameOfScaler+'LR'  , Pipeline([('Scaler', scaler),('LR'  , LinearRegression())])))\n",
        "    pipelines.append((nameOfScaler+'KNN' , Pipeline([('Scaler', scaler),('KNN' , KNeighborsRegressor())])))\n",
        "    pipelines.append((nameOfScaler+'CART', Pipeline([('Scaler', scaler),('CART', DecisionTreeRegressor())])))\n",
        "    pipelines.append((nameOfScaler+'SVM' , Pipeline([('Scaler', scaler),('SVM' , SVR())])))\n",
        "    pipelines.append((nameOfScaler+'AB'  , Pipeline([('Scaler', scaler),('AB'  , AdaBoostRegressor())])  ))\n",
        "    pipelines.append((nameOfScaler+'GBM' , Pipeline([('Scaler', scaler),('GMB' , GradientBoostingRegressor())])  ))\n",
        "    pipelines.append((nameOfScaler+'RF'  , Pipeline([('Scaler', scaler),('RF'  , RandomForestRegressor())])  ))\n",
        "    pipelines.append((nameOfScaler+'ET'  , Pipeline([('Scaler', scaler),('ET'  , ExtraTreesRegressor())])  ))\n",
        "\n",
        "\n",
        "    return pipelines"
      ],
      "execution_count": 0,
      "outputs": []
    },
    {
      "cell_type": "code",
      "metadata": {
        "id": "2fSpR-sNvFEr",
        "colab_type": "code",
        "colab": {
          "base_uri": "https://localhost:8080/",
          "height": 433
        },
        "outputId": "302f8436-c199-456b-b74c-8f54d68ee116"
      },
      "source": [
        "models = GetScaledModel('standard')\n",
        "names,results = BasedLine2(X_train, y_train,models)\n",
        "\n",
        "scaledScoreStandard = ScoreDataFrame(names,results)\n",
        "compareModels = pd.concat([basedLineScore,\n",
        "                           scaledScoreStandard], axis=1)\n",
        "compareModels"
      ],
      "execution_count": 49,
      "outputs": [
        {
          "output_type": "stream",
          "text": [
            "standardLR: -0.012691 (0.001185)\n",
            "standardKNN: -0.012559 (0.001857)\n",
            "standardCART: -0.025442 (0.002486)\n",
            "standardSVM: -0.070462 (0.000989)\n",
            "standardAB: -0.033671 (0.002578)\n",
            "standardGBM: -0.016848 (0.001389)\n",
            "standardRF: -0.018349 (0.001120)\n",
            "standardET: -0.013413 (0.001339)\n"
          ],
          "name": "stdout"
        },
        {
          "output_type": "execute_result",
          "data": {
            "text/html": [
              "<div>\n",
              "<style scoped>\n",
              "    .dataframe tbody tr th:only-of-type {\n",
              "        vertical-align: middle;\n",
              "    }\n",
              "\n",
              "    .dataframe tbody tr th {\n",
              "        vertical-align: top;\n",
              "    }\n",
              "\n",
              "    .dataframe thead th {\n",
              "        text-align: right;\n",
              "    }\n",
              "</style>\n",
              "<table border=\"1\" class=\"dataframe\">\n",
              "  <thead>\n",
              "    <tr style=\"text-align: right;\">\n",
              "      <th></th>\n",
              "      <th>Model</th>\n",
              "      <th>Score</th>\n",
              "      <th>Model</th>\n",
              "      <th>Score</th>\n",
              "    </tr>\n",
              "  </thead>\n",
              "  <tbody>\n",
              "    <tr>\n",
              "      <th>0</th>\n",
              "      <td>LR</td>\n",
              "      <td>-0.0127</td>\n",
              "      <td>standardLR</td>\n",
              "      <td>-0.0127</td>\n",
              "    </tr>\n",
              "    <tr>\n",
              "      <th>1</th>\n",
              "      <td>KNN</td>\n",
              "      <td>-0.0422</td>\n",
              "      <td>standardKNN</td>\n",
              "      <td>-0.0126</td>\n",
              "    </tr>\n",
              "    <tr>\n",
              "      <th>2</th>\n",
              "      <td>CART</td>\n",
              "      <td>-0.0255</td>\n",
              "      <td>standardCART</td>\n",
              "      <td>-0.0254</td>\n",
              "    </tr>\n",
              "    <tr>\n",
              "      <th>3</th>\n",
              "      <td>SVM</td>\n",
              "      <td>-0.0763</td>\n",
              "      <td>standardSVM</td>\n",
              "      <td>-0.0705</td>\n",
              "    </tr>\n",
              "    <tr>\n",
              "      <th>4</th>\n",
              "      <td>AB</td>\n",
              "      <td>-0.0343</td>\n",
              "      <td>standardAB</td>\n",
              "      <td>-0.0337</td>\n",
              "    </tr>\n",
              "    <tr>\n",
              "      <th>5</th>\n",
              "      <td>GBM</td>\n",
              "      <td>-0.0168</td>\n",
              "      <td>standardGBM</td>\n",
              "      <td>-0.0168</td>\n",
              "    </tr>\n",
              "    <tr>\n",
              "      <th>6</th>\n",
              "      <td>RF</td>\n",
              "      <td>-0.0185</td>\n",
              "      <td>standardRF</td>\n",
              "      <td>-0.0183</td>\n",
              "    </tr>\n",
              "    <tr>\n",
              "      <th>7</th>\n",
              "      <td>ET</td>\n",
              "      <td>-0.0132</td>\n",
              "      <td>standardET</td>\n",
              "      <td>-0.0134</td>\n",
              "    </tr>\n",
              "  </tbody>\n",
              "</table>\n",
              "</div>"
            ],
            "text/plain": [
              "  Model   Score         Model   Score\n",
              "0    LR -0.0127    standardLR -0.0127\n",
              "1   KNN -0.0422   standardKNN -0.0126\n",
              "2  CART -0.0255  standardCART -0.0254\n",
              "3   SVM -0.0763   standardSVM -0.0705\n",
              "4    AB -0.0343    standardAB -0.0337\n",
              "5   GBM -0.0168   standardGBM -0.0168\n",
              "6    RF -0.0185    standardRF -0.0183\n",
              "7    ET -0.0132    standardET -0.0134"
            ]
          },
          "metadata": {
            "tags": []
          },
          "execution_count": 49
        }
      ]
    },
    {
      "cell_type": "code",
      "metadata": {
        "id": "2m2OmQMmvOPm",
        "colab_type": "code",
        "colab": {
          "base_uri": "https://localhost:8080/",
          "height": 433
        },
        "outputId": "9d6e368a-6ae7-4653-d8c5-86c4266db91e"
      },
      "source": [
        "models = GetScaledModel('minmax')\n",
        "names,results = BasedLine2(X_train, y_train,models)\n",
        "\n",
        "scaledScoreMinMax = ScoreDataFrame(names,results)\n",
        "compareModels = pd.concat([basedLineScore,\n",
        "                           scaledScoreStandard,\n",
        "                          scaledScoreMinMax], axis=1)\n",
        "compareModels"
      ],
      "execution_count": 50,
      "outputs": [
        {
          "output_type": "stream",
          "text": [
            "minmaxLR: -0.012691 (0.001185)\n",
            "minmaxKNN: -0.011647 (0.001658)\n",
            "minmaxCART: -0.024878 (0.003049)\n",
            "minmaxSVM: -0.044101 (0.002383)\n",
            "minmaxAB: -0.031729 (0.001839)\n",
            "minmaxGBM: -0.016759 (0.001402)\n",
            "minmaxRF: -0.018402 (0.001060)\n",
            "minmaxET: -0.013309 (0.001359)\n"
          ],
          "name": "stdout"
        },
        {
          "output_type": "execute_result",
          "data": {
            "text/html": [
              "<div>\n",
              "<style scoped>\n",
              "    .dataframe tbody tr th:only-of-type {\n",
              "        vertical-align: middle;\n",
              "    }\n",
              "\n",
              "    .dataframe tbody tr th {\n",
              "        vertical-align: top;\n",
              "    }\n",
              "\n",
              "    .dataframe thead th {\n",
              "        text-align: right;\n",
              "    }\n",
              "</style>\n",
              "<table border=\"1\" class=\"dataframe\">\n",
              "  <thead>\n",
              "    <tr style=\"text-align: right;\">\n",
              "      <th></th>\n",
              "      <th>Model</th>\n",
              "      <th>Score</th>\n",
              "      <th>Model</th>\n",
              "      <th>Score</th>\n",
              "      <th>Model</th>\n",
              "      <th>Score</th>\n",
              "    </tr>\n",
              "  </thead>\n",
              "  <tbody>\n",
              "    <tr>\n",
              "      <th>0</th>\n",
              "      <td>LR</td>\n",
              "      <td>-0.0127</td>\n",
              "      <td>standardLR</td>\n",
              "      <td>-0.0127</td>\n",
              "      <td>minmaxLR</td>\n",
              "      <td>-0.0127</td>\n",
              "    </tr>\n",
              "    <tr>\n",
              "      <th>1</th>\n",
              "      <td>KNN</td>\n",
              "      <td>-0.0422</td>\n",
              "      <td>standardKNN</td>\n",
              "      <td>-0.0126</td>\n",
              "      <td>minmaxKNN</td>\n",
              "      <td>-0.0116</td>\n",
              "    </tr>\n",
              "    <tr>\n",
              "      <th>2</th>\n",
              "      <td>CART</td>\n",
              "      <td>-0.0255</td>\n",
              "      <td>standardCART</td>\n",
              "      <td>-0.0254</td>\n",
              "      <td>minmaxCART</td>\n",
              "      <td>-0.0249</td>\n",
              "    </tr>\n",
              "    <tr>\n",
              "      <th>3</th>\n",
              "      <td>SVM</td>\n",
              "      <td>-0.0763</td>\n",
              "      <td>standardSVM</td>\n",
              "      <td>-0.0705</td>\n",
              "      <td>minmaxSVM</td>\n",
              "      <td>-0.0441</td>\n",
              "    </tr>\n",
              "    <tr>\n",
              "      <th>4</th>\n",
              "      <td>AB</td>\n",
              "      <td>-0.0343</td>\n",
              "      <td>standardAB</td>\n",
              "      <td>-0.0337</td>\n",
              "      <td>minmaxAB</td>\n",
              "      <td>-0.0317</td>\n",
              "    </tr>\n",
              "    <tr>\n",
              "      <th>5</th>\n",
              "      <td>GBM</td>\n",
              "      <td>-0.0168</td>\n",
              "      <td>standardGBM</td>\n",
              "      <td>-0.0168</td>\n",
              "      <td>minmaxGBM</td>\n",
              "      <td>-0.0168</td>\n",
              "    </tr>\n",
              "    <tr>\n",
              "      <th>6</th>\n",
              "      <td>RF</td>\n",
              "      <td>-0.0185</td>\n",
              "      <td>standardRF</td>\n",
              "      <td>-0.0183</td>\n",
              "      <td>minmaxRF</td>\n",
              "      <td>-0.0184</td>\n",
              "    </tr>\n",
              "    <tr>\n",
              "      <th>7</th>\n",
              "      <td>ET</td>\n",
              "      <td>-0.0132</td>\n",
              "      <td>standardET</td>\n",
              "      <td>-0.0134</td>\n",
              "      <td>minmaxET</td>\n",
              "      <td>-0.0133</td>\n",
              "    </tr>\n",
              "  </tbody>\n",
              "</table>\n",
              "</div>"
            ],
            "text/plain": [
              "  Model   Score         Model   Score       Model   Score\n",
              "0    LR -0.0127    standardLR -0.0127    minmaxLR -0.0127\n",
              "1   KNN -0.0422   standardKNN -0.0126   minmaxKNN -0.0116\n",
              "2  CART -0.0255  standardCART -0.0254  minmaxCART -0.0249\n",
              "3   SVM -0.0763   standardSVM -0.0705   minmaxSVM -0.0441\n",
              "4    AB -0.0343    standardAB -0.0337    minmaxAB -0.0317\n",
              "5   GBM -0.0168   standardGBM -0.0168   minmaxGBM -0.0168\n",
              "6    RF -0.0185    standardRF -0.0183    minmaxRF -0.0184\n",
              "7    ET -0.0132    standardET -0.0134    minmaxET -0.0133"
            ]
          },
          "metadata": {
            "tags": []
          },
          "execution_count": 50
        }
      ]
    },
    {
      "cell_type": "code",
      "metadata": {
        "id": "0-dgmCZkv1t2",
        "colab_type": "code",
        "colab": {
          "base_uri": "https://localhost:8080/",
          "height": 646
        },
        "outputId": "faa37acf-adf1-4e80-b0f8-859a1a2f1808"
      },
      "source": [
        "import seaborn as sns\n",
        "\n",
        "def HeatMap(df,x=True):\n",
        "        correlations = df.corr()\n",
        "        ## Create color map ranging between two colors\n",
        "        cmap = sns.diverging_palette(220, 10, as_cmap=True)\n",
        "        fig, ax = plt.subplots(figsize=(10, 10))\n",
        "        fig = sns.heatmap(correlations, cmap=cmap, vmax=1.0, center=0,square=True, linewidths=.5, annot=x, cbar_kws={\"shrink\": .75})\n",
        "        fig.set_xticklabels(fig.get_xticklabels(), rotation = 90, fontsize = 10)\n",
        "        fig.set_yticklabels(fig.get_yticklabels(), rotation = 0, fontsize = 10)\n",
        "        plt.tight_layout()\n",
        "        plt.show()\n",
        "\n",
        "HeatMap(train[list(train.columns[3:10]) + ['y']],x=True)"
      ],
      "execution_count": 63,
      "outputs": [
        {
          "output_type": "display_data",
          "data": {
            "image/png": "[encoded data removed]",
            "text/plain": [
              "<Figure size 720x720 with 2 Axes>"
            ]
          },
          "metadata": {
            "tags": [],
            "needs_background": "light"
          }
        }
      ]
    },
    {
      "cell_type": "code",
      "metadata": {
        "id": "ivWs1MwTx9FT",
        "colab_type": "code",
        "colab": {
          "base_uri": "https://localhost:8080/",
          "height": 295
        },
        "outputId": "e62023c2-4cd3-48a1-a859-343c75312633"
      },
      "source": [
        "clf = ExtraTreesRegressor(n_estimators=250,\n",
        "                              random_state=10)\n",
        "\n",
        "clf.fit(X_train, y_train)\n",
        "\n",
        "# #############################################################################\n",
        "# Plot feature importance\n",
        "feature_importance = clf.feature_importances_\n",
        "# make importances relative to max importance\n",
        "feature_importance = 100.0 * (feature_importance / feature_importance.max())\n",
        "sorted_idx = np.argsort(feature_importance)\n",
        "pos = np.arange(sorted_idx.shape[0]) + .5\n",
        "plt.subplot(1, 2, 2)\n",
        "plt.barh(pos[1:10], feature_importance[sorted_idx[1:10]], align='center')\n",
        "plt.yticks(pos[1:10], train.columns[sorted_idx[1:10]])#boston.feature_names[sorted_idx])\n",
        "plt.xlabel('Relative Importance')\n",
        "plt.title('Variable Importance')\n",
        "plt.show()"
      ],
      "execution_count": 71,
      "outputs": [
        {
          "output_type": "display_data",
          "data": {
            "image/png": "[encoded data removed]",
            "text/plain": [
              "<Figure size 432x288 with 1 Axes>"
            ]
          },
          "metadata": {
            "tags": [],
            "needs_background": "light"
          }
        }
      ]
    },
    {
      "cell_type": "code",
      "metadata": {
        "id": "oSA3SYHbyMA6",
        "colab_type": "code",
        "colab": {}
      },
      "source": [
        "### Tuning"
      ],
      "execution_count": 0,
      "outputs": []
    },
    {
      "cell_type": "code",
      "metadata": {
        "id": "0GLKH5dXyKEN",
        "colab_type": "code",
        "colab": {}
      },
      "source": [
        "df_unscaled = train.loc[:,~train.columns.isin(['y', 'y_class'])]\n",
        "df_imp_scaled_name = df_unscaled.columns"
      ],
      "execution_count": 0,
      "outputs": []
    },
    {
      "cell_type": "code",
      "metadata": {
        "id": "ZulpUjS60YXy",
        "colab_type": "code",
        "colab": {
          "base_uri": "https://localhost:8080/",
          "height": 979
        },
        "outputId": "6fd47dc2-2306-402e-8b73-2da19d8168a0"
      },
      "source": [
        "df_corr = pd.DataFrame(data=train.corrwith(train.y), columns=['corr'])\n",
        "df_corr['abs_corr'] = np.abs(df_corr['corr'])\n",
        "df_corr.sort_values(by='abs_corr', ascending=False).head(30)"
      ],
      "execution_count": 84,
      "outputs": [
        {
          "output_type": "execute_result",
          "data": {
            "text/html": [
              "<div>\n",
              "<style scoped>\n",
              "    .dataframe tbody tr th:only-of-type {\n",
              "        vertical-align: middle;\n",
              "    }\n",
              "\n",
              "    .dataframe tbody tr th {\n",
              "        vertical-align: top;\n",
              "    }\n",
              "\n",
              "    .dataframe thead th {\n",
              "        text-align: right;\n",
              "    }\n",
              "</style>\n",
              "<table border=\"1\" class=\"dataframe\">\n",
              "  <thead>\n",
              "    <tr style=\"text-align: right;\">\n",
              "      <th></th>\n",
              "      <th>corr</th>\n",
              "      <th>abs_corr</th>\n",
              "    </tr>\n",
              "  </thead>\n",
              "  <tbody>\n",
              "    <tr>\n",
              "      <th>y</th>\n",
              "      <td>1.000000</td>\n",
              "      <td>1.000000</td>\n",
              "    </tr>\n",
              "    <tr>\n",
              "      <th>y_class</th>\n",
              "      <td>-0.679365</td>\n",
              "      <td>0.679365</td>\n",
              "    </tr>\n",
              "    <tr>\n",
              "      <th>Intergalactic Development Index (IDI), Rank</th>\n",
              "      <td>-0.668840</td>\n",
              "      <td>0.668840</td>\n",
              "    </tr>\n",
              "    <tr>\n",
              "      <th>Gender Inequality Index (GII)</th>\n",
              "      <td>-0.654510</td>\n",
              "      <td>0.654510</td>\n",
              "    </tr>\n",
              "    <tr>\n",
              "      <th>Intergalactic Development Index (IDI)</th>\n",
              "      <td>0.618800</td>\n",
              "      <td>0.618800</td>\n",
              "    </tr>\n",
              "    <tr>\n",
              "      <th>Intergalactic Development Index (IDI), male, Rank</th>\n",
              "      <td>-0.613233</td>\n",
              "      <td>0.613233</td>\n",
              "    </tr>\n",
              "    <tr>\n",
              "      <th>Education Index</th>\n",
              "      <td>0.607597</td>\n",
              "      <td>0.607597</td>\n",
              "    </tr>\n",
              "    <tr>\n",
              "      <th>Intergalactic Development Index (IDI), female, Rank</th>\n",
              "      <td>-0.603504</td>\n",
              "      <td>0.603504</td>\n",
              "    </tr>\n",
              "    <tr>\n",
              "      <th>Old age dependency ratio (old age (65 and older) per 100 creatures (ages 15-64))</th>\n",
              "      <td>0.596061</td>\n",
              "      <td>0.596061</td>\n",
              "    </tr>\n",
              "    <tr>\n",
              "      <th>Intergalactic Development Index (IDI), male</th>\n",
              "      <td>0.589894</td>\n",
              "      <td>0.589894</td>\n",
              "    </tr>\n",
              "    <tr>\n",
              "      <th>Estimated gross galactic income per capita, female</th>\n",
              "      <td>0.589849</td>\n",
              "      <td>0.589849</td>\n",
              "    </tr>\n",
              "    <tr>\n",
              "      <th>Expected years of education (galactic years)</th>\n",
              "      <td>0.582829</td>\n",
              "      <td>0.582829</td>\n",
              "    </tr>\n",
              "    <tr>\n",
              "      <th>Income Index</th>\n",
              "      <td>0.580760</td>\n",
              "      <td>0.580760</td>\n",
              "    </tr>\n",
              "    <tr>\n",
              "      <th>Intergalactic Development Index (IDI), female</th>\n",
              "      <td>0.580373</td>\n",
              "      <td>0.580373</td>\n",
              "    </tr>\n",
              "    <tr>\n",
              "      <th>Mean years of education (galactic years)</th>\n",
              "      <td>0.579238</td>\n",
              "      <td>0.579238</td>\n",
              "    </tr>\n",
              "    <tr>\n",
              "      <th>Interstellar Data Net users, total (% of population)</th>\n",
              "      <td>0.560728</td>\n",
              "      <td>0.560728</td>\n",
              "    </tr>\n",
              "    <tr>\n",
              "      <th>existence expectancy at birth</th>\n",
              "      <td>0.555721</td>\n",
              "      <td>0.555721</td>\n",
              "    </tr>\n",
              "    <tr>\n",
              "      <th>existence expectancy index</th>\n",
              "      <td>0.547325</td>\n",
              "      <td>0.547325</td>\n",
              "    </tr>\n",
              "    <tr>\n",
              "      <th>Expected years of education, female (galactic years)</th>\n",
              "      <td>0.539955</td>\n",
              "      <td>0.539955</td>\n",
              "    </tr>\n",
              "    <tr>\n",
              "      <th>Expected years of education, male (galactic years)</th>\n",
              "      <td>0.539140</td>\n",
              "      <td>0.539140</td>\n",
              "    </tr>\n",
              "    <tr>\n",
              "      <th>Mean years of education, female (galactic years)</th>\n",
              "      <td>0.529559</td>\n",
              "      <td>0.529559</td>\n",
              "    </tr>\n",
              "    <tr>\n",
              "      <th>Mean years of education, male (galactic years)</th>\n",
              "      <td>0.525999</td>\n",
              "      <td>0.525999</td>\n",
              "    </tr>\n",
              "    <tr>\n",
              "      <th>Gross galactic product (GGP) per capita</th>\n",
              "      <td>0.522541</td>\n",
              "      <td>0.522541</td>\n",
              "    </tr>\n",
              "    <tr>\n",
              "      <th>Employment in services (% of total employment)</th>\n",
              "      <td>0.509974</td>\n",
              "      <td>0.509974</td>\n",
              "    </tr>\n",
              "    <tr>\n",
              "      <th>Gross income per capita</th>\n",
              "      <td>0.508525</td>\n",
              "      <td>0.508525</td>\n",
              "    </tr>\n",
              "    <tr>\n",
              "      <th>Population with at least some secondary education, female (% ages 25 and older)</th>\n",
              "      <td>0.505410</td>\n",
              "      <td>0.505410</td>\n",
              "    </tr>\n",
              "    <tr>\n",
              "      <th>Life expectancy at birth, male (galactic years)</th>\n",
              "      <td>0.501524</td>\n",
              "      <td>0.501524</td>\n",
              "    </tr>\n",
              "    <tr>\n",
              "      <th>Domestic credit provided by financial sector (% of GGP)</th>\n",
              "      <td>0.500822</td>\n",
              "      <td>0.500822</td>\n",
              "    </tr>\n",
              "    <tr>\n",
              "      <th>Vulnerable employment (% of total employment)</th>\n",
              "      <td>-0.499675</td>\n",
              "      <td>0.499675</td>\n",
              "    </tr>\n",
              "    <tr>\n",
              "      <th>Employment in agriculture (% of total employment)</th>\n",
              "      <td>-0.498246</td>\n",
              "      <td>0.498246</td>\n",
              "    </tr>\n",
              "  </tbody>\n",
              "</table>\n",
              "</div>"
            ],
            "text/plain": [
              "                                                        corr  abs_corr\n",
              "y                                                   1.000000  1.000000\n",
              "y_class                                            -0.679365  0.679365\n",
              "Intergalactic Development Index (IDI), Rank        -0.668840  0.668840\n",
              "Gender Inequality Index (GII)                      -0.654510  0.654510\n",
              "Intergalactic Development Index (IDI)               0.618800  0.618800\n",
              "Intergalactic Development Index (IDI), male, Rank  -0.613233  0.613233\n",
              "Education Index                                     0.607597  0.607597\n",
              "Intergalactic Development Index (IDI), female, ... -0.603504  0.603504\n",
              "Old age dependency ratio (old age (65 and older...  0.596061  0.596061\n",
              "Intergalactic Development Index (IDI), male         0.589894  0.589894\n",
              "Estimated gross galactic income per capita, female  0.589849  0.589849\n",
              "Expected years of education (galactic years)        0.582829  0.582829\n",
              "Income Index                                        0.580760  0.580760\n",
              "Intergalactic Development Index (IDI), female       0.580373  0.580373\n",
              "Mean years of education (galactic years)            0.579238  0.579238\n",
              "Interstellar Data Net users, total (% of popula...  0.560728  0.560728\n",
              "existence expectancy at birth                       0.555721  0.555721\n",
              "existence expectancy index                          0.547325  0.547325\n",
              "Expected years of education, female (galactic y...  0.539955  0.539955\n",
              "Expected years of education, male (galactic years)  0.539140  0.539140\n",
              "Mean years of education, female (galactic years)    0.529559  0.529559\n",
              "Mean years of education, male (galactic years)      0.525999  0.525999\n",
              "Gross galactic product (GGP) per capita             0.522541  0.522541\n",
              "Employment in services (% of total employment)      0.509974  0.509974\n",
              "Gross income per capita                             0.508525  0.508525\n",
              "Population with at least some secondary educati...  0.505410  0.505410\n",
              "Life expectancy at birth, male (galactic years)     0.501524  0.501524\n",
              "Domestic credit provided by financial sector (%...  0.500822  0.500822\n",
              "Vulnerable employment (% of total employment)      -0.499675  0.499675\n",
              "Employment in agriculture (% of total employment)  -0.498246  0.498246"
            ]
          },
          "metadata": {
            "tags": []
          },
          "execution_count": 84
        }
      ]
    },
    {
      "cell_type": "code",
      "metadata": {
        "id": "OcUbWAfb6zj_",
        "colab_type": "code",
        "colab": {
          "base_uri": "https://localhost:8080/",
          "height": 350
        },
        "outputId": "ef19aede-9b7c-4cbe-b776-3837082e3468"
      },
      "source": [
        "plt.hist(df_corr['abs_corr'])"
      ],
      "execution_count": 136,
      "outputs": [
        {
          "output_type": "execute_result",
          "data": {
            "text/plain": [
              "(array([177.,  25.,   7.,   9.,  15.,  20.,   7.,   0.,   0.,   1.]),\n",
              " array([5.43451997e-04, 1.00489107e-01, 2.00434762e-01, 3.00380416e-01,\n",
              "        4.00326071e-01, 5.00271726e-01, 6.00217381e-01, 7.00163036e-01,\n",
              "        8.00108690e-01, 9.00054345e-01, 1.00000000e+00]),\n",
              " <a list of 10 Patch objects>)"
            ]
          },
          "metadata": {
            "tags": []
          },
          "execution_count": 136
        },
        {
          "output_type": "display_data",
          "data": {
            "image/png": "[encoded data removed]",
            "text/plain": [
              "<Figure size 432x288 with 1 Axes>"
            ]
          },
          "metadata": {
            "tags": [],
            "needs_background": "light"
          }
        }
      ]
    },
    {
      "cell_type": "code",
      "metadata": {
        "id": "A8Bhx3pp2L-W",
        "colab_type": "code",
        "colab": {
          "base_uri": "https://localhost:8080/",
          "height": 187
        },
        "outputId": "431d06b4-aa49-453b-d808-397515806265"
      },
      "source": [
        "corrs = [ai for ai, bi in list(zip(df_corr.index, df_corr.abs_corr)) if bi >= 0.4 and ai !='y' and ai != 'y_class']\n",
        "corrs\n",
        "galaxy_cols = [x for x in train.columns if x.startswith('galaxy')]\n",
        "galaxy_cols[:10]"
      ],
      "execution_count": 137,
      "outputs": [
        {
          "output_type": "execute_result",
          "data": {
            "text/plain": [
              "['galaxy_Andromeda Galaxy (M31)',\n",
              " 'galaxy_Andromeda I',\n",
              " 'galaxy_Andromeda II',\n",
              " 'galaxy_Andromeda III',\n",
              " 'galaxy_Andromeda IX',\n",
              " 'galaxy_Andromeda V',\n",
              " 'galaxy_Andromeda VIII',\n",
              " 'galaxy_Andromeda X',\n",
              " 'galaxy_Andromeda XI',\n",
              " 'galaxy_Andromeda XII']"
            ]
          },
          "metadata": {
            "tags": []
          },
          "execution_count": 137
        }
      ]
    },
    {
      "cell_type": "code",
      "metadata": {
        "id": "gPjLnB161xAv",
        "colab_type": "code",
        "colab": {}
      },
      "source": [
        "imp_cols = corrs + galaxy_cols"
      ],
      "execution_count": 0,
      "outputs": []
    },
    {
      "cell_type": "code",
      "metadata": {
        "id": "S71Odj_f0pwE",
        "colab_type": "code",
        "colab": {}
      },
      "source": [
        "df_unscaled = train[imp_cols]\n",
        "df_imp_scaled_name = df_unscaled.columns + ['y']"
      ],
      "execution_count": 0,
      "outputs": []
    },
    {
      "cell_type": "code",
      "metadata": {
        "id": "-tBp3Iiy25Nl",
        "colab_type": "code",
        "colab": {}
      },
      "source": [
        "df_imp_scaled = MinMaxScaler().fit_transform(df_unscaled)\n",
        "X =  df_imp_scaled\n",
        "Y =  train.y\n",
        "X_train_sc, X_test_sc, y_train_sc, y_test_sc =train_test_split(X,Y,\n",
        "                                                   test_size=0.1,\n",
        "                                                   random_state=0)"
      ],
      "execution_count": 0,
      "outputs": []
    },
    {
      "cell_type": "code",
      "metadata": {
        "id": "dOiPo0qE3pyn",
        "colab_type": "code",
        "colab": {}
      },
      "source": [
        "from sklearn.model_selection import GridSearchCV, RandomizedSearchCV\n",
        "from scipy.stats import uniform"
      ],
      "execution_count": 0,
      "outputs": []
    },
    {
      "cell_type": "code",
      "metadata": {
        "id": "zNBMqK6c3sLc",
        "colab_type": "code",
        "colab": {}
      },
      "source": [
        "class RandomSearch(object):\n",
        "    \n",
        "    def __init__(self,X_train,y_train,model,hyperparameters):\n",
        "        \n",
        "        self.X_train = X_train\n",
        "        self.y_train = y_train\n",
        "        self.model = model\n",
        "        self.hyperparameters = hyperparameters\n",
        "        \n",
        "    def RandomSearch(self):\n",
        "        # Create randomized search 10-fold cross validation and 100 iterations\n",
        "        cv = 10\n",
        "        reg = RandomizedSearchCV(self.model,\n",
        "                                 self.hyperparameters,\n",
        "                                 random_state=1,\n",
        "                                 n_iter=100,\n",
        "                                 cv=cv,\n",
        "                                 verbose=0,\n",
        "                                 n_jobs=-1,\n",
        "                                 scoring='neg_root_mean_squared_error'\n",
        "                                 )\n",
        "        # Fit randomized search\n",
        "        best_model = reg.fit(self.X_train, self.y_train)\n",
        "        message = (best_model.best_score_, best_model.best_params_)\n",
        "        print(\"Best: %f using %s\" % (message))\n",
        "\n",
        "        return best_model,best_model.best_params_\n",
        "    \n",
        "    def BestModelPridict(self,X_test):\n",
        "        \n",
        "        best_model,_ = self.RandomSearch()\n",
        "        pred = best_model.predict(X_test)\n",
        "        return pred"
      ],
      "execution_count": 0,
      "outputs": []
    },
    {
      "cell_type": "code",
      "metadata": {
        "id": "BDfQoZTW4CxS",
        "colab_type": "code",
        "colab": {}
      },
      "source": [
        "class GridSearch(object):\n",
        "    \n",
        "    def __init__(self,X_train,y_train,model,hyperparameters):\n",
        "        \n",
        "        self.X_train = X_train\n",
        "        self.y_train = y_train\n",
        "        self.model = model\n",
        "        self.hyperparameters = hyperparameters\n",
        "        \n",
        "    def GridSearch(self):\n",
        "        # Create randomized search 10-fold cross validation and 100 iterations\n",
        "        cv = 10\n",
        "        reg = GridSearchCV(self.model,\n",
        "                                 self.hyperparameters,\n",
        "                                 cv=cv,\n",
        "                                 verbose=0,\n",
        "                                 n_jobs=-1,\n",
        "                                  scoring='neg_root_mean_squared_error'\n",
        "                                 )\n",
        "        # Fit randomized search\n",
        "        best_model = reg.fit(self.X_train, self.y_train)\n",
        "        message = (best_model.best_score_, best_model.best_params_)\n",
        "        print(\"Best: %f using %s\" % (message))\n",
        "\n",
        "        return best_model,best_model.best_params_\n",
        "    \n",
        "    def BestModelPridict(self,X_test):\n",
        "        \n",
        "        best_model,_ = self.GridSearch()\n",
        "        pred = best_model.predict(X_test)\n",
        "        return pred"
      ],
      "execution_count": 0,
      "outputs": []
    },
    {
      "cell_type": "code",
      "metadata": {
        "id": "VA4gbOEy5bMN",
        "colab_type": "code",
        "colab": {}
      },
      "source": [
        "from sklearn import linear_model\n",
        "from sklearn.metrics import mean_squared_error as mse"
      ],
      "execution_count": 0,
      "outputs": []
    },
    {
      "cell_type": "code",
      "metadata": {
        "id": "ZeRhNKzL4Gz4",
        "colab_type": "code",
        "colab": {
          "base_uri": "https://localhost:8080/",
          "height": 34
        },
        "outputId": "e746f26d-d043-43fe-812f-2dbf9a31939a"
      },
      "source": [
        "# model\n",
        "model = linear_model.Ridge()\n",
        "\n",
        "# Create regularization hyperparameter distribution using uniform distribution\n",
        "alpha = uniform(loc=0, scale=4)\n",
        "\n",
        "# Create hyperparameter options\n",
        "hyperparameters = dict(alpha=alpha)\n",
        "\n",
        "LR1_RandSearch = RandomSearch(X_train_sc,y_train_sc,model,hyperparameters)\n",
        "# LR_best_model,LR_best_params = LR_RandSearch.RandomSearch()\n",
        "Prediction_LR1 = LR1_RandSearch.BestModelPridict(X_test_sc)"
      ],
      "execution_count": 145,
      "outputs": [
        {
          "output_type": "stream",
          "text": [
            "Best: -0.014846 using {'alpha': 0.01148130812463588}\n"
          ],
          "name": "stdout"
        }
      ]
    },
    {
      "cell_type": "code",
      "metadata": {
        "id": "XOoWdiau7P7v",
        "colab_type": "code",
        "colab": {
          "base_uri": "https://localhost:8080/",
          "height": 34
        },
        "outputId": "4a4e96c8-9c86-4f41-9cd9-b11ac3eff63d"
      },
      "source": [
        "print('prediction on test set is:' ,mse(y_test_sc,Prediction_LR1)**0.5)"
      ],
      "execution_count": 148,
      "outputs": [
        {
          "output_type": "stream",
          "text": [
            "prediction on test set is: 0.020782221727878\n"
          ],
          "name": "stdout"
        }
      ]
    },
    {
      "cell_type": "code",
      "metadata": {
        "id": "3zbZ6YoA5tWe",
        "colab_type": "code",
        "colab": {
          "base_uri": "https://localhost:8080/",
          "height": 34
        },
        "outputId": "eb3579b3-0861-4a72-838e-f5069c3d6509"
      },
      "source": [
        "# model\n",
        "model = linear_model.Lasso()\n",
        "\n",
        "# Create regularization hyperparameter distribution using uniform distribution\n",
        "alpha = uniform(loc=0, scale=4)\n",
        "\n",
        "# Create hyperparameter options\n",
        "hyperparameters = dict(alpha=alpha)\n",
        "\n",
        "LR2_RandSearch = RandomSearch(X_train_sc,y_train_sc,model,hyperparameters)\n",
        "# LR_best_model,LR_best_params = LR_RandSearch.RandomSearch()\n",
        "Prediction_LR2 = LR2_RandSearch.BestModelPridict(X_test_sc)"
      ],
      "execution_count": 146,
      "outputs": [
        {
          "output_type": "stream",
          "text": [
            "Best: -0.035177 using {'alpha': 0.00045749926937954655}\n"
          ],
          "name": "stdout"
        }
      ]
    },
    {
      "cell_type": "code",
      "metadata": {
        "id": "cyyOxH-Y7hRQ",
        "colab_type": "code",
        "colab": {
          "base_uri": "https://localhost:8080/",
          "height": 34
        },
        "outputId": "3c91245a-ec84-4cb1-eb7d-83cee6ba447b"
      },
      "source": [
        "print('prediction on test set is:' ,mse(y_test_sc,Prediction_LR2)**0.5)"
      ],
      "execution_count": 149,
      "outputs": [
        {
          "output_type": "stream",
          "text": [
            "prediction on test set is: 0.040611259159175024\n"
          ],
          "name": "stdout"
        }
      ]
    },
    {
      "cell_type": "code",
      "metadata": {
        "id": "juigimtlQit7",
        "colab_type": "code",
        "colab": {}
      },
      "source": [
        "from sklearn.neighbors import DistanceMetric\n",
        "metric_names = ['euclidean', 'manhattan', 'chebyshev']\n",
        "\n"
      ],
      "execution_count": 0,
      "outputs": []
    },
    {
      "cell_type": "code",
      "metadata": {
        "id": "Stio-nC26vGg",
        "colab_type": "code",
        "colab": {
          "base_uri": "https://localhost:8080/",
          "height": 34
        },
        "outputId": "a8740e79-6f1c-4c58-ba7c-4bff8aead94d"
      },
      "source": [
        "model_KNN = KNeighborsRegressor()\n",
        "\n",
        "neighbors = [1,2,3,4,5,6,7,8,9,10,11,12,13,14,15,16,17,18,19,20]\n",
        "metrics = [DistanceMetric.get_metric(x) for x in metric_names]\n",
        "param_grid = dict(n_neighbors=neighbors, metric=metric_names)\n",
        "\n",
        "KNN_GridSearch = GridSearch(X_train_sc,y_train_sc,model_KNN,param_grid)\n",
        "Prediction_KNN = KNN_GridSearch.BestModelPridict(X_test_sc)"
      ],
      "execution_count": 244,
      "outputs": [
        {
          "output_type": "stream",
          "text": [
            "Best: -0.011075 using {'metric': 'euclidean', 'n_neighbors': 2}\n"
          ],
          "name": "stdout"
        }
      ]
    },
    {
      "cell_type": "code",
      "metadata": {
        "id": "LqBvpi4s7o4t",
        "colab_type": "code",
        "colab": {
          "base_uri": "https://localhost:8080/",
          "height": 34
        },
        "outputId": "924119fe-83bd-4150-98ab-4880d5efa17a"
      },
      "source": [
        "print('prediction on test set is:' ,mse(y_test_sc,Prediction_KNN)**0.5)"
      ],
      "execution_count": 151,
      "outputs": [
        {
          "output_type": "stream",
          "text": [
            "prediction on test set is: 0.012999270611981549\n"
          ],
          "name": "stdout"
        }
      ]
    },
    {
      "cell_type": "code",
      "metadata": {
        "id": "TOXputnj7xlK",
        "colab_type": "code",
        "colab": {
          "base_uri": "https://localhost:8080/",
          "height": 34
        },
        "outputId": "d82157d5-6187-4927-e28c-6df64bf8871b"
      },
      "source": [
        "c_values = [0.1, 0.3, 0.5, 0.7, 0.9, 1.0, 1.3, 1.5, 1.7, 2.0]\n",
        "kernel_values = [ 'linear' , 'poly' , 'rbf' , 'sigmoid' ]\n",
        "param_grid = dict(C=c_values, kernel=kernel_values)\n",
        "model_SVR = SVR()\n",
        "\n",
        "SVR_GridSearch = GridSearch(X_train_sc,y_train_sc,model_SVR,param_grid)\n",
        "Prediction_SVR = SVR_GridSearch.BestModelPridict(X_test_sc)"
      ],
      "execution_count": 152,
      "outputs": [
        {
          "output_type": "stream",
          "text": [
            "Best: -0.033245 using {'C': 0.3, 'kernel': 'poly'}\n"
          ],
          "name": "stdout"
        }
      ]
    },
    {
      "cell_type": "code",
      "metadata": {
        "id": "VtO4oENi78c9",
        "colab_type": "code",
        "colab": {
          "base_uri": "https://localhost:8080/",
          "height": 34
        },
        "outputId": "fd3084c9-e1d6-412b-f20b-275104b76be2"
      },
      "source": [
        "print('prediction on test set is:' ,mse(y_test_sc,Prediction_SVR)**0.5)"
      ],
      "execution_count": 153,
      "outputs": [
        {
          "output_type": "stream",
          "text": [
            "prediction on test set is: 0.035383747844763565\n"
          ],
          "name": "stdout"
        }
      ]
    },
    {
      "cell_type": "code",
      "metadata": {
        "id": "clex1UOM8-yY",
        "colab_type": "code",
        "colab": {}
      },
      "source": [
        "from scipy.stats import randint\n",
        "max_depth_value = [3, None]\n",
        "max_features_value =  randint(1, 4)\n",
        "min_samples_leaf_value = randint(1, 4)"
      ],
      "execution_count": 0,
      "outputs": []
    },
    {
      "cell_type": "code",
      "metadata": {
        "id": "kmQs1EjG9Dil",
        "colab_type": "code",
        "colab": {}
      },
      "source": [
        "param_grid = dict(max_depth = max_depth_value,\n",
        "                  max_features = max_features_value,\n",
        "                  min_samples_leaf = min_samples_leaf_value)"
      ],
      "execution_count": 0,
      "outputs": []
    },
    {
      "cell_type": "code",
      "metadata": {
        "id": "piGo_FYp9UGW",
        "colab_type": "code",
        "colab": {
          "base_uri": "https://localhost:8080/",
          "height": 34
        },
        "outputId": "10381463-98c8-4897-9fa3-82579a1eaced"
      },
      "source": [
        "model_CART = DecisionTreeRegressor()\n",
        "CART_RandSearch = RandomSearch(X_train_sc,y_train_sc,model_CART,param_grid)\n",
        "Prediction_CART = CART_RandSearch.BestModelPridict(X_test_sc)"
      ],
      "execution_count": 157,
      "outputs": [
        {
          "output_type": "stream",
          "text": [
            "Best: -0.042551 using {'max_depth': None, 'max_features': 2, 'min_samples_leaf': 3}\n"
          ],
          "name": "stdout"
        }
      ]
    },
    {
      "cell_type": "code",
      "metadata": {
        "id": "wHk-htR-9a_T",
        "colab_type": "code",
        "colab": {
          "base_uri": "https://localhost:8080/",
          "height": 34
        },
        "outputId": "c6ca9b52-81be-47d1-ada2-402dd1884520"
      },
      "source": [
        "print('prediction on test set is:' ,mse(y_test_sc,Prediction_CART)**0.5)"
      ],
      "execution_count": 158,
      "outputs": [
        {
          "output_type": "stream",
          "text": [
            "prediction on test set is: 0.055729388166258845\n"
          ],
          "name": "stdout"
        }
      ]
    },
    {
      "cell_type": "code",
      "metadata": {
        "id": "-lTUkLkn9hbb",
        "colab_type": "code",
        "colab": {}
      },
      "source": [
        "learning_rate_value = [.01,.05,.1,.5,1]\n",
        "n_estimators_value = [50,100,150,200,250,300]\n",
        "\n",
        "param_grid = dict(learning_rate=learning_rate_value, n_estimators=n_estimators_value)"
      ],
      "execution_count": 0,
      "outputs": []
    },
    {
      "cell_type": "code",
      "metadata": {
        "id": "_lCO5jh99jb8",
        "colab_type": "code",
        "colab": {
          "base_uri": "https://localhost:8080/",
          "height": 34
        },
        "outputId": "cf715d6a-6163-4e5e-9237-48679cf70e94"
      },
      "source": [
        "model_Ad = AdaBoostRegressor()\n",
        "Ad_GridSearch = GridSearch(X_train_sc,y_train_sc,model_Ad,param_grid)\n",
        "Prediction_Ad = Ad_GridSearch.BestModelPridict(X_test_sc)"
      ],
      "execution_count": 160,
      "outputs": [
        {
          "output_type": "stream",
          "text": [
            "Best: -0.031595 using {'learning_rate': 0.05, 'n_estimators': 150}\n"
          ],
          "name": "stdout"
        }
      ]
    },
    {
      "cell_type": "code",
      "metadata": {
        "id": "Z1QCV2bZ9nf5",
        "colab_type": "code",
        "colab": {
          "base_uri": "https://localhost:8080/",
          "height": 34
        },
        "outputId": "a4ae7b5c-c651-47d0-9009-aabd3f6589cb"
      },
      "source": [
        "print('prediction on test set is:' ,mse(y_test_sc,Prediction_Ad)**0.5)"
      ],
      "execution_count": 161,
      "outputs": [
        {
          "output_type": "stream",
          "text": [
            "prediction on test set is: 0.03613693091170474\n"
          ],
          "name": "stdout"
        }
      ]
    },
    {
      "cell_type": "code",
      "metadata": {
        "id": "IzIUnhgVD5nx",
        "colab_type": "code",
        "colab": {}
      },
      "source": [
        "def get_models():\n",
        "    \"\"\"Generate a library of base learners.\"\"\"\n",
        "    param = {'alpha': 0.01148130812463588}\n",
        "    model1 = linear_model.Ridge(**param)\n",
        "\n",
        "    param = {'n_neighbors': 2}\n",
        "    model2 = KNeighborsRegressor(**param)\n",
        "\n",
        "    param = {'C': 0.3, 'kernel': 'poly'}\n",
        "    model3 = SVR(**param)\n",
        "\n",
        "    param = {'max_depth': 4, 'max_features': 2, 'min_samples_leaf': 3}\n",
        "    model4 = DecisionTreeRegressor(**param)\n",
        "\n",
        "    param = {'learning_rate': 0.05, 'n_estimators': 150}\n",
        "    model5 = AdaBoostRegressor(**param)\n",
        "\n",
        "    param = {'learning_rate': 0.01, 'n_estimators': 100}\n",
        "    model6 = GradientBoostingRegressor(**param)\n",
        "\n",
        "    model8 = RandomForestRegressor()\n",
        "\n",
        "    model9 = ExtraTreesRegressor()\n",
        "\n",
        "    models = {'LR':model1, 'KNN':model2, 'SVC':model3,\n",
        "              'DT':model4, 'ADa':model5, 'GB':model6, 'RF':model8,  'ET':model9\n",
        "              }\n",
        "\n",
        "    return models"
      ],
      "execution_count": 0,
      "outputs": []
    },
    {
      "cell_type": "code",
      "metadata": {
        "id": "ueZ396b5ExaI",
        "colab_type": "code",
        "colab": {}
      },
      "source": [
        "def train_predict(model_list,xtrain, xtest, ytrain, ytest):\n",
        "    \"\"\"Fit models in list on training set and return preds\"\"\"\n",
        "    P = np.zeros((ytest.shape[0], len(model_list)))\n",
        "    P = pd.DataFrame(P)\n",
        "\n",
        "    print(\"Fitting models.\")\n",
        "    cols = list()\n",
        "    for i, (name, m) in enumerate(models.items()):\n",
        "        print(\"%s...\" % name, end=\" \", flush=False)\n",
        "        m.fit(xtrain, ytrain)\n",
        "        P.iloc[:, i] = m.predict(xtest)\n",
        "        cols.append(name)\n",
        "        print(\"done\")\n",
        "\n",
        "    P.columns = cols\n",
        "    print(\"Done.\\n\")\n",
        "    return P"
      ],
      "execution_count": 0,
      "outputs": []
    },
    {
      "cell_type": "code",
      "metadata": {
        "id": "5KRvDMGdE1KN",
        "colab_type": "code",
        "colab": {
          "base_uri": "https://localhost:8080/",
          "height": 204
        },
        "outputId": "2dafaf67-8fda-4c55-91df-ab9bad7088c3"
      },
      "source": [
        "models = get_models()\n",
        "P = train_predict(models,X_train_sc,X_test_sc,y_train_sc,y_test_sc)"
      ],
      "execution_count": 168,
      "outputs": [
        {
          "output_type": "stream",
          "text": [
            "Fitting models.\n",
            "LR... done\n",
            "KNN... done\n",
            "SVC... done\n",
            "DT... done\n",
            "ADa... done\n",
            "GB... done\n",
            "RF... done\n",
            "ET... done\n",
            "Done.\n",
            "\n"
          ],
          "name": "stdout"
        }
      ]
    },
    {
      "cell_type": "code",
      "metadata": {
        "id": "4WpxzgV4FRMr",
        "colab_type": "code",
        "colab": {}
      },
      "source": [
        "!pip install mlens"
      ],
      "execution_count": 0,
      "outputs": []
    },
    {
      "cell_type": "code",
      "metadata": {
        "id": "Ae8YgRjsE5LT",
        "colab_type": "code",
        "colab": {
          "base_uri": "https://localhost:8080/",
          "height": 588
        },
        "outputId": "8d60c64f-e386-4709-ad28-ab8af4513174"
      },
      "source": [
        "from mlens.visualization import corrmat\n",
        "\n",
        "corrmat(P.corr(), inflate=False)"
      ],
      "execution_count": 173,
      "outputs": [
        {
          "output_type": "stream",
          "text": [
            "[MLENS] backend: threading\n"
          ],
          "name": "stderr"
        },
        {
          "output_type": "display_data",
          "data": {
            "image/png": "[encoded data removed]",
            "text/plain": [
              "<Figure size 792x648 with 2 Axes>"
            ]
          },
          "metadata": {
            "tags": [],
            "needs_background": "light"
          }
        },
        {
          "output_type": "execute_result",
          "data": {
            "text/plain": [
              "<matplotlib.axes._subplots.AxesSubplot at 0x7f5ae610e6d8>"
            ]
          },
          "metadata": {
            "tags": []
          },
          "execution_count": 173
        }
      ]
    },
    {
      "cell_type": "code",
      "metadata": {
        "id": "KGJk2v2fFsbr",
        "colab_type": "code",
        "colab": {}
      },
      "source": [
        "from sklearn.ensemble import GradientBoostingRegressor"
      ],
      "execution_count": 0,
      "outputs": []
    },
    {
      "cell_type": "code",
      "metadata": {
        "id": "oLgipOKnFHxp",
        "colab_type": "code",
        "colab": {}
      },
      "source": [
        "base_learners = get_models()\n",
        "meta_learner = GradientBoostingRegressor(\n",
        "    n_estimators=1000,\n",
        "    loss=\"huber\", # also need to try ls\n",
        "    max_features=6,\n",
        "    max_depth=3,\n",
        "    subsample=0.5,\n",
        "    learning_rate=0.001, \n",
        "    random_state=10\n",
        ")"
      ],
      "execution_count": 0,
      "outputs": []
    },
    {
      "cell_type": "code",
      "metadata": {
        "id": "QM_BHGMWGmTN",
        "colab_type": "code",
        "colab": {}
      },
      "source": [
        "from mlens.ensemble import SuperLearner"
      ],
      "execution_count": 0,
      "outputs": []
    },
    {
      "cell_type": "code",
      "metadata": {
        "id": "5EfZ3isxIYMa",
        "colab_type": "code",
        "colab": {}
      },
      "source": [
        "# cost function for base models\n",
        "def rmse(yreal, yhat):\n",
        "\treturn mse(yreal, yhat)**(0.5)"
      ],
      "execution_count": 0,
      "outputs": []
    },
    {
      "cell_type": "code",
      "metadata": {
        "id": "wMNvS4BAFg6V",
        "colab_type": "code",
        "colab": {
          "base_uri": "https://localhost:8080/",
          "height": 289
        },
        "outputId": "a5821ab9-5343-41af-e9d7-721938533928"
      },
      "source": [
        "# Instantiate the ensemble with 10 folds\n",
        "sl = SuperLearner(\n",
        "    folds=10,\n",
        "    random_state=10,\n",
        "    verbose=2,\n",
        "    backend=\"multiprocessing\",\n",
        "    scorer=rmse\n",
        ")\n",
        "\n",
        "# Add the base learners and the meta learner\n",
        "sl.add(list(base_learners.values())) \n",
        "sl.add_meta(meta_learner)\n",
        "\n",
        "# Train the ensemble\n",
        "sl.fit(X_train_sc, y_train_sc)"
      ],
      "execution_count": 196,
      "outputs": [
        {
          "output_type": "stream",
          "text": [
            "\n",
            "Fitting 2 layers\n",
            "Processing layer-1             done | 00:04:44\n",
            "Processing layer-2             done | 00:00:06\n",
            "Fit complete                        | 00:04:51\n"
          ],
          "name": "stdout"
        },
        {
          "output_type": "execute_result",
          "data": {
            "text/plain": [
              "SuperLearner(array_check=None, backend=None, folds=10,\n",
              "       layers=[Layer(backend='threading', dtype=<class 'numpy.float32'>, n_jobs=-1,\n",
              "   name='layer-1', propagate_features=None, raise_on_exception=True,\n",
              "   random_state=1289, shuffle=False,\n",
              "   stack=[Group(backend='threading', dtype=<class 'numpy.float32'>,\n",
              "   indexer=FoldIndex(X=None, folds=10, raise_on_e...750268>)],\n",
              "   n_jobs=-1, name='group-13', raise_on_exception=True, transformers=[])],\n",
              "   verbose=1)],\n",
              "       model_selection=False, n_jobs=None, raise_on_exception=True,\n",
              "       random_state=10, sample_size=20,\n",
              "       scorer=<function rmse at 0x7f5ade750268>, shuffle=False, verbose=2)"
            ]
          },
          "metadata": {
            "tags": []
          },
          "execution_count": 196
        }
      ]
    },
    {
      "cell_type": "code",
      "metadata": {
        "id": "czH3FbkBNNqb",
        "colab_type": "code",
        "colab": {
          "base_uri": "https://localhost:8080/",
          "height": 102
        },
        "outputId": "a28ce95a-0adf-4878-a7b1-d15b3be91f68"
      },
      "source": [
        "p_sl = sl.predict(X_test_sc)"
      ],
      "execution_count": 198,
      "outputs": [
        {
          "output_type": "stream",
          "text": [
            "\n",
            "Predicting 2 layers\n",
            "Processing layer-1             done | 00:00:00\n",
            "Processing layer-2             done | 00:00:00\n",
            "Predict complete                    | 00:00:01\n"
          ],
          "name": "stdout"
        }
      ]
    },
    {
      "cell_type": "code",
      "metadata": {
        "id": "LiUE3AulNOsE",
        "colab_type": "code",
        "colab": {
          "base_uri": "https://localhost:8080/",
          "height": 34
        },
        "outputId": "f65144b0-40d4-4c0a-bbd5-0348773a4417"
      },
      "source": [
        "print('prediction on test set is:' ,mse(y_test_sc,p_sl)**0.5)"
      ],
      "execution_count": 200,
      "outputs": [
        {
          "output_type": "stream",
          "text": [
            "prediction on test set is: 0.0439843382741155\n"
          ],
          "name": "stdout"
        }
      ]
    },
    {
      "cell_type": "code",
      "metadata": {
        "id": "B64IUHrQS_bR",
        "colab_type": "code",
        "colab": {
          "base_uri": "https://localhost:8080/",
          "height": 34
        },
        "outputId": "ef11a0ed-cf68-480a-e076-7082b9ab4780"
      },
      "source": [
        "scaler = StandardScaler()\n",
        "scaler.fit(train[imp_cols])"
      ],
      "execution_count": 269,
      "outputs": [
        {
          "output_type": "execute_result",
          "data": {
            "text/plain": [
              "StandardScaler(copy=True, with_mean=True, with_std=True)"
            ]
          },
          "metadata": {
            "tags": []
          },
          "execution_count": 269
        }
      ]
    },
    {
      "cell_type": "code",
      "metadata": {
        "id": "_RauthtaNfB8",
        "colab_type": "code",
        "colab": {}
      },
      "source": [
        "### Final model :)\n",
        "param = {'metric': 'euclidean', 'n_neighbors': 2}\n",
        "model2 = KNeighborsRegressor(**param)"
      ],
      "execution_count": 0,
      "outputs": []
    },
    {
      "cell_type": "code",
      "metadata": {
        "id": "Yt3WIGUvNtis",
        "colab_type": "code",
        "colab": {
          "base_uri": "https://localhost:8080/",
          "height": 68
        },
        "outputId": "b5495d7d-bf85-4ed8-9da1-de0519d3011f"
      },
      "source": [
        "model2.fit(scaler.transform(train[imp_cols]), Y)"
      ],
      "execution_count": 271,
      "outputs": [
        {
          "output_type": "execute_result",
          "data": {
            "text/plain": [
              "KNeighborsRegressor(algorithm='auto', leaf_size=30, metric='euclidean',\n",
              "                    metric_params=None, n_jobs=None, n_neighbors=2, p=2,\n",
              "                    weights='uniform')"
            ]
          },
          "metadata": {
            "tags": []
          },
          "execution_count": 271
        }
      ]
    },
    {
      "cell_type": "code",
      "metadata": {
        "id": "WJvKDkQBOXdw",
        "colab_type": "code",
        "colab": {}
      },
      "source": [
        "X_test = scaler.transform(test[imp_cols])"
      ],
      "execution_count": 0,
      "outputs": []
    },
    {
      "cell_type": "code",
      "metadata": {
        "id": "tZmBTQMVOoRU",
        "colab_type": "code",
        "colab": {}
      },
      "source": [
        "y_pred = model2.predict(X_test)"
      ],
      "execution_count": 0,
      "outputs": []
    },
    {
      "cell_type": "code",
      "metadata": {
        "id": "YCMauS3AOvM0",
        "colab_type": "code",
        "colab": {
          "base_uri": "https://localhost:8080/",
          "height": 265
        },
        "outputId": "d607c85d-6bab-4a7b-90c8-ec7909fedfb7"
      },
      "source": [
        "plt.hist(y_pred, bins=40, edgecolor='black');"
      ],
      "execution_count": 275,
      "outputs": [
        {
          "output_type": "display_data",
          "data": {
            "image/png": "[encoded data removed]",
            "text/plain": [
              "<Figure size 432x288 with 1 Axes>"
            ]
          },
          "metadata": {
            "tags": [],
            "needs_background": "light"
          }
        }
      ]
    },
    {
      "cell_type": "code",
      "metadata": {
        "id": "0TetVFY-O8vx",
        "colab_type": "code",
        "colab": {}
      },
      "source": [
        "test['y_pred'] = y_pred"
      ],
      "execution_count": 0,
      "outputs": []
    },
    {
      "cell_type": "markdown",
      "metadata": {
        "id": "WgjuZk4vRCOQ",
        "colab_type": "text"
      },
      "source": [
        "### 3. Allocation"
      ]
    },
    {
      "cell_type": "code",
      "metadata": {
        "id": "GqgWtuk9RD64",
        "colab_type": "code",
        "outputId": "c53a3c67-0fb5-41a3-d4a6-c463038ceed5",
        "colab": {
          "base_uri": "https://localhost:8080/",
          "height": 280
        }
      },
      "source": [
        "plt.hist(test['y_class_proba_test'], bins=35, edgecolor='black')\n",
        "plt.xlabel('y_class_proba_test')\n",
        "plt.show()"
      ],
      "execution_count": 277,
      "outputs": [
        {
          "output_type": "display_data",
          "data": {
            "image/png": "[encoded data removed]",
            "text/plain": [
              "<Figure size 432x288 with 1 Axes>"
            ]
          },
          "metadata": {
            "tags": [],
            "needs_background": "light"
          }
        }
      ]
    },
    {
      "cell_type": "code",
      "metadata": {
        "id": "A8CxJCTcepl0",
        "colab_type": "code",
        "outputId": "09fc2eb2-5a4a-4392-a012-30bdc37a0506",
        "colab": {
          "base_uri": "https://localhost:8080/",
          "height": 280
        }
      },
      "source": [
        "plt.hist(test['y_pred'], bins=35, edgecolor='black')\n",
        "plt.xlabel('y_pred')\n",
        "plt.show()"
      ],
      "execution_count": 278,
      "outputs": [
        {
          "output_type": "display_data",
          "data": {
            "image/png": "[encoded data removed]",
            "text/plain": [
              "<Figure size 432x288 with 1 Axes>"
            ]
          },
          "metadata": {
            "tags": [],
            "needs_background": "light"
          }
        }
      ]
    },
    {
      "cell_type": "code",
      "metadata": {
        "id": "BdWFtlsJTbfF",
        "colab_type": "code",
        "colab": {}
      },
      "source": [
        "index = test.y_pred\n",
        "pot_inc = -np.log(index+0.01)+3\n",
        "p2= pot_inc**2/1000"
      ],
      "execution_count": 0,
      "outputs": []
    },
    {
      "cell_type": "code",
      "metadata": {
        "id": "IzOp3r_tRqwl",
        "colab_type": "code",
        "colab": {}
      },
      "source": [
        "submit = pd.DataFrame({\n",
        "    'Index':test.index,\n",
        "    'pred': test.y_pred,\n",
        "    'opt_pred':0,\n",
        "    'eei':test['existence expectancy index'], \n",
        "    'y_low_index_proba' : test['y_class_proba_test'],\n",
        "})"
      ],
      "execution_count": 0,
      "outputs": []
    },
    {
      "cell_type": "code",
      "metadata": {
        "id": "B6osatLuRr2H",
        "colab_type": "code",
        "outputId": "d38e3442-f814-4d17-9cc2-1e4a0d615666",
        "colab": {
          "base_uri": "https://localhost:8080/",
          "height": 204
        }
      },
      "source": [
        "submit.head()"
      ],
      "execution_count": 0,
      "outputs": [
        {
          "output_type": "execute_result",
          "data": {
            "text/html": [
              "<div>\n",
              "<style scoped>\n",
              "    .dataframe tbody tr th:only-of-type {\n",
              "        vertical-align: middle;\n",
              "    }\n",
              "\n",
              "    .dataframe tbody tr th {\n",
              "        vertical-align: top;\n",
              "    }\n",
              "\n",
              "    .dataframe thead th {\n",
              "        text-align: right;\n",
              "    }\n",
              "</style>\n",
              "<table border=\"1\" class=\"dataframe\">\n",
              "  <thead>\n",
              "    <tr style=\"text-align: right;\">\n",
              "      <th></th>\n",
              "      <th>Index</th>\n",
              "      <th>pred</th>\n",
              "      <th>opt_pred</th>\n",
              "      <th>eei</th>\n",
              "      <th>y_low_index_proba</th>\n",
              "    </tr>\n",
              "  </thead>\n",
              "  <tbody>\n",
              "    <tr>\n",
              "      <th>0</th>\n",
              "      <td>0</td>\n",
              "      <td>0.031897</td>\n",
              "      <td>0</td>\n",
              "      <td>0.456086</td>\n",
              "      <td>0.916728</td>\n",
              "    </tr>\n",
              "    <tr>\n",
              "      <th>1</th>\n",
              "      <td>1</td>\n",
              "      <td>0.032192</td>\n",
              "      <td>0</td>\n",
              "      <td>0.529835</td>\n",
              "      <td>0.916728</td>\n",
              "    </tr>\n",
              "    <tr>\n",
              "      <th>2</th>\n",
              "      <td>2</td>\n",
              "      <td>0.046337</td>\n",
              "      <td>0</td>\n",
              "      <td>0.560976</td>\n",
              "      <td>0.916728</td>\n",
              "    </tr>\n",
              "    <tr>\n",
              "      <th>3</th>\n",
              "      <td>3</td>\n",
              "      <td>0.042099</td>\n",
              "      <td>0</td>\n",
              "      <td>0.565910</td>\n",
              "      <td>0.916728</td>\n",
              "    </tr>\n",
              "    <tr>\n",
              "      <th>4</th>\n",
              "      <td>4</td>\n",
              "      <td>0.047627</td>\n",
              "      <td>0</td>\n",
              "      <td>0.588274</td>\n",
              "      <td>0.927679</td>\n",
              "    </tr>\n",
              "  </tbody>\n",
              "</table>\n",
              "</div>"
            ],
            "text/plain": [
              "   Index      pred  opt_pred       eei  y_low_index_proba\n",
              "0      0  0.031897         0  0.456086           0.916728\n",
              "1      1  0.032192         0  0.529835           0.916728\n",
              "2      2  0.046337         0  0.560976           0.916728\n",
              "3      3  0.042099         0  0.565910           0.916728\n",
              "4      4  0.047627         0  0.588274           0.927679"
            ]
          },
          "metadata": {
            "tags": []
          },
          "execution_count": 540
        }
      ]
    },
    {
      "cell_type": "code",
      "metadata": {
        "id": "NabuO3_KcfpO",
        "colab_type": "code",
        "colab": {}
      },
      "source": [
        "THRESHOLD = 0.915\n",
        "THRESHOLD_LOW = 0.7"
      ],
      "execution_count": 0,
      "outputs": []
    },
    {
      "cell_type": "code",
      "metadata": {
        "id": "a-QlYEoHVxpZ",
        "colab_type": "code",
        "outputId": "9c5f31e9-7a63-40cf-a8cb-0aba4f712ea9",
        "colab": {
          "base_uri": "https://localhost:8080/",
          "height": 34
        }
      },
      "source": [
        "num_sure = sum(y_class_proba_test[:,1] > THRESHOLD)\n",
        "print(num_sure)"
      ],
      "execution_count": 0,
      "outputs": [
        {
          "output_type": "stream",
          "text": [
            "341\n"
          ],
          "name": "stdout"
        }
      ]
    },
    {
      "cell_type": "code",
      "metadata": {
        "id": "JVlQmxLaSMGq",
        "colab_type": "code",
        "colab": {}
      },
      "source": [
        "submit.loc[p2.nlargest(num_sure).index, 'opt_pred'] = 100"
      ],
      "execution_count": 0,
      "outputs": []
    },
    {
      "cell_type": "code",
      "metadata": {
        "id": "apbLKpQiYRVd",
        "colab_type": "code",
        "outputId": "61fe03f3-2e18-42f7-9872-e3ab8f7ef752",
        "colab": {
          "base_uri": "https://localhost:8080/",
          "height": 419
        }
      },
      "source": [
        "submit.loc[p2.nlargest(num_sure).index, ] "
      ],
      "execution_count": 0,
      "outputs": [
        {
          "output_type": "execute_result",
          "data": {
            "text/html": [
              "<div>\n",
              "<style scoped>\n",
              "    .dataframe tbody tr th:only-of-type {\n",
              "        vertical-align: middle;\n",
              "    }\n",
              "\n",
              "    .dataframe tbody tr th {\n",
              "        vertical-align: top;\n",
              "    }\n",
              "\n",
              "    .dataframe thead th {\n",
              "        text-align: right;\n",
              "    }\n",
              "</style>\n",
              "<table border=\"1\" class=\"dataframe\">\n",
              "  <thead>\n",
              "    <tr style=\"text-align: right;\">\n",
              "      <th></th>\n",
              "      <th>Index</th>\n",
              "      <th>pred</th>\n",
              "      <th>opt_pred</th>\n",
              "      <th>eei</th>\n",
              "      <th>y_low_index_proba</th>\n",
              "    </tr>\n",
              "  </thead>\n",
              "  <tbody>\n",
              "    <tr>\n",
              "      <th>412</th>\n",
              "      <td>412</td>\n",
              "      <td>0.013212</td>\n",
              "      <td>100</td>\n",
              "      <td>0.934156</td>\n",
              "      <td>0.929483</td>\n",
              "    </tr>\n",
              "    <tr>\n",
              "      <th>72</th>\n",
              "      <td>72</td>\n",
              "      <td>0.014208</td>\n",
              "      <td>100</td>\n",
              "      <td>0.714260</td>\n",
              "      <td>0.911145</td>\n",
              "    </tr>\n",
              "    <tr>\n",
              "      <th>127</th>\n",
              "      <td>127</td>\n",
              "      <td>0.015181</td>\n",
              "      <td>100</td>\n",
              "      <td>0.768290</td>\n",
              "      <td>0.911145</td>\n",
              "    </tr>\n",
              "    <tr>\n",
              "      <th>14</th>\n",
              "      <td>14</td>\n",
              "      <td>0.016467</td>\n",
              "      <td>100</td>\n",
              "      <td>0.612233</td>\n",
              "      <td>0.927679</td>\n",
              "    </tr>\n",
              "    <tr>\n",
              "      <th>430</th>\n",
              "      <td>430</td>\n",
              "      <td>0.017283</td>\n",
              "      <td>100</td>\n",
              "      <td>0.939583</td>\n",
              "      <td>0.916728</td>\n",
              "    </tr>\n",
              "    <tr>\n",
              "      <th>...</th>\n",
              "      <td>...</td>\n",
              "      <td>...</td>\n",
              "      <td>...</td>\n",
              "      <td>...</td>\n",
              "      <td>...</td>\n",
              "    </tr>\n",
              "    <tr>\n",
              "      <th>74</th>\n",
              "      <td>74</td>\n",
              "      <td>0.047167</td>\n",
              "      <td>100</td>\n",
              "      <td>0.715798</td>\n",
              "      <td>0.921550</td>\n",
              "    </tr>\n",
              "    <tr>\n",
              "      <th>291</th>\n",
              "      <td>291</td>\n",
              "      <td>0.047188</td>\n",
              "      <td>100</td>\n",
              "      <td>0.873841</td>\n",
              "      <td>0.916728</td>\n",
              "    </tr>\n",
              "    <tr>\n",
              "      <th>385</th>\n",
              "      <td>385</td>\n",
              "      <td>0.047314</td>\n",
              "      <td>100</td>\n",
              "      <td>0.923537</td>\n",
              "      <td>0.914043</td>\n",
              "    </tr>\n",
              "    <tr>\n",
              "      <th>603</th>\n",
              "      <td>603</td>\n",
              "      <td>0.047333</td>\n",
              "      <td>100</td>\n",
              "      <td>1.000108</td>\n",
              "      <td>0.916728</td>\n",
              "    </tr>\n",
              "    <tr>\n",
              "      <th>134</th>\n",
              "      <td>134</td>\n",
              "      <td>0.047456</td>\n",
              "      <td>100</td>\n",
              "      <td>0.772696</td>\n",
              "      <td>0.914043</td>\n",
              "    </tr>\n",
              "  </tbody>\n",
              "</table>\n",
              "<p>341 rows × 5 columns</p>\n",
              "</div>"
            ],
            "text/plain": [
              "     Index      pred  opt_pred       eei  y_low_index_proba\n",
              "412    412  0.013212       100  0.934156           0.929483\n",
              "72      72  0.014208       100  0.714260           0.911145\n",
              "127    127  0.015181       100  0.768290           0.911145\n",
              "14      14  0.016467       100  0.612233           0.927679\n",
              "430    430  0.017283       100  0.939583           0.916728\n",
              "..     ...       ...       ...       ...                ...\n",
              "74      74  0.047167       100  0.715798           0.921550\n",
              "291    291  0.047188       100  0.873841           0.916728\n",
              "385    385  0.047314       100  0.923537           0.914043\n",
              "603    603  0.047333       100  1.000108           0.916728\n",
              "134    134  0.047456       100  0.772696           0.914043\n",
              "\n",
              "[341 rows x 5 columns]"
            ]
          },
          "metadata": {
            "tags": []
          },
          "execution_count": 544
        }
      ]
    },
    {
      "cell_type": "code",
      "metadata": {
        "id": "ThoowmzuTTss",
        "colab_type": "code",
        "colab": {}
      },
      "source": [
        "DSML_left = 50000 - num_sure * 100"
      ],
      "execution_count": 0,
      "outputs": []
    },
    {
      "cell_type": "code",
      "metadata": {
        "id": "HiDeX-lxULiE",
        "colab_type": "code",
        "outputId": "74a65274-669e-419e-cf3a-9874f44f35be",
        "colab": {
          "base_uri": "https://localhost:8080/",
          "height": 34
        }
      },
      "source": [
        "DSML_left"
      ],
      "execution_count": 0,
      "outputs": [
        {
          "output_type": "execute_result",
          "data": {
            "text/plain": [
              "15900"
            ]
          },
          "metadata": {
            "tags": []
          },
          "execution_count": 546
        }
      ]
    },
    {
      "cell_type": "code",
      "metadata": {
        "id": "ko22KDkDWLjH",
        "colab_type": "code",
        "outputId": "d197e54d-23a0-4dc6-af7f-6275a4bcc486",
        "colab": {
          "base_uri": "https://localhost:8080/",
          "height": 34
        }
      },
      "source": [
        "print(num_sure)"
      ],
      "execution_count": 0,
      "outputs": [
        {
          "output_type": "stream",
          "text": [
            "341\n"
          ],
          "name": "stdout"
        }
      ]
    },
    {
      "cell_type": "code",
      "metadata": {
        "id": "B2RhNHM0gk_o",
        "colab_type": "code",
        "colab": {}
      },
      "source": [
        "condition = np.logical_and(submit.opt_pred != 100, y_class_proba_test[:,1] >= THRESHOLD_LOW)"
      ],
      "execution_count": 0,
      "outputs": []
    },
    {
      "cell_type": "code",
      "metadata": {
        "id": "9De7wFpPhNHH",
        "colab_type": "code",
        "outputId": "9c633c83-b500-4f58-ee82-6ac0ae7713ce",
        "colab": {
          "base_uri": "https://localhost:8080/",
          "height": 34
        }
      },
      "source": [
        "sum(condition)"
      ],
      "execution_count": 0,
      "outputs": [
        {
          "output_type": "execute_result",
          "data": {
            "text/plain": [
              "190"
            ]
          },
          "metadata": {
            "tags": []
          },
          "execution_count": 549
        }
      ]
    },
    {
      "cell_type": "code",
      "metadata": {
        "id": "aKm22GjpUhPd",
        "colab_type": "code",
        "colab": {}
      },
      "source": [
        "sum_y_low_index_proba=sum(submit.loc[condition,].y_low_index_proba)"
      ],
      "execution_count": 0,
      "outputs": []
    },
    {
      "cell_type": "code",
      "metadata": {
        "id": "n7NyrP_VVbfR",
        "colab_type": "code",
        "outputId": "bcc6cc03-d7f3-4285-94a6-008fc9fc3c4d",
        "colab": {
          "base_uri": "https://localhost:8080/",
          "height": 34
        }
      },
      "source": [
        "sum_y_low_index_proba"
      ],
      "execution_count": 0,
      "outputs": [
        {
          "output_type": "execute_result",
          "data": {
            "text/plain": [
              "170.3745408331888"
            ]
          },
          "metadata": {
            "tags": []
          },
          "execution_count": 551
        }
      ]
    },
    {
      "cell_type": "code",
      "metadata": {
        "id": "ZZNkF-BvVIxQ",
        "colab_type": "code",
        "colab": {}
      },
      "source": [
        "submit.loc[condition,'opt_pred'] = submit.loc[condition,'y_low_index_proba'] / sum_y_low_index_proba * DSML_left - 0.00001"
      ],
      "execution_count": 0,
      "outputs": []
    },
    {
      "cell_type": "code",
      "metadata": {
        "id": "7KIq_VyiWn8-",
        "colab_type": "code",
        "outputId": "81b116a3-bfc9-405e-fbf6-def0345f62da",
        "colab": {
          "base_uri": "https://localhost:8080/",
          "height": 34
        }
      },
      "source": [
        "sum(submit.loc[condition,'opt_pred'])"
      ],
      "execution_count": 0,
      "outputs": [
        {
          "output_type": "execute_result",
          "data": {
            "text/plain": [
              "15899.9981"
            ]
          },
          "metadata": {
            "tags": []
          },
          "execution_count": 553
        }
      ]
    },
    {
      "cell_type": "code",
      "metadata": {
        "id": "pDVPVlC3XgL1",
        "colab_type": "code",
        "colab": {}
      },
      "source": [
        "increase = (submit['opt_pred']*p2)"
      ],
      "execution_count": 0,
      "outputs": []
    },
    {
      "cell_type": "code",
      "metadata": {
        "id": "J1D5pdxbXpRY",
        "colab_type": "code",
        "outputId": "3050930b-20ce-4a93-b7a6-7d1a030b9247",
        "colab": {
          "base_uri": "https://localhost:8080/",
          "height": 34
        }
      },
      "source": [
        "print(sum(increase), submit.loc[submit.eei < 0.7, 'opt_pred'].sum(), submit['opt_pred'].sum())"
      ],
      "execution_count": 0,
      "outputs": [
        {
          "output_type": "stream",
          "text": [
            "1763.6826984688469 6456.521078368885 49999.99809999998\n"
          ],
          "name": "stdout"
        }
      ]
    },
    {
      "cell_type": "code",
      "metadata": {
        "id": "czVYrW_Bax3f",
        "colab_type": "code",
        "colab": {}
      },
      "source": [
        "submit[['Index', 'pred', 'opt_pred']].to_csv('submission.csv', index=False)"
      ],
      "execution_count": 0,
      "outputs": []
    },
    {
      "cell_type": "code",
      "metadata": {
        "id": "nAvi_Mj1bdLl",
        "colab_type": "code",
        "colab": {}
      },
      "source": [
        ""
      ],
      "execution_count": 0,
      "outputs": []
    },
    {
      "cell_type": "code",
      "metadata": {
        "id": "CFeU8x2Riv0u",
        "colab_type": "code",
        "colab": {}
      },
      "source": [
        "##"
      ],
      "execution_count": 0,
      "outputs": []
    },
    {
      "cell_type": "markdown",
      "metadata": {
        "id": "ZTzMBWwKiwnN",
        "colab_type": "text"
      },
      "source": [
        "### 3.1 Allocation"
      ]
    },
    {
      "cell_type": "code",
      "metadata": {
        "id": "SdmCdOckiyXl",
        "colab_type": "code",
        "colab": {}
      },
      "source": [
        "index = test.y_pred\n",
        "pot_inc = -np.log(index+0.01)+3\n",
        "p2= pot_inc**2"
      ],
      "execution_count": 0,
      "outputs": []
    },
    {
      "cell_type": "code",
      "metadata": {
        "id": "gOA5HU9Gi4b1",
        "colab_type": "code",
        "colab": {}
      },
      "source": [
        "ss = pd.DataFrame({\n",
        "    'Index':test.index,\n",
        "    'pred': test.y_pred,\n",
        "    'opt_pred':0,\n",
        "    'eei':test['existence expectancy index'], \n",
        "    'prob': test['y_class_proba_test']\n",
        "})"
      ],
      "execution_count": 0,
      "outputs": []
    },
    {
      "cell_type": "code",
      "metadata": {
        "id": "C66bhWBui7zJ",
        "colab_type": "code",
        "outputId": "95c8ad90-e341-4ccf-e4d5-7d688e79dbdb",
        "colab": {
          "base_uri": "https://localhost:8080/",
          "height": 34
        }
      },
      "source": [
        "ss.loc[p2.nlargest(400).index, 'opt_pred']=100\n",
        "ss=ss.sort_values('pred')\n",
        "ss['opt_pred'].sum()"
      ],
      "execution_count": 281,
      "outputs": [
        {
          "output_type": "execute_result",
          "data": {
            "text/plain": [
              "40000"
            ]
          },
          "metadata": {
            "tags": []
          },
          "execution_count": 281
        }
      ]
    },
    {
      "cell_type": "code",
      "metadata": {
        "id": "n2UIvVy8kPUU",
        "colab_type": "code",
        "colab": {}
      },
      "source": [
        "DSML_left = 50000 - ss['opt_pred'].sum()"
      ],
      "execution_count": 0,
      "outputs": []
    },
    {
      "cell_type": "code",
      "metadata": {
        "id": "QUEIEyG2jC_E",
        "colab_type": "code",
        "outputId": "bdb2ad96-8a30-46ef-deef-0979843d3751",
        "colab": {
          "base_uri": "https://localhost:8080/",
          "height": 34
        }
      },
      "source": [
        "prob_sum = sum(ss.iloc[400:600,]['prob'])\n",
        "prob_sum"
      ],
      "execution_count": 283,
      "outputs": [
        {
          "output_type": "execute_result",
          "data": {
            "text/plain": [
              "149.1299061886067"
            ]
          },
          "metadata": {
            "tags": []
          },
          "execution_count": 283
        }
      ]
    },
    {
      "cell_type": "code",
      "metadata": {
        "id": "SD5kWn2GpKLM",
        "colab_type": "code",
        "colab": {}
      },
      "source": [
        "right_indexes = ss.index\n",
        "ss.reset_index(inplace=True)"
      ],
      "execution_count": 0,
      "outputs": []
    },
    {
      "cell_type": "code",
      "metadata": {
        "id": "R6y2bUJ0jK-N",
        "colab_type": "code",
        "colab": {}
      },
      "source": [
        "ss.loc[400:599,'opt_pred'] = ss.loc[400:599].prob / prob_sum * DSML_left - 0.0000001"
      ],
      "execution_count": 0,
      "outputs": []
    },
    {
      "cell_type": "code",
      "metadata": {
        "id": "5GSZMEyimRXX",
        "colab_type": "code",
        "outputId": "62178132-9dcf-4b85-d0f1-bff90fe33468",
        "colab": {
          "base_uri": "https://localhost:8080/",
          "height": 34
        }
      },
      "source": [
        "len(ss.loc[400:599])"
      ],
      "execution_count": 286,
      "outputs": [
        {
          "output_type": "execute_result",
          "data": {
            "text/plain": [
              "200"
            ]
          },
          "metadata": {
            "tags": []
          },
          "execution_count": 286
        }
      ]
    },
    {
      "cell_type": "code",
      "metadata": {
        "id": "-XIJMXErkUNy",
        "colab_type": "code",
        "outputId": "a292ad1c-d0c7-4af7-b0fd-ce3be9ce958f",
        "colab": {
          "base_uri": "https://localhost:8080/",
          "height": 34
        }
      },
      "source": [
        "sum(ss.loc[400:599].prob / prob_sum * DSML_left - 0.0000001)"
      ],
      "execution_count": 287,
      "outputs": [
        {
          "output_type": "execute_result",
          "data": {
            "text/plain": [
              "9999.999980000011"
            ]
          },
          "metadata": {
            "tags": []
          },
          "execution_count": 287
        }
      ]
    },
    {
      "cell_type": "code",
      "metadata": {
        "id": "T7OQXIA-plhd",
        "colab_type": "code",
        "outputId": "9790d801-2b05-449e-d5c8-ffab3cb4e088",
        "colab": {
          "base_uri": "https://localhost:8080/",
          "height": 204
        }
      },
      "source": [
        "ss.head()"
      ],
      "execution_count": 288,
      "outputs": [
        {
          "output_type": "execute_result",
          "data": {
            "text/html": [
              "<div>\n",
              "<style scoped>\n",
              "    .dataframe tbody tr th:only-of-type {\n",
              "        vertical-align: middle;\n",
              "    }\n",
              "\n",
              "    .dataframe tbody tr th {\n",
              "        vertical-align: top;\n",
              "    }\n",
              "\n",
              "    .dataframe thead th {\n",
              "        text-align: right;\n",
              "    }\n",
              "</style>\n",
              "<table border=\"1\" class=\"dataframe\">\n",
              "  <thead>\n",
              "    <tr style=\"text-align: right;\">\n",
              "      <th></th>\n",
              "      <th>index</th>\n",
              "      <th>Index</th>\n",
              "      <th>pred</th>\n",
              "      <th>opt_pred</th>\n",
              "      <th>eei</th>\n",
              "      <th>prob</th>\n",
              "    </tr>\n",
              "  </thead>\n",
              "  <tbody>\n",
              "    <tr>\n",
              "      <th>0</th>\n",
              "      <td>226</td>\n",
              "      <td>226</td>\n",
              "      <td>0.014944</td>\n",
              "      <td>100.0</td>\n",
              "      <td>0.837247</td>\n",
              "      <td>0.921550</td>\n",
              "    </tr>\n",
              "    <tr>\n",
              "      <th>1</th>\n",
              "      <td>147</td>\n",
              "      <td>147</td>\n",
              "      <td>0.014944</td>\n",
              "      <td>100.0</td>\n",
              "      <td>0.780565</td>\n",
              "      <td>0.921550</td>\n",
              "    </tr>\n",
              "    <tr>\n",
              "      <th>2</th>\n",
              "      <td>49</td>\n",
              "      <td>49</td>\n",
              "      <td>0.016447</td>\n",
              "      <td>100.0</td>\n",
              "      <td>0.671839</td>\n",
              "      <td>0.929483</td>\n",
              "    </tr>\n",
              "    <tr>\n",
              "      <th>3</th>\n",
              "      <td>34</td>\n",
              "      <td>34</td>\n",
              "      <td>0.019692</td>\n",
              "      <td>100.0</td>\n",
              "      <td>0.650696</td>\n",
              "      <td>0.916728</td>\n",
              "    </tr>\n",
              "    <tr>\n",
              "      <th>4</th>\n",
              "      <td>138</td>\n",
              "      <td>138</td>\n",
              "      <td>0.021095</td>\n",
              "      <td>100.0</td>\n",
              "      <td>0.775467</td>\n",
              "      <td>0.916728</td>\n",
              "    </tr>\n",
              "  </tbody>\n",
              "</table>\n",
              "</div>"
            ],
            "text/plain": [
              "   index  Index      pred  opt_pred       eei      prob\n",
              "0    226    226  0.014944     100.0  0.837247  0.921550\n",
              "1    147    147  0.014944     100.0  0.780565  0.921550\n",
              "2     49     49  0.016447     100.0  0.671839  0.929483\n",
              "3     34     34  0.019692     100.0  0.650696  0.916728\n",
              "4    138    138  0.021095     100.0  0.775467  0.916728"
            ]
          },
          "metadata": {
            "tags": []
          },
          "execution_count": 288
        }
      ]
    },
    {
      "cell_type": "code",
      "metadata": {
        "id": "4bKi7qHjlapc",
        "colab_type": "code",
        "outputId": "5bd576ce-838a-4c31-c644-658bc9828184",
        "colab": {
          "base_uri": "https://localhost:8080/",
          "height": 204
        }
      },
      "source": [
        "ss.sort_values(by='index', inplace=True)\n",
        "ss.head()"
      ],
      "execution_count": 289,
      "outputs": [
        {
          "output_type": "execute_result",
          "data": {
            "text/html": [
              "<div>\n",
              "<style scoped>\n",
              "    .dataframe tbody tr th:only-of-type {\n",
              "        vertical-align: middle;\n",
              "    }\n",
              "\n",
              "    .dataframe tbody tr th {\n",
              "        vertical-align: top;\n",
              "    }\n",
              "\n",
              "    .dataframe thead th {\n",
              "        text-align: right;\n",
              "    }\n",
              "</style>\n",
              "<table border=\"1\" class=\"dataframe\">\n",
              "  <thead>\n",
              "    <tr style=\"text-align: right;\">\n",
              "      <th></th>\n",
              "      <th>index</th>\n",
              "      <th>Index</th>\n",
              "      <th>pred</th>\n",
              "      <th>opt_pred</th>\n",
              "      <th>eei</th>\n",
              "      <th>prob</th>\n",
              "    </tr>\n",
              "  </thead>\n",
              "  <tbody>\n",
              "    <tr>\n",
              "      <th>351</th>\n",
              "      <td>0</td>\n",
              "      <td>0</td>\n",
              "      <td>0.046409</td>\n",
              "      <td>100.0</td>\n",
              "      <td>0.456086</td>\n",
              "      <td>0.916728</td>\n",
              "    </tr>\n",
              "    <tr>\n",
              "      <th>223</th>\n",
              "      <td>1</td>\n",
              "      <td>1</td>\n",
              "      <td>0.040470</td>\n",
              "      <td>100.0</td>\n",
              "      <td>0.529835</td>\n",
              "      <td>0.916728</td>\n",
              "    </tr>\n",
              "    <tr>\n",
              "      <th>334</th>\n",
              "      <td>2</td>\n",
              "      <td>2</td>\n",
              "      <td>0.045668</td>\n",
              "      <td>100.0</td>\n",
              "      <td>0.560976</td>\n",
              "      <td>0.916728</td>\n",
              "    </tr>\n",
              "    <tr>\n",
              "      <th>268</th>\n",
              "      <td>3</td>\n",
              "      <td>3</td>\n",
              "      <td>0.042622</td>\n",
              "      <td>100.0</td>\n",
              "      <td>0.565910</td>\n",
              "      <td>0.916728</td>\n",
              "    </tr>\n",
              "    <tr>\n",
              "      <th>157</th>\n",
              "      <td>4</td>\n",
              "      <td>4</td>\n",
              "      <td>0.034494</td>\n",
              "      <td>100.0</td>\n",
              "      <td>0.588274</td>\n",
              "      <td>0.927679</td>\n",
              "    </tr>\n",
              "  </tbody>\n",
              "</table>\n",
              "</div>"
            ],
            "text/plain": [
              "     index  Index      pred  opt_pred       eei      prob\n",
              "351      0      0  0.046409     100.0  0.456086  0.916728\n",
              "223      1      1  0.040470     100.0  0.529835  0.916728\n",
              "334      2      2  0.045668     100.0  0.560976  0.916728\n",
              "268      3      3  0.042622     100.0  0.565910  0.916728\n",
              "157      4      4  0.034494     100.0  0.588274  0.927679"
            ]
          },
          "metadata": {
            "tags": []
          },
          "execution_count": 289
        }
      ]
    },
    {
      "cell_type": "code",
      "metadata": {
        "id": "brEWWMyCT1EP",
        "colab_type": "code",
        "colab": {}
      },
      "source": [
        "increase = (ss['opt_pred']*p2)/1000"
      ],
      "execution_count": 0,
      "outputs": []
    },
    {
      "cell_type": "code",
      "metadata": {
        "id": "pxcH2sE2lrWu",
        "colab_type": "code",
        "outputId": "0b079e8b-1e00-4dfd-ba8a-0ec03038c0f1",
        "colab": {
          "base_uri": "https://localhost:8080/",
          "height": 34
        }
      },
      "source": [
        "print(sum(increase), ss.loc[ss.eei < 0.7, 'opt_pred'].sum(), ss['opt_pred'].sum())"
      ],
      "execution_count": 292,
      "outputs": [
        {
          "output_type": "stream",
          "text": [
            "1757.9939322489663 6469.247912709963 49999.999979999986\n"
          ],
          "name": "stdout"
        }
      ]
    },
    {
      "cell_type": "code",
      "metadata": {
        "id": "OdV8sczrmCOF",
        "colab_type": "code",
        "colab": {}
      },
      "source": [
        "ss[['Index', 'pred', 'opt_pred']].to_csv('submission.csv', index=False)"
      ],
      "execution_count": 0,
      "outputs": []
    },
    {
      "cell_type": "code",
      "metadata": {
        "id": "dYPjud6Yo4AO",
        "colab_type": "code",
        "colab": {}
      },
      "source": [
        ""
      ],
      "execution_count": 0,
      "outputs": []
    }
  ]
}